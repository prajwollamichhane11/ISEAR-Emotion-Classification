{
  "nbformat": 4,
  "nbformat_minor": 0,
  "metadata": {
    "colab": {
      "name": "eda_carads.ipynb",
      "provenance": [],
      "collapsed_sections": []
    },
    "kernelspec": {
      "name": "python3",
      "display_name": "Python 3"
    },
    "accelerator": "GPU"
  },
  "cells": [
    {
      "cell_type": "code",
      "metadata": {
        "id": "eMVmAMbb8Ml1",
        "colab": {
          "base_uri": "https://localhost:8080/"
        },
        "outputId": "cba5ba4a-2b92-4ea6-bb80-303cdb87e6cc"
      },
      "source": [
        "# Mounting the Google Drive\n",
        "from google.colab import drive\n",
        "drive.mount('/content/drive/')"
      ],
      "execution_count": 1,
      "outputs": [
        {
          "output_type": "stream",
          "text": [
            "Drive already mounted at /content/drive/; to attempt to forcibly remount, call drive.mount(\"/content/drive/\", force_remount=True).\n"
          ],
          "name": "stdout"
        }
      ]
    },
    {
      "cell_type": "code",
      "metadata": {
        "id": "93YxhFsj9ywV"
      },
      "source": [
        "import numpy as np\n",
        "import pandas as pd\n",
        "import pandas_profiling\n",
        "import matplotlib.pyplot as plt\n",
        "import seaborn as sns\n",
        "%matplotlib inline\n",
        "\n",
        "sns.set()"
      ],
      "execution_count": 2,
      "outputs": []
    },
    {
      "cell_type": "code",
      "metadata": {
        "colab": {
          "base_uri": "https://localhost:8080/"
        },
        "id": "u6aGSru8_baY",
        "outputId": "640bfb65-1bee-485f-a755-097e55ebee51"
      },
      "source": [
        "df = pd.read_csv(\"drive/My Drive/car_data/car_ads.csv\")"
      ],
      "execution_count": 3,
      "outputs": [
        {
          "output_type": "stream",
          "text": [
            "/usr/local/lib/python3.6/dist-packages/IPython/core/interactiveshell.py:2718: DtypeWarning: Columns (7,8,10,11,12) have mixed types.Specify dtype option on import or set low_memory=False.\n",
            "  interactivity=interactivity, compiler=compiler, result=result)\n"
          ],
          "name": "stderr"
        }
      ]
    },
    {
      "cell_type": "code",
      "metadata": {
        "colab": {
          "base_uri": "https://localhost:8080/",
          "height": 301
        },
        "id": "lv23lqlx_ijh",
        "outputId": "0add432b-0c21-4670-ba9a-0f6fde2d9096"
      },
      "source": [
        "df.head()"
      ],
      "execution_count": 4,
      "outputs": [
        {
          "output_type": "execute_result",
          "data": {
            "text/html": [
              "<div>\n",
              "<style scoped>\n",
              "    .dataframe tbody tr th:only-of-type {\n",
              "        vertical-align: middle;\n",
              "    }\n",
              "\n",
              "    .dataframe tbody tr th {\n",
              "        vertical-align: top;\n",
              "    }\n",
              "\n",
              "    .dataframe thead th {\n",
              "        text-align: right;\n",
              "    }\n",
              "</style>\n",
              "<table border=\"1\" class=\"dataframe\">\n",
              "  <thead>\n",
              "    <tr style=\"text-align: right;\">\n",
              "      <th></th>\n",
              "      <th>maker</th>\n",
              "      <th>model</th>\n",
              "      <th>mileage</th>\n",
              "      <th>manufacture_year</th>\n",
              "      <th>engine_displacement</th>\n",
              "      <th>engine_power</th>\n",
              "      <th>body_type</th>\n",
              "      <th>color_slug</th>\n",
              "      <th>stk_year</th>\n",
              "      <th>transmission</th>\n",
              "      <th>door_count</th>\n",
              "      <th>seat_count</th>\n",
              "      <th>fuel_type</th>\n",
              "      <th>date_created</th>\n",
              "      <th>date_last_seen</th>\n",
              "      <th>price_eur</th>\n",
              "    </tr>\n",
              "  </thead>\n",
              "  <tbody>\n",
              "    <tr>\n",
              "      <th>0</th>\n",
              "      <td>ford</td>\n",
              "      <td>galaxy</td>\n",
              "      <td>151000.0</td>\n",
              "      <td>2011.0</td>\n",
              "      <td>2000.0</td>\n",
              "      <td>103.0</td>\n",
              "      <td>NaN</td>\n",
              "      <td>NaN</td>\n",
              "      <td>None</td>\n",
              "      <td>man</td>\n",
              "      <td>5</td>\n",
              "      <td>7</td>\n",
              "      <td>diesel</td>\n",
              "      <td>2015-11-14 18:10:06.838319+00</td>\n",
              "      <td>2016-01-27 20:40:15.46361+00</td>\n",
              "      <td>10584.75</td>\n",
              "    </tr>\n",
              "    <tr>\n",
              "      <th>1</th>\n",
              "      <td>skoda</td>\n",
              "      <td>octavia</td>\n",
              "      <td>143476.0</td>\n",
              "      <td>2012.0</td>\n",
              "      <td>2000.0</td>\n",
              "      <td>81.0</td>\n",
              "      <td>NaN</td>\n",
              "      <td>NaN</td>\n",
              "      <td>None</td>\n",
              "      <td>man</td>\n",
              "      <td>5</td>\n",
              "      <td>5</td>\n",
              "      <td>diesel</td>\n",
              "      <td>2015-11-14 18:10:06.853411+00</td>\n",
              "      <td>2016-01-27 20:40:15.46361+00</td>\n",
              "      <td>8882.31</td>\n",
              "    </tr>\n",
              "    <tr>\n",
              "      <th>2</th>\n",
              "      <td>bmw</td>\n",
              "      <td>NaN</td>\n",
              "      <td>97676.0</td>\n",
              "      <td>2010.0</td>\n",
              "      <td>1995.0</td>\n",
              "      <td>85.0</td>\n",
              "      <td>NaN</td>\n",
              "      <td>NaN</td>\n",
              "      <td>None</td>\n",
              "      <td>man</td>\n",
              "      <td>5</td>\n",
              "      <td>5</td>\n",
              "      <td>diesel</td>\n",
              "      <td>2015-11-14 18:10:06.861792+00</td>\n",
              "      <td>2016-01-27 20:40:15.46361+00</td>\n",
              "      <td>12065.06</td>\n",
              "    </tr>\n",
              "    <tr>\n",
              "      <th>3</th>\n",
              "      <td>skoda</td>\n",
              "      <td>fabia</td>\n",
              "      <td>111970.0</td>\n",
              "      <td>2004.0</td>\n",
              "      <td>1200.0</td>\n",
              "      <td>47.0</td>\n",
              "      <td>NaN</td>\n",
              "      <td>NaN</td>\n",
              "      <td>None</td>\n",
              "      <td>man</td>\n",
              "      <td>5</td>\n",
              "      <td>5</td>\n",
              "      <td>gasoline</td>\n",
              "      <td>2015-11-14 18:10:06.872313+00</td>\n",
              "      <td>2016-01-27 20:40:15.46361+00</td>\n",
              "      <td>2960.77</td>\n",
              "    </tr>\n",
              "    <tr>\n",
              "      <th>4</th>\n",
              "      <td>skoda</td>\n",
              "      <td>fabia</td>\n",
              "      <td>128886.0</td>\n",
              "      <td>2004.0</td>\n",
              "      <td>1200.0</td>\n",
              "      <td>47.0</td>\n",
              "      <td>NaN</td>\n",
              "      <td>NaN</td>\n",
              "      <td>None</td>\n",
              "      <td>man</td>\n",
              "      <td>5</td>\n",
              "      <td>5</td>\n",
              "      <td>gasoline</td>\n",
              "      <td>2015-11-14 18:10:06.880335+00</td>\n",
              "      <td>2016-01-27 20:40:15.46361+00</td>\n",
              "      <td>2738.71</td>\n",
              "    </tr>\n",
              "  </tbody>\n",
              "</table>\n",
              "</div>"
            ],
            "text/plain": [
              "   maker    model  ...                date_last_seen  price_eur\n",
              "0   ford   galaxy  ...  2016-01-27 20:40:15.46361+00   10584.75\n",
              "1  skoda  octavia  ...  2016-01-27 20:40:15.46361+00    8882.31\n",
              "2    bmw      NaN  ...  2016-01-27 20:40:15.46361+00   12065.06\n",
              "3  skoda    fabia  ...  2016-01-27 20:40:15.46361+00    2960.77\n",
              "4  skoda    fabia  ...  2016-01-27 20:40:15.46361+00    2738.71\n",
              "\n",
              "[5 rows x 16 columns]"
            ]
          },
          "metadata": {
            "tags": []
          },
          "execution_count": 4
        }
      ]
    },
    {
      "cell_type": "code",
      "metadata": {
        "id": "ZBhTBxSo_oCO"
      },
      "source": [
        "columns = df.columns"
      ],
      "execution_count": 5,
      "outputs": []
    },
    {
      "cell_type": "code",
      "metadata": {
        "colab": {
          "base_uri": "https://localhost:8080/"
        },
        "id": "aSQsMWmS_pOa",
        "outputId": "d96acf0c-61dc-48d2-8301-1c4e867769a9"
      },
      "source": [
        "for column in columns:\n",
        "    print(df[column].value_counts())\n",
        "    print(\"___________________________\")\n",
        "    print(\"___________________________\")"
      ],
      "execution_count": 6,
      "outputs": [
        {
          "output_type": "stream",
          "text": [
            "skoda            313830\n",
            "volkswagen       297256\n",
            "bmw              266731\n",
            "mercedes-benz    251966\n",
            "audi             248602\n",
            "ford             240556\n",
            "opel             217708\n",
            "fiat             132669\n",
            "citroen          121913\n",
            "renault          106831\n",
            "peugeot           92130\n",
            "hyundai           80602\n",
            "seat              74645\n",
            "toyota            72908\n",
            "nissan            68008\n",
            "kia               48607\n",
            "volvo             48271\n",
            "mazda             45666\n",
            "mini              35678\n",
            "smart             32918\n",
            "suzuki            31184\n",
            "mitsubishi        28463\n",
            "honda             26225\n",
            "porsche           24317\n",
            "chevrolet         20856\n",
            "rover             20611\n",
            "jeep              17075\n",
            "lancia            13759\n",
            "subaru            10107\n",
            "jaguar            10056\n",
            "chrysler           9296\n",
            "dodge              5223\n",
            "alfa-romeo         4734\n",
            "lexus              3911\n",
            "dacia              2024\n",
            "maserati           1912\n",
            "land-rover         1721\n",
            "isuzu              1427\n",
            "bentley            1081\n",
            "hummer              731\n",
            "lamborghini         554\n",
            "infinity            506\n",
            "lotus               426\n",
            "tesla               235\n",
            "rolls-royce          46\n",
            "aston-martin         22\n",
            "Name: maker, dtype: int64\n",
            "___________________________\n",
            "___________________________\n",
            "octavia    129563\n",
            "fabia       91401\n",
            "golf        91234\n",
            "focus       61137\n",
            "astra       58376\n",
            "            ...  \n",
            "428i            1\n",
            "418i            1\n",
            "c180t           1\n",
            "225i            1\n",
            "760i            1\n",
            "Name: model, Length: 1012, dtype: int64\n",
            "___________________________\n",
            "___________________________\n",
            "0.0         162393\n",
            "10.0        107072\n",
            "1.0          34690\n",
            "100.0        25844\n",
            "5.0          21051\n",
            "             ...  \n",
            "243886.0         1\n",
            "243887.0         1\n",
            "243889.0         1\n",
            "243892.0         1\n",
            "276889.0         1\n",
            "Name: mileage, Length: 248142, dtype: int64\n",
            "___________________________\n",
            "___________________________\n",
            "2015.0    441383\n",
            "2012.0    246152\n",
            "2011.0    219843\n",
            "2014.0    201342\n",
            "2013.0    165305\n",
            "           ...  \n",
            "1544.0         1\n",
            "1549.0         1\n",
            "1555.0         1\n",
            "1557.0         1\n",
            "1553.0         1\n",
            "Name: manufacture_year, Length: 1640, dtype: int64\n",
            "___________________________\n",
            "___________________________\n",
            "1968.0    215375\n",
            "1598.0    208528\n",
            "1995.0    112588\n",
            "1560.0     77824\n",
            "1197.0     76250\n",
            "           ...  \n",
            "8682.0         1\n",
            "8660.0         1\n",
            "8640.0         1\n",
            "8612.0         1\n",
            "2.0            1\n",
            "Name: engine_displacement, Length: 7272, dtype: int64\n",
            "___________________________\n",
            "___________________________\n",
            "103.0    167081\n",
            "110.0    163112\n",
            "77.0     150875\n",
            "66.0     145297\n",
            "55.0     126331\n",
            "          ...  \n",
            "796.0         1\n",
            "800.0         1\n",
            "802.0         1\n",
            "805.0         1\n",
            "511.0         1\n",
            "Name: engine_power, Length: 641, dtype: int64\n",
            "___________________________\n",
            "___________________________\n",
            "other           1964289\n",
            "compact          241948\n",
            "coupe             70576\n",
            "stationwagon      69895\n",
            "van               31300\n",
            "offroad           22549\n",
            "sedan             19669\n",
            "convertible        5332\n",
            "transporter        4440\n",
            "Name: body_type, dtype: int64\n",
            "___________________________\n",
            "___________________________\n",
            "black     42931\n",
            "white     40835\n",
            "blue      37290\n",
            "silver    32091\n",
            "red       20418\n",
            "green      9144\n",
            "brown      8971\n",
            "grey       6590\n",
            "beige      4324\n",
            "yellow     2173\n",
            "gold       1947\n",
            "orange     1741\n",
            "violet      811\n",
            "bronze      235\n",
            "Name: color_slug, dtype: int64\n",
            "___________________________\n",
            "___________________________\n",
            "None      1308651\n",
            "2018.0     169746\n",
            "2017.0     142800\n",
            "2016.0      98793\n",
            "2019.0      41482\n",
            "           ...   \n",
            "7314.0          1\n",
            "7282.0          1\n",
            "6999            1\n",
            "7250.0          1\n",
            "7279.0          1\n",
            "Name: stk_year, Length: 298, dtype: int64\n",
            "___________________________\n",
            "___________________________\n",
            "man     2021990\n",
            "auto     789292\n",
            "Name: transmission, dtype: int64\n",
            "___________________________\n",
            "___________________________\n",
            "5.0     777522\n",
            "4       636217\n",
            "4.0     494524\n",
            "None    475693\n",
            "2       164077\n",
            "2.0     143747\n",
            "5       116562\n",
            "3.0     106527\n",
            "3        14066\n",
            "0.0       8010\n",
            "6.0        906\n",
            "6          347\n",
            "1.0        259\n",
            "7.0         41\n",
            "1           14\n",
            "55.0         9\n",
            "9.0          4\n",
            "8.0          3\n",
            "58.0         3\n",
            "7            2\n",
            "54.0         1\n",
            "49.0         1\n",
            "22.0         1\n",
            "17.0         1\n",
            "77.0         1\n",
            "45.0         1\n",
            "Name: door_count, dtype: int64\n",
            "___________________________\n",
            "___________________________\n",
            "5.0      1084557\n",
            "5         683311\n",
            "None      537610\n",
            "4.0       147294\n",
            "4          97503\n",
            "          ...   \n",
            "26.0           1\n",
            "24.0           1\n",
            "85.0           1\n",
            "59.0           1\n",
            "138.0          1\n",
            "Name: seat_count, Length: 88, dtype: int64\n",
            "___________________________\n",
            "___________________________\n",
            "gasoline    902222\n",
            "diesel      768207\n",
            "electric     26350\n",
            "lpg           7403\n",
            "cng           1124\n",
            "Name: fuel_type, dtype: int64\n",
            "___________________________\n",
            "___________________________\n",
            "2015-11-14 20:45:59.727599+00    1\n",
            "2016-03-26 10:00:57.21071+00     1\n",
            "2016-03-02 20:42:35.904667+00    1\n",
            "2016-02-18 18:00:59.324078+00    1\n",
            "2016-01-10 01:32:15.173382+00    1\n",
            "                                ..\n",
            "2017-01-13 16:08:02.078727+00    1\n",
            "2016-02-26 06:37:52.970155+00    1\n",
            "2016-11-25 16:00:25.184224+00    1\n",
            "2016-03-04 07:03:39.183241+00    1\n",
            "2016-03-08 03:46:37.828642+00    1\n",
            "Name: date_created, Length: 3552912, dtype: int64\n",
            "___________________________\n",
            "___________________________\n",
            "2016-01-27 20:40:15.46361+00     197856\n",
            "2016-11-15 06:09:33.428037+00         1\n",
            "2016-07-03 18:53:09.057883+00         1\n",
            "2016-07-03 18:14:03.189473+00         1\n",
            "2016-07-03 19:05:42.017134+00         1\n",
            "                                  ...  \n",
            "2016-07-03 18:11:04.998911+00         1\n",
            "2016-07-03 17:21:00.198083+00         1\n",
            "2016-01-19 21:44:43.397857+00         1\n",
            "2017-03-16 01:13:57.013886+00         1\n",
            "2016-07-03 18:39:30.303699+00         1\n",
            "Name: date_last_seen, Length: 3355057, dtype: int64\n",
            "___________________________\n",
            "___________________________\n",
            "1295.34     673623\n",
            "9900.00       6609\n",
            "10900.00      6497\n",
            "12900.00      6274\n",
            "11900.00      6169\n",
            "             ...  \n",
            "19978.76         1\n",
            "10202.07         1\n",
            "18884.72         1\n",
            "31003.00         1\n",
            "21798.45         1\n",
            "Name: price_eur, Length: 227305, dtype: int64\n",
            "___________________________\n",
            "___________________________\n"
          ],
          "name": "stdout"
        }
      ]
    },
    {
      "cell_type": "code",
      "metadata": {
        "colab": {
          "base_uri": "https://localhost:8080/"
        },
        "id": "qXlbauh8_qaY",
        "outputId": "15b1fca2-7571-41f6-89de-ea6f34feb785"
      },
      "source": [
        "df.info()"
      ],
      "execution_count": 7,
      "outputs": [
        {
          "output_type": "stream",
          "text": [
            "<class 'pandas.core.frame.DataFrame'>\n",
            "RangeIndex: 3552912 entries, 0 to 3552911\n",
            "Data columns (total 16 columns):\n",
            " #   Column               Dtype  \n",
            "---  ------               -----  \n",
            " 0   maker                object \n",
            " 1   model                object \n",
            " 2   mileage              float64\n",
            " 3   manufacture_year     float64\n",
            " 4   engine_displacement  float64\n",
            " 5   engine_power         float64\n",
            " 6   body_type            object \n",
            " 7   color_slug           object \n",
            " 8   stk_year             object \n",
            " 9   transmission         object \n",
            " 10  door_count           object \n",
            " 11  seat_count           object \n",
            " 12  fuel_type            object \n",
            " 13  date_created         object \n",
            " 14  date_last_seen       object \n",
            " 15  price_eur            float64\n",
            "dtypes: float64(5), object(11)\n",
            "memory usage: 433.7+ MB\n"
          ],
          "name": "stdout"
        }
      ]
    },
    {
      "cell_type": "code",
      "metadata": {
        "colab": {
          "base_uri": "https://localhost:8080/",
          "height": 287
        },
        "id": "B7HlWJkC_tzq",
        "outputId": "be828d3f-9e6a-49c6-a506-5857540e921d"
      },
      "source": [
        "df.describe()"
      ],
      "execution_count": 8,
      "outputs": [
        {
          "output_type": "execute_result",
          "data": {
            "text/html": [
              "<div>\n",
              "<style scoped>\n",
              "    .dataframe tbody tr th:only-of-type {\n",
              "        vertical-align: middle;\n",
              "    }\n",
              "\n",
              "    .dataframe tbody tr th {\n",
              "        vertical-align: top;\n",
              "    }\n",
              "\n",
              "    .dataframe thead th {\n",
              "        text-align: right;\n",
              "    }\n",
              "</style>\n",
              "<table border=\"1\" class=\"dataframe\">\n",
              "  <thead>\n",
              "    <tr style=\"text-align: right;\">\n",
              "      <th></th>\n",
              "      <th>mileage</th>\n",
              "      <th>manufacture_year</th>\n",
              "      <th>engine_displacement</th>\n",
              "      <th>engine_power</th>\n",
              "      <th>price_eur</th>\n",
              "    </tr>\n",
              "  </thead>\n",
              "  <tbody>\n",
              "    <tr>\n",
              "      <th>count</th>\n",
              "      <td>3.190328e+06</td>\n",
              "      <td>3.182334e+06</td>\n",
              "      <td>2.809498e+06</td>\n",
              "      <td>2.998035e+06</td>\n",
              "      <td>3.552912e+06</td>\n",
              "    </tr>\n",
              "    <tr>\n",
              "      <th>mean</th>\n",
              "      <td>1.158140e+05</td>\n",
              "      <td>2.000871e+03</td>\n",
              "      <td>2.043958e+03</td>\n",
              "      <td>9.846796e+01</td>\n",
              "      <td>1.625812e+06</td>\n",
              "    </tr>\n",
              "    <tr>\n",
              "      <th>std</th>\n",
              "      <td>3.422508e+05</td>\n",
              "      <td>8.172588e+01</td>\n",
              "      <td>1.973958e+03</td>\n",
              "      <td>4.907309e+01</td>\n",
              "      <td>2.025622e+09</td>\n",
              "    </tr>\n",
              "    <tr>\n",
              "      <th>min</th>\n",
              "      <td>0.000000e+00</td>\n",
              "      <td>0.000000e+00</td>\n",
              "      <td>0.000000e+00</td>\n",
              "      <td>1.000000e+00</td>\n",
              "      <td>4.000000e-02</td>\n",
              "    </tr>\n",
              "    <tr>\n",
              "      <th>25%</th>\n",
              "      <td>1.880000e+04</td>\n",
              "      <td>2.004000e+03</td>\n",
              "      <td>1.400000e+03</td>\n",
              "      <td>6.800000e+01</td>\n",
              "      <td>1.295340e+03</td>\n",
              "    </tr>\n",
              "    <tr>\n",
              "      <th>50%</th>\n",
              "      <td>8.641500e+04</td>\n",
              "      <td>2.009000e+03</td>\n",
              "      <td>1.798000e+03</td>\n",
              "      <td>8.600000e+01</td>\n",
              "      <td>7.364910e+03</td>\n",
              "    </tr>\n",
              "    <tr>\n",
              "      <th>75%</th>\n",
              "      <td>1.580250e+05</td>\n",
              "      <td>2.013000e+03</td>\n",
              "      <td>1.997000e+03</td>\n",
              "      <td>1.100000e+02</td>\n",
              "      <td>1.628423e+04</td>\n",
              "    </tr>\n",
              "    <tr>\n",
              "      <th>max</th>\n",
              "      <td>9.999999e+06</td>\n",
              "      <td>2.017000e+03</td>\n",
              "      <td>3.276700e+04</td>\n",
              "      <td>2.237000e+03</td>\n",
              "      <td>2.706149e+12</td>\n",
              "    </tr>\n",
              "  </tbody>\n",
              "</table>\n",
              "</div>"
            ],
            "text/plain": [
              "            mileage  manufacture_year  ...  engine_power     price_eur\n",
              "count  3.190328e+06      3.182334e+06  ...  2.998035e+06  3.552912e+06\n",
              "mean   1.158140e+05      2.000871e+03  ...  9.846796e+01  1.625812e+06\n",
              "std    3.422508e+05      8.172588e+01  ...  4.907309e+01  2.025622e+09\n",
              "min    0.000000e+00      0.000000e+00  ...  1.000000e+00  4.000000e-02\n",
              "25%    1.880000e+04      2.004000e+03  ...  6.800000e+01  1.295340e+03\n",
              "50%    8.641500e+04      2.009000e+03  ...  8.600000e+01  7.364910e+03\n",
              "75%    1.580250e+05      2.013000e+03  ...  1.100000e+02  1.628423e+04\n",
              "max    9.999999e+06      2.017000e+03  ...  2.237000e+03  2.706149e+12\n",
              "\n",
              "[8 rows x 5 columns]"
            ]
          },
          "metadata": {
            "tags": []
          },
          "execution_count": 8
        }
      ]
    },
    {
      "cell_type": "code",
      "metadata": {
        "colab": {
          "base_uri": "https://localhost:8080/"
        },
        "id": "-T5Q2F-2_u3S",
        "outputId": "2e1a1a75-2ebc-43b3-8ea9-52cd825309ed"
      },
      "source": [
        "df.isna().sum()"
      ],
      "execution_count": 9,
      "outputs": [
        {
          "output_type": "execute_result",
          "data": {
            "text/plain": [
              "maker                   518915\n",
              "model                  1133361\n",
              "mileage                 362584\n",
              "manufacture_year        370578\n",
              "engine_displacement     743414\n",
              "engine_power            554877\n",
              "body_type              1122914\n",
              "color_slug             3343411\n",
              "stk_year               1708156\n",
              "transmission            741630\n",
              "door_count              614373\n",
              "seat_count              749489\n",
              "fuel_type              1847606\n",
              "date_created                 0\n",
              "date_last_seen               0\n",
              "price_eur                    0\n",
              "dtype: int64"
            ]
          },
          "metadata": {
            "tags": []
          },
          "execution_count": 9
        }
      ]
    },
    {
      "cell_type": "code",
      "metadata": {
        "id": "vUS40q-6_wS5"
      },
      "source": [
        "df.drop([\"fuel_type\",\"stk_year\",\"color_slug\",\"body_type\"], inplace=True, axis=1)"
      ],
      "execution_count": 10,
      "outputs": []
    },
    {
      "cell_type": "code",
      "metadata": {
        "colab": {
          "base_uri": "https://localhost:8080/",
          "height": 281
        },
        "id": "hRsC5RWd_xgy",
        "outputId": "d965fb8f-d07c-47dc-f47f-1860acd3b7a1"
      },
      "source": [
        "df.head()"
      ],
      "execution_count": 11,
      "outputs": [
        {
          "output_type": "execute_result",
          "data": {
            "text/html": [
              "<div>\n",
              "<style scoped>\n",
              "    .dataframe tbody tr th:only-of-type {\n",
              "        vertical-align: middle;\n",
              "    }\n",
              "\n",
              "    .dataframe tbody tr th {\n",
              "        vertical-align: top;\n",
              "    }\n",
              "\n",
              "    .dataframe thead th {\n",
              "        text-align: right;\n",
              "    }\n",
              "</style>\n",
              "<table border=\"1\" class=\"dataframe\">\n",
              "  <thead>\n",
              "    <tr style=\"text-align: right;\">\n",
              "      <th></th>\n",
              "      <th>maker</th>\n",
              "      <th>model</th>\n",
              "      <th>mileage</th>\n",
              "      <th>manufacture_year</th>\n",
              "      <th>engine_displacement</th>\n",
              "      <th>engine_power</th>\n",
              "      <th>transmission</th>\n",
              "      <th>door_count</th>\n",
              "      <th>seat_count</th>\n",
              "      <th>date_created</th>\n",
              "      <th>date_last_seen</th>\n",
              "      <th>price_eur</th>\n",
              "    </tr>\n",
              "  </thead>\n",
              "  <tbody>\n",
              "    <tr>\n",
              "      <th>0</th>\n",
              "      <td>ford</td>\n",
              "      <td>galaxy</td>\n",
              "      <td>151000.0</td>\n",
              "      <td>2011.0</td>\n",
              "      <td>2000.0</td>\n",
              "      <td>103.0</td>\n",
              "      <td>man</td>\n",
              "      <td>5</td>\n",
              "      <td>7</td>\n",
              "      <td>2015-11-14 18:10:06.838319+00</td>\n",
              "      <td>2016-01-27 20:40:15.46361+00</td>\n",
              "      <td>10584.75</td>\n",
              "    </tr>\n",
              "    <tr>\n",
              "      <th>1</th>\n",
              "      <td>skoda</td>\n",
              "      <td>octavia</td>\n",
              "      <td>143476.0</td>\n",
              "      <td>2012.0</td>\n",
              "      <td>2000.0</td>\n",
              "      <td>81.0</td>\n",
              "      <td>man</td>\n",
              "      <td>5</td>\n",
              "      <td>5</td>\n",
              "      <td>2015-11-14 18:10:06.853411+00</td>\n",
              "      <td>2016-01-27 20:40:15.46361+00</td>\n",
              "      <td>8882.31</td>\n",
              "    </tr>\n",
              "    <tr>\n",
              "      <th>2</th>\n",
              "      <td>bmw</td>\n",
              "      <td>NaN</td>\n",
              "      <td>97676.0</td>\n",
              "      <td>2010.0</td>\n",
              "      <td>1995.0</td>\n",
              "      <td>85.0</td>\n",
              "      <td>man</td>\n",
              "      <td>5</td>\n",
              "      <td>5</td>\n",
              "      <td>2015-11-14 18:10:06.861792+00</td>\n",
              "      <td>2016-01-27 20:40:15.46361+00</td>\n",
              "      <td>12065.06</td>\n",
              "    </tr>\n",
              "    <tr>\n",
              "      <th>3</th>\n",
              "      <td>skoda</td>\n",
              "      <td>fabia</td>\n",
              "      <td>111970.0</td>\n",
              "      <td>2004.0</td>\n",
              "      <td>1200.0</td>\n",
              "      <td>47.0</td>\n",
              "      <td>man</td>\n",
              "      <td>5</td>\n",
              "      <td>5</td>\n",
              "      <td>2015-11-14 18:10:06.872313+00</td>\n",
              "      <td>2016-01-27 20:40:15.46361+00</td>\n",
              "      <td>2960.77</td>\n",
              "    </tr>\n",
              "    <tr>\n",
              "      <th>4</th>\n",
              "      <td>skoda</td>\n",
              "      <td>fabia</td>\n",
              "      <td>128886.0</td>\n",
              "      <td>2004.0</td>\n",
              "      <td>1200.0</td>\n",
              "      <td>47.0</td>\n",
              "      <td>man</td>\n",
              "      <td>5</td>\n",
              "      <td>5</td>\n",
              "      <td>2015-11-14 18:10:06.880335+00</td>\n",
              "      <td>2016-01-27 20:40:15.46361+00</td>\n",
              "      <td>2738.71</td>\n",
              "    </tr>\n",
              "  </tbody>\n",
              "</table>\n",
              "</div>"
            ],
            "text/plain": [
              "   maker    model  ...                date_last_seen  price_eur\n",
              "0   ford   galaxy  ...  2016-01-27 20:40:15.46361+00   10584.75\n",
              "1  skoda  octavia  ...  2016-01-27 20:40:15.46361+00    8882.31\n",
              "2    bmw      NaN  ...  2016-01-27 20:40:15.46361+00   12065.06\n",
              "3  skoda    fabia  ...  2016-01-27 20:40:15.46361+00    2960.77\n",
              "4  skoda    fabia  ...  2016-01-27 20:40:15.46361+00    2738.71\n",
              "\n",
              "[5 rows x 12 columns]"
            ]
          },
          "metadata": {
            "tags": []
          },
          "execution_count": 11
        }
      ]
    },
    {
      "cell_type": "code",
      "metadata": {
        "colab": {
          "base_uri": "https://localhost:8080/"
        },
        "id": "NeQjcLnQ_yaZ",
        "outputId": "9fda90b9-20ad-4ded-ad86-0b9ad025499e"
      },
      "source": [
        "df.shape"
      ],
      "execution_count": 12,
      "outputs": [
        {
          "output_type": "execute_result",
          "data": {
            "text/plain": [
              "(3552912, 12)"
            ]
          },
          "metadata": {
            "tags": []
          },
          "execution_count": 12
        }
      ]
    },
    {
      "cell_type": "code",
      "metadata": {
        "id": "9JuVsfsk_zab"
      },
      "source": [
        "df.seat_count.replace(\"None\",0, inplace=True)"
      ],
      "execution_count": 13,
      "outputs": []
    },
    {
      "cell_type": "code",
      "metadata": {
        "colab": {
          "base_uri": "https://localhost:8080/",
          "height": 287
        },
        "id": "qcQ218Dp_2Iq",
        "outputId": "e3c54138-a7c9-4f33-d3bb-e226ad02ab3c"
      },
      "source": [
        "df.describe()"
      ],
      "execution_count": 14,
      "outputs": [
        {
          "output_type": "execute_result",
          "data": {
            "text/html": [
              "<div>\n",
              "<style scoped>\n",
              "    .dataframe tbody tr th:only-of-type {\n",
              "        vertical-align: middle;\n",
              "    }\n",
              "\n",
              "    .dataframe tbody tr th {\n",
              "        vertical-align: top;\n",
              "    }\n",
              "\n",
              "    .dataframe thead th {\n",
              "        text-align: right;\n",
              "    }\n",
              "</style>\n",
              "<table border=\"1\" class=\"dataframe\">\n",
              "  <thead>\n",
              "    <tr style=\"text-align: right;\">\n",
              "      <th></th>\n",
              "      <th>mileage</th>\n",
              "      <th>manufacture_year</th>\n",
              "      <th>engine_displacement</th>\n",
              "      <th>engine_power</th>\n",
              "      <th>price_eur</th>\n",
              "    </tr>\n",
              "  </thead>\n",
              "  <tbody>\n",
              "    <tr>\n",
              "      <th>count</th>\n",
              "      <td>3.190328e+06</td>\n",
              "      <td>3.182334e+06</td>\n",
              "      <td>2.809498e+06</td>\n",
              "      <td>2.998035e+06</td>\n",
              "      <td>3.552912e+06</td>\n",
              "    </tr>\n",
              "    <tr>\n",
              "      <th>mean</th>\n",
              "      <td>1.158140e+05</td>\n",
              "      <td>2.000871e+03</td>\n",
              "      <td>2.043958e+03</td>\n",
              "      <td>9.846796e+01</td>\n",
              "      <td>1.625812e+06</td>\n",
              "    </tr>\n",
              "    <tr>\n",
              "      <th>std</th>\n",
              "      <td>3.422508e+05</td>\n",
              "      <td>8.172588e+01</td>\n",
              "      <td>1.973958e+03</td>\n",
              "      <td>4.907309e+01</td>\n",
              "      <td>2.025622e+09</td>\n",
              "    </tr>\n",
              "    <tr>\n",
              "      <th>min</th>\n",
              "      <td>0.000000e+00</td>\n",
              "      <td>0.000000e+00</td>\n",
              "      <td>0.000000e+00</td>\n",
              "      <td>1.000000e+00</td>\n",
              "      <td>4.000000e-02</td>\n",
              "    </tr>\n",
              "    <tr>\n",
              "      <th>25%</th>\n",
              "      <td>1.880000e+04</td>\n",
              "      <td>2.004000e+03</td>\n",
              "      <td>1.400000e+03</td>\n",
              "      <td>6.800000e+01</td>\n",
              "      <td>1.295340e+03</td>\n",
              "    </tr>\n",
              "    <tr>\n",
              "      <th>50%</th>\n",
              "      <td>8.641500e+04</td>\n",
              "      <td>2.009000e+03</td>\n",
              "      <td>1.798000e+03</td>\n",
              "      <td>8.600000e+01</td>\n",
              "      <td>7.364910e+03</td>\n",
              "    </tr>\n",
              "    <tr>\n",
              "      <th>75%</th>\n",
              "      <td>1.580250e+05</td>\n",
              "      <td>2.013000e+03</td>\n",
              "      <td>1.997000e+03</td>\n",
              "      <td>1.100000e+02</td>\n",
              "      <td>1.628423e+04</td>\n",
              "    </tr>\n",
              "    <tr>\n",
              "      <th>max</th>\n",
              "      <td>9.999999e+06</td>\n",
              "      <td>2.017000e+03</td>\n",
              "      <td>3.276700e+04</td>\n",
              "      <td>2.237000e+03</td>\n",
              "      <td>2.706149e+12</td>\n",
              "    </tr>\n",
              "  </tbody>\n",
              "</table>\n",
              "</div>"
            ],
            "text/plain": [
              "            mileage  manufacture_year  ...  engine_power     price_eur\n",
              "count  3.190328e+06      3.182334e+06  ...  2.998035e+06  3.552912e+06\n",
              "mean   1.158140e+05      2.000871e+03  ...  9.846796e+01  1.625812e+06\n",
              "std    3.422508e+05      8.172588e+01  ...  4.907309e+01  2.025622e+09\n",
              "min    0.000000e+00      0.000000e+00  ...  1.000000e+00  4.000000e-02\n",
              "25%    1.880000e+04      2.004000e+03  ...  6.800000e+01  1.295340e+03\n",
              "50%    8.641500e+04      2.009000e+03  ...  8.600000e+01  7.364910e+03\n",
              "75%    1.580250e+05      2.013000e+03  ...  1.100000e+02  1.628423e+04\n",
              "max    9.999999e+06      2.017000e+03  ...  2.237000e+03  2.706149e+12\n",
              "\n",
              "[8 rows x 5 columns]"
            ]
          },
          "metadata": {
            "tags": []
          },
          "execution_count": 14
        }
      ]
    },
    {
      "cell_type": "code",
      "metadata": {
        "colab": {
          "base_uri": "https://localhost:8080/"
        },
        "id": "JTY5-LmPDkhO",
        "outputId": "45c48d76-b948-4650-a501-9da8313c2291"
      },
      "source": [
        "df.dtypes"
      ],
      "execution_count": 15,
      "outputs": [
        {
          "output_type": "execute_result",
          "data": {
            "text/plain": [
              "maker                   object\n",
              "model                   object\n",
              "mileage                float64\n",
              "manufacture_year       float64\n",
              "engine_displacement    float64\n",
              "engine_power           float64\n",
              "transmission            object\n",
              "door_count              object\n",
              "seat_count              object\n",
              "date_created            object\n",
              "date_last_seen          object\n",
              "price_eur              float64\n",
              "dtype: object"
            ]
          },
          "metadata": {
            "tags": []
          },
          "execution_count": 15
        }
      ]
    },
    {
      "cell_type": "code",
      "metadata": {
        "id": "A5ZyPtxFEui3"
      },
      "source": [
        ""
      ],
      "execution_count": 15,
      "outputs": []
    },
    {
      "cell_type": "markdown",
      "metadata": {
        "id": "_YYBq88YFOL7"
      },
      "source": [
        "## Maker and Model"
      ]
    },
    {
      "cell_type": "code",
      "metadata": {
        "colab": {
          "base_uri": "https://localhost:8080/"
        },
        "id": "WRbgSx0YFPfS",
        "outputId": "34b366ed-b30e-4a93-b490-7ab215594293"
      },
      "source": [
        "df.maker.unique()"
      ],
      "execution_count": 16,
      "outputs": [
        {
          "output_type": "execute_result",
          "data": {
            "text/plain": [
              "array(['ford', 'skoda', 'bmw', nan, 'suzuki', 'nissan', 'opel', 'citroen',\n",
              "       'seat', 'kia', 'audi', 'rover', 'toyota', 'hyundai', 'fiat',\n",
              "       'volvo', 'chevrolet', 'mazda', 'jeep', 'mercedes-benz', 'subaru',\n",
              "       'chrysler', 'lancia', 'smart', 'honda', 'porsche', 'dodge',\n",
              "       'mitsubishi', 'mini', 'jaguar', 'lexus', 'hummer', 'bentley',\n",
              "       'tesla', 'maserati', 'isuzu', 'lamborghini', 'lotus', 'volkswagen',\n",
              "       'peugeot', 'renault', 'alfa-romeo', 'infinity', 'rolls-royce',\n",
              "       'aston-martin', 'land-rover', 'dacia'], dtype=object)"
            ]
          },
          "metadata": {
            "tags": []
          },
          "execution_count": 16
        }
      ]
    },
    {
      "cell_type": "code",
      "metadata": {
        "colab": {
          "base_uri": "https://localhost:8080/"
        },
        "id": "WAXHahenFh7h",
        "outputId": "cfb94eaa-dd4d-4b04-eb4b-d2a82df3f179"
      },
      "source": [
        "df.maker.value_counts()"
      ],
      "execution_count": 17,
      "outputs": [
        {
          "output_type": "execute_result",
          "data": {
            "text/plain": [
              "skoda            313830\n",
              "volkswagen       297256\n",
              "bmw              266731\n",
              "mercedes-benz    251966\n",
              "audi             248602\n",
              "ford             240556\n",
              "opel             217708\n",
              "fiat             132669\n",
              "citroen          121913\n",
              "renault          106831\n",
              "peugeot           92130\n",
              "hyundai           80602\n",
              "seat              74645\n",
              "toyota            72908\n",
              "nissan            68008\n",
              "kia               48607\n",
              "volvo             48271\n",
              "mazda             45666\n",
              "mini              35678\n",
              "smart             32918\n",
              "suzuki            31184\n",
              "mitsubishi        28463\n",
              "honda             26225\n",
              "porsche           24317\n",
              "chevrolet         20856\n",
              "rover             20611\n",
              "jeep              17075\n",
              "lancia            13759\n",
              "subaru            10107\n",
              "jaguar            10056\n",
              "chrysler           9296\n",
              "dodge              5223\n",
              "alfa-romeo         4734\n",
              "lexus              3911\n",
              "dacia              2024\n",
              "maserati           1912\n",
              "land-rover         1721\n",
              "isuzu              1427\n",
              "bentley            1081\n",
              "hummer              731\n",
              "lamborghini         554\n",
              "infinity            506\n",
              "lotus               426\n",
              "tesla               235\n",
              "rolls-royce          46\n",
              "aston-martin         22\n",
              "Name: maker, dtype: int64"
            ]
          },
          "metadata": {
            "tags": []
          },
          "execution_count": 17
        }
      ]
    },
    {
      "cell_type": "code",
      "metadata": {
        "colab": {
          "base_uri": "https://localhost:8080/"
        },
        "id": "AgZkCM8wFQ_m",
        "outputId": "24bcb559-c232-4bfa-bfba-a950ef41621d"
      },
      "source": [
        "df.model.unique()"
      ],
      "execution_count": 18,
      "outputs": [
        {
          "output_type": "execute_result",
          "data": {
            "text/plain": [
              "array(['galaxy', 'octavia', nan, ..., '125d', 'glk200-cdi', '760i'],\n",
              "      dtype=object)"
            ]
          },
          "metadata": {
            "tags": []
          },
          "execution_count": 18
        }
      ]
    },
    {
      "cell_type": "code",
      "metadata": {
        "colab": {
          "base_uri": "https://localhost:8080/"
        },
        "id": "BbckpcoHFZed",
        "outputId": "519931cb-7bcd-4950-9dd2-94ebc2c9f2a0"
      },
      "source": [
        "df.maker.isna().sum()"
      ],
      "execution_count": 19,
      "outputs": [
        {
          "output_type": "execute_result",
          "data": {
            "text/plain": [
              "518915"
            ]
          },
          "metadata": {
            "tags": []
          },
          "execution_count": 19
        }
      ]
    },
    {
      "cell_type": "code",
      "metadata": {
        "colab": {
          "base_uri": "https://localhost:8080/"
        },
        "id": "ero5W-dQFc96",
        "outputId": "f6667365-2e01-45d0-9e98-977b0a325070"
      },
      "source": [
        "df.model.isna().sum()"
      ],
      "execution_count": 20,
      "outputs": [
        {
          "output_type": "execute_result",
          "data": {
            "text/plain": [
              "1133361"
            ]
          },
          "metadata": {
            "tags": []
          },
          "execution_count": 20
        }
      ]
    },
    {
      "cell_type": "code",
      "metadata": {
        "id": "dL6W-5RnFSEV"
      },
      "source": [
        "df = df[df[\"maker\"].isna() | df[\"model\"].isna() == False]"
      ],
      "execution_count": 21,
      "outputs": []
    },
    {
      "cell_type": "code",
      "metadata": {
        "id": "6l-9DMSXGPVm"
      },
      "source": [
        "df[\"car\"] = df[\"maker\"] +\"-\"+ df[\"model\"]"
      ],
      "execution_count": 22,
      "outputs": []
    },
    {
      "cell_type": "code",
      "metadata": {
        "id": "Z1rMKNM1HXGt"
      },
      "source": [
        "df.drop([\"maker\", \"model\"], axis=1, inplace=True)"
      ],
      "execution_count": 23,
      "outputs": []
    },
    {
      "cell_type": "code",
      "metadata": {
        "colab": {
          "base_uri": "https://localhost:8080/",
          "height": 281
        },
        "id": "bkIxUZs5HZJE",
        "outputId": "d84f59ea-1bca-4cd8-984d-e33e7e52f9b8"
      },
      "source": [
        "df.head()"
      ],
      "execution_count": 24,
      "outputs": [
        {
          "output_type": "execute_result",
          "data": {
            "text/html": [
              "<div>\n",
              "<style scoped>\n",
              "    .dataframe tbody tr th:only-of-type {\n",
              "        vertical-align: middle;\n",
              "    }\n",
              "\n",
              "    .dataframe tbody tr th {\n",
              "        vertical-align: top;\n",
              "    }\n",
              "\n",
              "    .dataframe thead th {\n",
              "        text-align: right;\n",
              "    }\n",
              "</style>\n",
              "<table border=\"1\" class=\"dataframe\">\n",
              "  <thead>\n",
              "    <tr style=\"text-align: right;\">\n",
              "      <th></th>\n",
              "      <th>mileage</th>\n",
              "      <th>manufacture_year</th>\n",
              "      <th>engine_displacement</th>\n",
              "      <th>engine_power</th>\n",
              "      <th>transmission</th>\n",
              "      <th>door_count</th>\n",
              "      <th>seat_count</th>\n",
              "      <th>date_created</th>\n",
              "      <th>date_last_seen</th>\n",
              "      <th>price_eur</th>\n",
              "      <th>car</th>\n",
              "    </tr>\n",
              "  </thead>\n",
              "  <tbody>\n",
              "    <tr>\n",
              "      <th>0</th>\n",
              "      <td>151000.0</td>\n",
              "      <td>2011.0</td>\n",
              "      <td>2000.0</td>\n",
              "      <td>103.0</td>\n",
              "      <td>man</td>\n",
              "      <td>5</td>\n",
              "      <td>7</td>\n",
              "      <td>2015-11-14 18:10:06.838319+00</td>\n",
              "      <td>2016-01-27 20:40:15.46361+00</td>\n",
              "      <td>10584.75</td>\n",
              "      <td>ford-galaxy</td>\n",
              "    </tr>\n",
              "    <tr>\n",
              "      <th>1</th>\n",
              "      <td>143476.0</td>\n",
              "      <td>2012.0</td>\n",
              "      <td>2000.0</td>\n",
              "      <td>81.0</td>\n",
              "      <td>man</td>\n",
              "      <td>5</td>\n",
              "      <td>5</td>\n",
              "      <td>2015-11-14 18:10:06.853411+00</td>\n",
              "      <td>2016-01-27 20:40:15.46361+00</td>\n",
              "      <td>8882.31</td>\n",
              "      <td>skoda-octavia</td>\n",
              "    </tr>\n",
              "    <tr>\n",
              "      <th>3</th>\n",
              "      <td>111970.0</td>\n",
              "      <td>2004.0</td>\n",
              "      <td>1200.0</td>\n",
              "      <td>47.0</td>\n",
              "      <td>man</td>\n",
              "      <td>5</td>\n",
              "      <td>5</td>\n",
              "      <td>2015-11-14 18:10:06.872313+00</td>\n",
              "      <td>2016-01-27 20:40:15.46361+00</td>\n",
              "      <td>2960.77</td>\n",
              "      <td>skoda-fabia</td>\n",
              "    </tr>\n",
              "    <tr>\n",
              "      <th>4</th>\n",
              "      <td>128886.0</td>\n",
              "      <td>2004.0</td>\n",
              "      <td>1200.0</td>\n",
              "      <td>47.0</td>\n",
              "      <td>man</td>\n",
              "      <td>5</td>\n",
              "      <td>5</td>\n",
              "      <td>2015-11-14 18:10:06.880335+00</td>\n",
              "      <td>2016-01-27 20:40:15.46361+00</td>\n",
              "      <td>2738.71</td>\n",
              "      <td>skoda-fabia</td>\n",
              "    </tr>\n",
              "    <tr>\n",
              "      <th>5</th>\n",
              "      <td>140932.0</td>\n",
              "      <td>2003.0</td>\n",
              "      <td>1200.0</td>\n",
              "      <td>40.0</td>\n",
              "      <td>man</td>\n",
              "      <td>5</td>\n",
              "      <td>5</td>\n",
              "      <td>2015-11-14 18:10:06.894643+00</td>\n",
              "      <td>2016-01-27 20:40:15.46361+00</td>\n",
              "      <td>1628.42</td>\n",
              "      <td>skoda-fabia</td>\n",
              "    </tr>\n",
              "  </tbody>\n",
              "</table>\n",
              "</div>"
            ],
            "text/plain": [
              "    mileage  manufacture_year  ...  price_eur            car\n",
              "0  151000.0            2011.0  ...   10584.75    ford-galaxy\n",
              "1  143476.0            2012.0  ...    8882.31  skoda-octavia\n",
              "3  111970.0            2004.0  ...    2960.77    skoda-fabia\n",
              "4  128886.0            2004.0  ...    2738.71    skoda-fabia\n",
              "5  140932.0            2003.0  ...    1628.42    skoda-fabia\n",
              "\n",
              "[5 rows x 11 columns]"
            ]
          },
          "metadata": {
            "tags": []
          },
          "execution_count": 24
        }
      ]
    },
    {
      "cell_type": "markdown",
      "metadata": {
        "id": "2cDlrRYqIfYe"
      },
      "source": [
        "## Date Time\n",
        "* Created - Last Seen = Total ad duration"
      ]
    },
    {
      "cell_type": "code",
      "metadata": {
        "id": "XGaJfM2dIZzq"
      },
      "source": [
        "df['date_created'] = pd.to_datetime(df['date_created']).dt.normalize()\n",
        "df['date_last_seen'] = pd.to_datetime(df['date_last_seen']).dt.normalize()\n",
        "df['time_diff'] = (df['date_last_seen'] - df['date_created']).dt.days"
      ],
      "execution_count": 25,
      "outputs": []
    },
    {
      "cell_type": "code",
      "metadata": {
        "colab": {
          "base_uri": "https://localhost:8080/",
          "height": 281
        },
        "id": "zb5sFPfpIziL",
        "outputId": "5eec997e-c648-4744-e03d-ae9def5ddb87"
      },
      "source": [
        "df.head()"
      ],
      "execution_count": 26,
      "outputs": [
        {
          "output_type": "execute_result",
          "data": {
            "text/html": [
              "<div>\n",
              "<style scoped>\n",
              "    .dataframe tbody tr th:only-of-type {\n",
              "        vertical-align: middle;\n",
              "    }\n",
              "\n",
              "    .dataframe tbody tr th {\n",
              "        vertical-align: top;\n",
              "    }\n",
              "\n",
              "    .dataframe thead th {\n",
              "        text-align: right;\n",
              "    }\n",
              "</style>\n",
              "<table border=\"1\" class=\"dataframe\">\n",
              "  <thead>\n",
              "    <tr style=\"text-align: right;\">\n",
              "      <th></th>\n",
              "      <th>mileage</th>\n",
              "      <th>manufacture_year</th>\n",
              "      <th>engine_displacement</th>\n",
              "      <th>engine_power</th>\n",
              "      <th>transmission</th>\n",
              "      <th>door_count</th>\n",
              "      <th>seat_count</th>\n",
              "      <th>date_created</th>\n",
              "      <th>date_last_seen</th>\n",
              "      <th>price_eur</th>\n",
              "      <th>car</th>\n",
              "      <th>time_diff</th>\n",
              "    </tr>\n",
              "  </thead>\n",
              "  <tbody>\n",
              "    <tr>\n",
              "      <th>0</th>\n",
              "      <td>151000.0</td>\n",
              "      <td>2011.0</td>\n",
              "      <td>2000.0</td>\n",
              "      <td>103.0</td>\n",
              "      <td>man</td>\n",
              "      <td>5</td>\n",
              "      <td>7</td>\n",
              "      <td>2015-11-14 00:00:00+00:00</td>\n",
              "      <td>2016-01-27 00:00:00+00:00</td>\n",
              "      <td>10584.75</td>\n",
              "      <td>ford-galaxy</td>\n",
              "      <td>74</td>\n",
              "    </tr>\n",
              "    <tr>\n",
              "      <th>1</th>\n",
              "      <td>143476.0</td>\n",
              "      <td>2012.0</td>\n",
              "      <td>2000.0</td>\n",
              "      <td>81.0</td>\n",
              "      <td>man</td>\n",
              "      <td>5</td>\n",
              "      <td>5</td>\n",
              "      <td>2015-11-14 00:00:00+00:00</td>\n",
              "      <td>2016-01-27 00:00:00+00:00</td>\n",
              "      <td>8882.31</td>\n",
              "      <td>skoda-octavia</td>\n",
              "      <td>74</td>\n",
              "    </tr>\n",
              "    <tr>\n",
              "      <th>3</th>\n",
              "      <td>111970.0</td>\n",
              "      <td>2004.0</td>\n",
              "      <td>1200.0</td>\n",
              "      <td>47.0</td>\n",
              "      <td>man</td>\n",
              "      <td>5</td>\n",
              "      <td>5</td>\n",
              "      <td>2015-11-14 00:00:00+00:00</td>\n",
              "      <td>2016-01-27 00:00:00+00:00</td>\n",
              "      <td>2960.77</td>\n",
              "      <td>skoda-fabia</td>\n",
              "      <td>74</td>\n",
              "    </tr>\n",
              "    <tr>\n",
              "      <th>4</th>\n",
              "      <td>128886.0</td>\n",
              "      <td>2004.0</td>\n",
              "      <td>1200.0</td>\n",
              "      <td>47.0</td>\n",
              "      <td>man</td>\n",
              "      <td>5</td>\n",
              "      <td>5</td>\n",
              "      <td>2015-11-14 00:00:00+00:00</td>\n",
              "      <td>2016-01-27 00:00:00+00:00</td>\n",
              "      <td>2738.71</td>\n",
              "      <td>skoda-fabia</td>\n",
              "      <td>74</td>\n",
              "    </tr>\n",
              "    <tr>\n",
              "      <th>5</th>\n",
              "      <td>140932.0</td>\n",
              "      <td>2003.0</td>\n",
              "      <td>1200.0</td>\n",
              "      <td>40.0</td>\n",
              "      <td>man</td>\n",
              "      <td>5</td>\n",
              "      <td>5</td>\n",
              "      <td>2015-11-14 00:00:00+00:00</td>\n",
              "      <td>2016-01-27 00:00:00+00:00</td>\n",
              "      <td>1628.42</td>\n",
              "      <td>skoda-fabia</td>\n",
              "      <td>74</td>\n",
              "    </tr>\n",
              "  </tbody>\n",
              "</table>\n",
              "</div>"
            ],
            "text/plain": [
              "    mileage  manufacture_year  ...            car  time_diff\n",
              "0  151000.0            2011.0  ...    ford-galaxy         74\n",
              "1  143476.0            2012.0  ...  skoda-octavia         74\n",
              "3  111970.0            2004.0  ...    skoda-fabia         74\n",
              "4  128886.0            2004.0  ...    skoda-fabia         74\n",
              "5  140932.0            2003.0  ...    skoda-fabia         74\n",
              "\n",
              "[5 rows x 12 columns]"
            ]
          },
          "metadata": {
            "tags": []
          },
          "execution_count": 26
        }
      ]
    },
    {
      "cell_type": "code",
      "metadata": {
        "id": "ziSoEuBTI1-_"
      },
      "source": [
        "df.drop([\"date_created\", \"date_last_seen\"], axis=1, inplace=True)"
      ],
      "execution_count": 27,
      "outputs": []
    },
    {
      "cell_type": "code",
      "metadata": {
        "colab": {
          "base_uri": "https://localhost:8080/",
          "height": 197
        },
        "id": "JhlIEwSWI7W4",
        "outputId": "cb97984a-3a3e-4fe9-c957-acd2d5a39fed"
      },
      "source": [
        "df.head()"
      ],
      "execution_count": 28,
      "outputs": [
        {
          "output_type": "execute_result",
          "data": {
            "text/html": [
              "<div>\n",
              "<style scoped>\n",
              "    .dataframe tbody tr th:only-of-type {\n",
              "        vertical-align: middle;\n",
              "    }\n",
              "\n",
              "    .dataframe tbody tr th {\n",
              "        vertical-align: top;\n",
              "    }\n",
              "\n",
              "    .dataframe thead th {\n",
              "        text-align: right;\n",
              "    }\n",
              "</style>\n",
              "<table border=\"1\" class=\"dataframe\">\n",
              "  <thead>\n",
              "    <tr style=\"text-align: right;\">\n",
              "      <th></th>\n",
              "      <th>mileage</th>\n",
              "      <th>manufacture_year</th>\n",
              "      <th>engine_displacement</th>\n",
              "      <th>engine_power</th>\n",
              "      <th>transmission</th>\n",
              "      <th>door_count</th>\n",
              "      <th>seat_count</th>\n",
              "      <th>price_eur</th>\n",
              "      <th>car</th>\n",
              "      <th>time_diff</th>\n",
              "    </tr>\n",
              "  </thead>\n",
              "  <tbody>\n",
              "    <tr>\n",
              "      <th>0</th>\n",
              "      <td>151000.0</td>\n",
              "      <td>2011.0</td>\n",
              "      <td>2000.0</td>\n",
              "      <td>103.0</td>\n",
              "      <td>man</td>\n",
              "      <td>5</td>\n",
              "      <td>7</td>\n",
              "      <td>10584.75</td>\n",
              "      <td>ford-galaxy</td>\n",
              "      <td>74</td>\n",
              "    </tr>\n",
              "    <tr>\n",
              "      <th>1</th>\n",
              "      <td>143476.0</td>\n",
              "      <td>2012.0</td>\n",
              "      <td>2000.0</td>\n",
              "      <td>81.0</td>\n",
              "      <td>man</td>\n",
              "      <td>5</td>\n",
              "      <td>5</td>\n",
              "      <td>8882.31</td>\n",
              "      <td>skoda-octavia</td>\n",
              "      <td>74</td>\n",
              "    </tr>\n",
              "    <tr>\n",
              "      <th>3</th>\n",
              "      <td>111970.0</td>\n",
              "      <td>2004.0</td>\n",
              "      <td>1200.0</td>\n",
              "      <td>47.0</td>\n",
              "      <td>man</td>\n",
              "      <td>5</td>\n",
              "      <td>5</td>\n",
              "      <td>2960.77</td>\n",
              "      <td>skoda-fabia</td>\n",
              "      <td>74</td>\n",
              "    </tr>\n",
              "    <tr>\n",
              "      <th>4</th>\n",
              "      <td>128886.0</td>\n",
              "      <td>2004.0</td>\n",
              "      <td>1200.0</td>\n",
              "      <td>47.0</td>\n",
              "      <td>man</td>\n",
              "      <td>5</td>\n",
              "      <td>5</td>\n",
              "      <td>2738.71</td>\n",
              "      <td>skoda-fabia</td>\n",
              "      <td>74</td>\n",
              "    </tr>\n",
              "    <tr>\n",
              "      <th>5</th>\n",
              "      <td>140932.0</td>\n",
              "      <td>2003.0</td>\n",
              "      <td>1200.0</td>\n",
              "      <td>40.0</td>\n",
              "      <td>man</td>\n",
              "      <td>5</td>\n",
              "      <td>5</td>\n",
              "      <td>1628.42</td>\n",
              "      <td>skoda-fabia</td>\n",
              "      <td>74</td>\n",
              "    </tr>\n",
              "  </tbody>\n",
              "</table>\n",
              "</div>"
            ],
            "text/plain": [
              "    mileage  manufacture_year  ...            car  time_diff\n",
              "0  151000.0            2011.0  ...    ford-galaxy         74\n",
              "1  143476.0            2012.0  ...  skoda-octavia         74\n",
              "3  111970.0            2004.0  ...    skoda-fabia         74\n",
              "4  128886.0            2004.0  ...    skoda-fabia         74\n",
              "5  140932.0            2003.0  ...    skoda-fabia         74\n",
              "\n",
              "[5 rows x 10 columns]"
            ]
          },
          "metadata": {
            "tags": []
          },
          "execution_count": 28
        }
      ]
    },
    {
      "cell_type": "code",
      "metadata": {
        "colab": {
          "base_uri": "https://localhost:8080/"
        },
        "id": "MwN92o_DI8sA",
        "outputId": "860a416d-4a79-4fcd-967b-ab21a6b68890"
      },
      "source": [
        "df.seat_count.unique()"
      ],
      "execution_count": 29,
      "outputs": [
        {
          "output_type": "execute_result",
          "data": {
            "text/plain": [
              "array(['7', '5', '4', 0, '9', '2', '6', '8', '3', '1', '18', '50', '12',\n",
              "       '74', '10', '54', '14', '13', '15', '17', '56', '20', '11', nan,\n",
              "       5.0, 4.0, 7.0, 2.0, 8.0, 6.0, 9.0, 3.0, 1.0, 17.0, 18.0, 15.0,\n",
              "       58.0, 10.0, 45.0, 13.0, 55.0, 12.0, 54.0, 16.0, 57.0, 74.0, 50.0,\n",
              "       512.0, 14.0, 515.0, 52.0, 85.0, 517.0, 43.0], dtype=object)"
            ]
          },
          "metadata": {
            "tags": []
          },
          "execution_count": 29
        }
      ]
    },
    {
      "cell_type": "code",
      "metadata": {
        "id": "l9cciFaOJWgv"
      },
      "source": [
        "df[\"seat_count\"].replace(np.nan,df[\"seat_count\"].mode()[0], inplace=True)"
      ],
      "execution_count": 30,
      "outputs": []
    },
    {
      "cell_type": "code",
      "metadata": {
        "colab": {
          "base_uri": "https://localhost:8080/"
        },
        "id": "sTSi7g8KJCww",
        "outputId": "51335647-1b95-47fb-b5fb-d315beab55be"
      },
      "source": [
        "df[\"seat_count\"].isna().sum()"
      ],
      "execution_count": 31,
      "outputs": [
        {
          "output_type": "execute_result",
          "data": {
            "text/plain": [
              "0"
            ]
          },
          "metadata": {
            "tags": []
          },
          "execution_count": 31
        }
      ]
    },
    {
      "cell_type": "code",
      "metadata": {
        "id": "_xe9E84oJ_d7"
      },
      "source": [
        "df[\"seat_count\"] = df[\"seat_count\"].astype(int)"
      ],
      "execution_count": 32,
      "outputs": []
    },
    {
      "cell_type": "code",
      "metadata": {
        "colab": {
          "base_uri": "https://localhost:8080/",
          "height": 197
        },
        "id": "eqaP8qK-JuOu",
        "outputId": "f733bfc2-ff22-42a1-a064-04f28966b2cf"
      },
      "source": [
        "df.head()"
      ],
      "execution_count": 33,
      "outputs": [
        {
          "output_type": "execute_result",
          "data": {
            "text/html": [
              "<div>\n",
              "<style scoped>\n",
              "    .dataframe tbody tr th:only-of-type {\n",
              "        vertical-align: middle;\n",
              "    }\n",
              "\n",
              "    .dataframe tbody tr th {\n",
              "        vertical-align: top;\n",
              "    }\n",
              "\n",
              "    .dataframe thead th {\n",
              "        text-align: right;\n",
              "    }\n",
              "</style>\n",
              "<table border=\"1\" class=\"dataframe\">\n",
              "  <thead>\n",
              "    <tr style=\"text-align: right;\">\n",
              "      <th></th>\n",
              "      <th>mileage</th>\n",
              "      <th>manufacture_year</th>\n",
              "      <th>engine_displacement</th>\n",
              "      <th>engine_power</th>\n",
              "      <th>transmission</th>\n",
              "      <th>door_count</th>\n",
              "      <th>seat_count</th>\n",
              "      <th>price_eur</th>\n",
              "      <th>car</th>\n",
              "      <th>time_diff</th>\n",
              "    </tr>\n",
              "  </thead>\n",
              "  <tbody>\n",
              "    <tr>\n",
              "      <th>0</th>\n",
              "      <td>151000.0</td>\n",
              "      <td>2011.0</td>\n",
              "      <td>2000.0</td>\n",
              "      <td>103.0</td>\n",
              "      <td>man</td>\n",
              "      <td>5</td>\n",
              "      <td>7</td>\n",
              "      <td>10584.75</td>\n",
              "      <td>ford-galaxy</td>\n",
              "      <td>74</td>\n",
              "    </tr>\n",
              "    <tr>\n",
              "      <th>1</th>\n",
              "      <td>143476.0</td>\n",
              "      <td>2012.0</td>\n",
              "      <td>2000.0</td>\n",
              "      <td>81.0</td>\n",
              "      <td>man</td>\n",
              "      <td>5</td>\n",
              "      <td>5</td>\n",
              "      <td>8882.31</td>\n",
              "      <td>skoda-octavia</td>\n",
              "      <td>74</td>\n",
              "    </tr>\n",
              "    <tr>\n",
              "      <th>3</th>\n",
              "      <td>111970.0</td>\n",
              "      <td>2004.0</td>\n",
              "      <td>1200.0</td>\n",
              "      <td>47.0</td>\n",
              "      <td>man</td>\n",
              "      <td>5</td>\n",
              "      <td>5</td>\n",
              "      <td>2960.77</td>\n",
              "      <td>skoda-fabia</td>\n",
              "      <td>74</td>\n",
              "    </tr>\n",
              "    <tr>\n",
              "      <th>4</th>\n",
              "      <td>128886.0</td>\n",
              "      <td>2004.0</td>\n",
              "      <td>1200.0</td>\n",
              "      <td>47.0</td>\n",
              "      <td>man</td>\n",
              "      <td>5</td>\n",
              "      <td>5</td>\n",
              "      <td>2738.71</td>\n",
              "      <td>skoda-fabia</td>\n",
              "      <td>74</td>\n",
              "    </tr>\n",
              "    <tr>\n",
              "      <th>5</th>\n",
              "      <td>140932.0</td>\n",
              "      <td>2003.0</td>\n",
              "      <td>1200.0</td>\n",
              "      <td>40.0</td>\n",
              "      <td>man</td>\n",
              "      <td>5</td>\n",
              "      <td>5</td>\n",
              "      <td>1628.42</td>\n",
              "      <td>skoda-fabia</td>\n",
              "      <td>74</td>\n",
              "    </tr>\n",
              "  </tbody>\n",
              "</table>\n",
              "</div>"
            ],
            "text/plain": [
              "    mileage  manufacture_year  ...            car  time_diff\n",
              "0  151000.0            2011.0  ...    ford-galaxy         74\n",
              "1  143476.0            2012.0  ...  skoda-octavia         74\n",
              "3  111970.0            2004.0  ...    skoda-fabia         74\n",
              "4  128886.0            2004.0  ...    skoda-fabia         74\n",
              "5  140932.0            2003.0  ...    skoda-fabia         74\n",
              "\n",
              "[5 rows x 10 columns]"
            ]
          },
          "metadata": {
            "tags": []
          },
          "execution_count": 33
        }
      ]
    },
    {
      "cell_type": "code",
      "metadata": {
        "colab": {
          "base_uri": "https://localhost:8080/"
        },
        "id": "_RPTTEcyJ511",
        "outputId": "02d34552-7b9d-4e31-c3be-3bd976b8a929"
      },
      "source": [
        "df[\"seat_count\"].value_counts()"
      ],
      "execution_count": 34,
      "outputs": [
        {
          "output_type": "execute_result",
          "data": {
            "text/plain": [
              "5      1814338\n",
              "0       274005\n",
              "4       173396\n",
              "7        79442\n",
              "2        42770\n",
              "3        15214\n",
              "6         8640\n",
              "9         7414\n",
              "8         4054\n",
              "1          151\n",
              "17          21\n",
              "12          21\n",
              "10          16\n",
              "45          10\n",
              "18           9\n",
              "15           8\n",
              "58           6\n",
              "13           5\n",
              "14           5\n",
              "54           4\n",
              "16           3\n",
              "50           3\n",
              "55           2\n",
              "56           2\n",
              "74           2\n",
              "512          2\n",
              "515          1\n",
              "11           1\n",
              "20           1\n",
              "43           1\n",
              "52           1\n",
              "57           1\n",
              "85           1\n",
              "517          1\n",
              "Name: seat_count, dtype: int64"
            ]
          },
          "metadata": {
            "tags": []
          },
          "execution_count": 34
        }
      ]
    },
    {
      "cell_type": "code",
      "metadata": {
        "id": "my-WfHmyKyqn"
      },
      "source": [
        "df = df[df[\"seat_count\"] < 10]"
      ],
      "execution_count": 35,
      "outputs": []
    },
    {
      "cell_type": "code",
      "metadata": {
        "colab": {
          "base_uri": "https://localhost:8080/",
          "height": 197
        },
        "id": "7pWJnVngKro1",
        "outputId": "e132485a-e549-45cc-e2c4-f72a1f490d12"
      },
      "source": [
        "df.head()"
      ],
      "execution_count": 36,
      "outputs": [
        {
          "output_type": "execute_result",
          "data": {
            "text/html": [
              "<div>\n",
              "<style scoped>\n",
              "    .dataframe tbody tr th:only-of-type {\n",
              "        vertical-align: middle;\n",
              "    }\n",
              "\n",
              "    .dataframe tbody tr th {\n",
              "        vertical-align: top;\n",
              "    }\n",
              "\n",
              "    .dataframe thead th {\n",
              "        text-align: right;\n",
              "    }\n",
              "</style>\n",
              "<table border=\"1\" class=\"dataframe\">\n",
              "  <thead>\n",
              "    <tr style=\"text-align: right;\">\n",
              "      <th></th>\n",
              "      <th>mileage</th>\n",
              "      <th>manufacture_year</th>\n",
              "      <th>engine_displacement</th>\n",
              "      <th>engine_power</th>\n",
              "      <th>transmission</th>\n",
              "      <th>door_count</th>\n",
              "      <th>seat_count</th>\n",
              "      <th>price_eur</th>\n",
              "      <th>car</th>\n",
              "      <th>time_diff</th>\n",
              "    </tr>\n",
              "  </thead>\n",
              "  <tbody>\n",
              "    <tr>\n",
              "      <th>0</th>\n",
              "      <td>151000.0</td>\n",
              "      <td>2011.0</td>\n",
              "      <td>2000.0</td>\n",
              "      <td>103.0</td>\n",
              "      <td>man</td>\n",
              "      <td>5</td>\n",
              "      <td>7</td>\n",
              "      <td>10584.75</td>\n",
              "      <td>ford-galaxy</td>\n",
              "      <td>74</td>\n",
              "    </tr>\n",
              "    <tr>\n",
              "      <th>1</th>\n",
              "      <td>143476.0</td>\n",
              "      <td>2012.0</td>\n",
              "      <td>2000.0</td>\n",
              "      <td>81.0</td>\n",
              "      <td>man</td>\n",
              "      <td>5</td>\n",
              "      <td>5</td>\n",
              "      <td>8882.31</td>\n",
              "      <td>skoda-octavia</td>\n",
              "      <td>74</td>\n",
              "    </tr>\n",
              "    <tr>\n",
              "      <th>3</th>\n",
              "      <td>111970.0</td>\n",
              "      <td>2004.0</td>\n",
              "      <td>1200.0</td>\n",
              "      <td>47.0</td>\n",
              "      <td>man</td>\n",
              "      <td>5</td>\n",
              "      <td>5</td>\n",
              "      <td>2960.77</td>\n",
              "      <td>skoda-fabia</td>\n",
              "      <td>74</td>\n",
              "    </tr>\n",
              "    <tr>\n",
              "      <th>4</th>\n",
              "      <td>128886.0</td>\n",
              "      <td>2004.0</td>\n",
              "      <td>1200.0</td>\n",
              "      <td>47.0</td>\n",
              "      <td>man</td>\n",
              "      <td>5</td>\n",
              "      <td>5</td>\n",
              "      <td>2738.71</td>\n",
              "      <td>skoda-fabia</td>\n",
              "      <td>74</td>\n",
              "    </tr>\n",
              "    <tr>\n",
              "      <th>5</th>\n",
              "      <td>140932.0</td>\n",
              "      <td>2003.0</td>\n",
              "      <td>1200.0</td>\n",
              "      <td>40.0</td>\n",
              "      <td>man</td>\n",
              "      <td>5</td>\n",
              "      <td>5</td>\n",
              "      <td>1628.42</td>\n",
              "      <td>skoda-fabia</td>\n",
              "      <td>74</td>\n",
              "    </tr>\n",
              "  </tbody>\n",
              "</table>\n",
              "</div>"
            ],
            "text/plain": [
              "    mileage  manufacture_year  ...            car  time_diff\n",
              "0  151000.0            2011.0  ...    ford-galaxy         74\n",
              "1  143476.0            2012.0  ...  skoda-octavia         74\n",
              "3  111970.0            2004.0  ...    skoda-fabia         74\n",
              "4  128886.0            2004.0  ...    skoda-fabia         74\n",
              "5  140932.0            2003.0  ...    skoda-fabia         74\n",
              "\n",
              "[5 rows x 10 columns]"
            ]
          },
          "metadata": {
            "tags": []
          },
          "execution_count": 36
        }
      ]
    },
    {
      "cell_type": "markdown",
      "metadata": {
        "id": "MQ9xzDNqLEru"
      },
      "source": [
        "## Door Count"
      ]
    },
    {
      "cell_type": "code",
      "metadata": {
        "colab": {
          "base_uri": "https://localhost:8080/"
        },
        "id": "3Su8u5ulK3II",
        "outputId": "43a3ca89-fa3f-45e9-a1b9-32304fc94a59"
      },
      "source": [
        "df.door_count.value_counts()"
      ],
      "execution_count": 37,
      "outputs": [
        {
          "output_type": "execute_result",
          "data": {
            "text/plain": [
              "5.0     669449\n",
              "4.0     352067\n",
              "4       308735\n",
              "None    233846\n",
              "2.0     101843\n",
              "3.0      94699\n",
              "2        87683\n",
              "5        77064\n",
              "3         9149\n",
              "0.0       5852\n",
              "6.0        638\n",
              "6          115\n",
              "1.0         74\n",
              "7.0         31\n",
              "55.0         9\n",
              "1            5\n",
              "9.0          4\n",
              "58.0         3\n",
              "54.0         1\n",
              "7            1\n",
              "45.0         1\n",
              "22.0         1\n",
              "8.0          1\n",
              "77.0         1\n",
              "49.0         1\n",
              "Name: door_count, dtype: int64"
            ]
          },
          "metadata": {
            "tags": []
          },
          "execution_count": 37
        }
      ]
    },
    {
      "cell_type": "code",
      "metadata": {
        "colab": {
          "base_uri": "https://localhost:8080/"
        },
        "id": "Sd2ZdNtILI3-",
        "outputId": "7afcc4c9-da10-4659-87e4-4e6b5658b0ee"
      },
      "source": [
        "df.door_count.isna().sum()"
      ],
      "execution_count": 38,
      "outputs": [
        {
          "output_type": "execute_result",
          "data": {
            "text/plain": [
              "478151"
            ]
          },
          "metadata": {
            "tags": []
          },
          "execution_count": 38
        }
      ]
    },
    {
      "cell_type": "code",
      "metadata": {
        "id": "Zdk5TjdFLCMe"
      },
      "source": [
        "df[\"door_count\"].replace(np.nan,df[\"door_count\"].mode()[0], inplace=True)\n",
        "df[\"door_count\"].replace('None',df[\"door_count\"].mode()[0], inplace=True)"
      ],
      "execution_count": 39,
      "outputs": []
    },
    {
      "cell_type": "code",
      "metadata": {
        "colab": {
          "base_uri": "https://localhost:8080/"
        },
        "id": "rgKRzMTDLCMf",
        "outputId": "6396659e-a0dd-4b6a-e68f-b0987e6bc080"
      },
      "source": [
        "df[\"door_count\"].isna().sum()"
      ],
      "execution_count": 40,
      "outputs": [
        {
          "output_type": "execute_result",
          "data": {
            "text/plain": [
              "0"
            ]
          },
          "metadata": {
            "tags": []
          },
          "execution_count": 40
        }
      ]
    },
    {
      "cell_type": "code",
      "metadata": {
        "id": "S6bLhXs1LCMg"
      },
      "source": [
        "df[\"door_count\"] = df[\"door_count\"].astype(int)"
      ],
      "execution_count": 41,
      "outputs": []
    },
    {
      "cell_type": "code",
      "metadata": {
        "colab": {
          "base_uri": "https://localhost:8080/",
          "height": 197
        },
        "id": "L8HsvN2oLCMg",
        "outputId": "9a1c5f12-6465-4e8c-b98c-28454265acee"
      },
      "source": [
        "df.head()"
      ],
      "execution_count": 42,
      "outputs": [
        {
          "output_type": "execute_result",
          "data": {
            "text/html": [
              "<div>\n",
              "<style scoped>\n",
              "    .dataframe tbody tr th:only-of-type {\n",
              "        vertical-align: middle;\n",
              "    }\n",
              "\n",
              "    .dataframe tbody tr th {\n",
              "        vertical-align: top;\n",
              "    }\n",
              "\n",
              "    .dataframe thead th {\n",
              "        text-align: right;\n",
              "    }\n",
              "</style>\n",
              "<table border=\"1\" class=\"dataframe\">\n",
              "  <thead>\n",
              "    <tr style=\"text-align: right;\">\n",
              "      <th></th>\n",
              "      <th>mileage</th>\n",
              "      <th>manufacture_year</th>\n",
              "      <th>engine_displacement</th>\n",
              "      <th>engine_power</th>\n",
              "      <th>transmission</th>\n",
              "      <th>door_count</th>\n",
              "      <th>seat_count</th>\n",
              "      <th>price_eur</th>\n",
              "      <th>car</th>\n",
              "      <th>time_diff</th>\n",
              "    </tr>\n",
              "  </thead>\n",
              "  <tbody>\n",
              "    <tr>\n",
              "      <th>0</th>\n",
              "      <td>151000.0</td>\n",
              "      <td>2011.0</td>\n",
              "      <td>2000.0</td>\n",
              "      <td>103.0</td>\n",
              "      <td>man</td>\n",
              "      <td>5</td>\n",
              "      <td>7</td>\n",
              "      <td>10584.75</td>\n",
              "      <td>ford-galaxy</td>\n",
              "      <td>74</td>\n",
              "    </tr>\n",
              "    <tr>\n",
              "      <th>1</th>\n",
              "      <td>143476.0</td>\n",
              "      <td>2012.0</td>\n",
              "      <td>2000.0</td>\n",
              "      <td>81.0</td>\n",
              "      <td>man</td>\n",
              "      <td>5</td>\n",
              "      <td>5</td>\n",
              "      <td>8882.31</td>\n",
              "      <td>skoda-octavia</td>\n",
              "      <td>74</td>\n",
              "    </tr>\n",
              "    <tr>\n",
              "      <th>3</th>\n",
              "      <td>111970.0</td>\n",
              "      <td>2004.0</td>\n",
              "      <td>1200.0</td>\n",
              "      <td>47.0</td>\n",
              "      <td>man</td>\n",
              "      <td>5</td>\n",
              "      <td>5</td>\n",
              "      <td>2960.77</td>\n",
              "      <td>skoda-fabia</td>\n",
              "      <td>74</td>\n",
              "    </tr>\n",
              "    <tr>\n",
              "      <th>4</th>\n",
              "      <td>128886.0</td>\n",
              "      <td>2004.0</td>\n",
              "      <td>1200.0</td>\n",
              "      <td>47.0</td>\n",
              "      <td>man</td>\n",
              "      <td>5</td>\n",
              "      <td>5</td>\n",
              "      <td>2738.71</td>\n",
              "      <td>skoda-fabia</td>\n",
              "      <td>74</td>\n",
              "    </tr>\n",
              "    <tr>\n",
              "      <th>5</th>\n",
              "      <td>140932.0</td>\n",
              "      <td>2003.0</td>\n",
              "      <td>1200.0</td>\n",
              "      <td>40.0</td>\n",
              "      <td>man</td>\n",
              "      <td>5</td>\n",
              "      <td>5</td>\n",
              "      <td>1628.42</td>\n",
              "      <td>skoda-fabia</td>\n",
              "      <td>74</td>\n",
              "    </tr>\n",
              "  </tbody>\n",
              "</table>\n",
              "</div>"
            ],
            "text/plain": [
              "    mileage  manufacture_year  ...            car  time_diff\n",
              "0  151000.0            2011.0  ...    ford-galaxy         74\n",
              "1  143476.0            2012.0  ...  skoda-octavia         74\n",
              "3  111970.0            2004.0  ...    skoda-fabia         74\n",
              "4  128886.0            2004.0  ...    skoda-fabia         74\n",
              "5  140932.0            2003.0  ...    skoda-fabia         74\n",
              "\n",
              "[5 rows x 10 columns]"
            ]
          },
          "metadata": {
            "tags": []
          },
          "execution_count": 42
        }
      ]
    },
    {
      "cell_type": "code",
      "metadata": {
        "colab": {
          "base_uri": "https://localhost:8080/"
        },
        "id": "MCwoZENaLCMh",
        "outputId": "da592259-e8db-413f-edb1-bfa3f8c9eac9"
      },
      "source": [
        "df[\"door_count\"].value_counts()"
      ],
      "execution_count": 43,
      "outputs": [
        {
          "output_type": "execute_result",
          "data": {
            "text/plain": [
              "5     1458510\n",
              "4      660802\n",
              "2      189526\n",
              "3      103848\n",
              "0        5852\n",
              "6         753\n",
              "1          79\n",
              "7          32\n",
              "55          9\n",
              "9           4\n",
              "58          3\n",
              "77          1\n",
              "22          1\n",
              "45          1\n",
              "49          1\n",
              "54          1\n",
              "8           1\n",
              "Name: door_count, dtype: int64"
            ]
          },
          "metadata": {
            "tags": []
          },
          "execution_count": 43
        }
      ]
    },
    {
      "cell_type": "code",
      "metadata": {
        "id": "-5vWHLVcLCMh"
      },
      "source": [
        "df = df[df[\"door_count\"] < 7]"
      ],
      "execution_count": 44,
      "outputs": []
    },
    {
      "cell_type": "code",
      "metadata": {
        "colab": {
          "base_uri": "https://localhost:8080/",
          "height": 197
        },
        "id": "hhKrfNKYLCMi",
        "outputId": "a4fc045c-9e07-4ff2-fe10-c776ed7573cc"
      },
      "source": [
        "df.head()"
      ],
      "execution_count": 45,
      "outputs": [
        {
          "output_type": "execute_result",
          "data": {
            "text/html": [
              "<div>\n",
              "<style scoped>\n",
              "    .dataframe tbody tr th:only-of-type {\n",
              "        vertical-align: middle;\n",
              "    }\n",
              "\n",
              "    .dataframe tbody tr th {\n",
              "        vertical-align: top;\n",
              "    }\n",
              "\n",
              "    .dataframe thead th {\n",
              "        text-align: right;\n",
              "    }\n",
              "</style>\n",
              "<table border=\"1\" class=\"dataframe\">\n",
              "  <thead>\n",
              "    <tr style=\"text-align: right;\">\n",
              "      <th></th>\n",
              "      <th>mileage</th>\n",
              "      <th>manufacture_year</th>\n",
              "      <th>engine_displacement</th>\n",
              "      <th>engine_power</th>\n",
              "      <th>transmission</th>\n",
              "      <th>door_count</th>\n",
              "      <th>seat_count</th>\n",
              "      <th>price_eur</th>\n",
              "      <th>car</th>\n",
              "      <th>time_diff</th>\n",
              "    </tr>\n",
              "  </thead>\n",
              "  <tbody>\n",
              "    <tr>\n",
              "      <th>0</th>\n",
              "      <td>151000.0</td>\n",
              "      <td>2011.0</td>\n",
              "      <td>2000.0</td>\n",
              "      <td>103.0</td>\n",
              "      <td>man</td>\n",
              "      <td>5</td>\n",
              "      <td>7</td>\n",
              "      <td>10584.75</td>\n",
              "      <td>ford-galaxy</td>\n",
              "      <td>74</td>\n",
              "    </tr>\n",
              "    <tr>\n",
              "      <th>1</th>\n",
              "      <td>143476.0</td>\n",
              "      <td>2012.0</td>\n",
              "      <td>2000.0</td>\n",
              "      <td>81.0</td>\n",
              "      <td>man</td>\n",
              "      <td>5</td>\n",
              "      <td>5</td>\n",
              "      <td>8882.31</td>\n",
              "      <td>skoda-octavia</td>\n",
              "      <td>74</td>\n",
              "    </tr>\n",
              "    <tr>\n",
              "      <th>3</th>\n",
              "      <td>111970.0</td>\n",
              "      <td>2004.0</td>\n",
              "      <td>1200.0</td>\n",
              "      <td>47.0</td>\n",
              "      <td>man</td>\n",
              "      <td>5</td>\n",
              "      <td>5</td>\n",
              "      <td>2960.77</td>\n",
              "      <td>skoda-fabia</td>\n",
              "      <td>74</td>\n",
              "    </tr>\n",
              "    <tr>\n",
              "      <th>4</th>\n",
              "      <td>128886.0</td>\n",
              "      <td>2004.0</td>\n",
              "      <td>1200.0</td>\n",
              "      <td>47.0</td>\n",
              "      <td>man</td>\n",
              "      <td>5</td>\n",
              "      <td>5</td>\n",
              "      <td>2738.71</td>\n",
              "      <td>skoda-fabia</td>\n",
              "      <td>74</td>\n",
              "    </tr>\n",
              "    <tr>\n",
              "      <th>5</th>\n",
              "      <td>140932.0</td>\n",
              "      <td>2003.0</td>\n",
              "      <td>1200.0</td>\n",
              "      <td>40.0</td>\n",
              "      <td>man</td>\n",
              "      <td>5</td>\n",
              "      <td>5</td>\n",
              "      <td>1628.42</td>\n",
              "      <td>skoda-fabia</td>\n",
              "      <td>74</td>\n",
              "    </tr>\n",
              "  </tbody>\n",
              "</table>\n",
              "</div>"
            ],
            "text/plain": [
              "    mileage  manufacture_year  ...            car  time_diff\n",
              "0  151000.0            2011.0  ...    ford-galaxy         74\n",
              "1  143476.0            2012.0  ...  skoda-octavia         74\n",
              "3  111970.0            2004.0  ...    skoda-fabia         74\n",
              "4  128886.0            2004.0  ...    skoda-fabia         74\n",
              "5  140932.0            2003.0  ...    skoda-fabia         74\n",
              "\n",
              "[5 rows x 10 columns]"
            ]
          },
          "metadata": {
            "tags": []
          },
          "execution_count": 45
        }
      ]
    },
    {
      "cell_type": "code",
      "metadata": {
        "colab": {
          "base_uri": "https://localhost:8080/",
          "height": 287
        },
        "id": "j4MTMbPKK6dD",
        "outputId": "42ebdc1f-cab0-4a9c-f77a-985b572cc5ae"
      },
      "source": [
        "df.describe()"
      ],
      "execution_count": 46,
      "outputs": [
        {
          "output_type": "execute_result",
          "data": {
            "text/html": [
              "<div>\n",
              "<style scoped>\n",
              "    .dataframe tbody tr th:only-of-type {\n",
              "        vertical-align: middle;\n",
              "    }\n",
              "\n",
              "    .dataframe tbody tr th {\n",
              "        vertical-align: top;\n",
              "    }\n",
              "\n",
              "    .dataframe thead th {\n",
              "        text-align: right;\n",
              "    }\n",
              "</style>\n",
              "<table border=\"1\" class=\"dataframe\">\n",
              "  <thead>\n",
              "    <tr style=\"text-align: right;\">\n",
              "      <th></th>\n",
              "      <th>mileage</th>\n",
              "      <th>manufacture_year</th>\n",
              "      <th>engine_displacement</th>\n",
              "      <th>engine_power</th>\n",
              "      <th>door_count</th>\n",
              "      <th>seat_count</th>\n",
              "      <th>price_eur</th>\n",
              "      <th>time_diff</th>\n",
              "    </tr>\n",
              "  </thead>\n",
              "  <tbody>\n",
              "    <tr>\n",
              "      <th>count</th>\n",
              "      <td>2.184128e+06</td>\n",
              "      <td>2.177481e+06</td>\n",
              "      <td>1.964523e+06</td>\n",
              "      <td>2.093672e+06</td>\n",
              "      <td>2.419370e+06</td>\n",
              "      <td>2.419370e+06</td>\n",
              "      <td>2.419370e+06</td>\n",
              "      <td>2.419370e+06</td>\n",
              "    </tr>\n",
              "    <tr>\n",
              "      <th>mean</th>\n",
              "      <td>1.140107e+05</td>\n",
              "      <td>2.001241e+03</td>\n",
              "      <td>1.937215e+03</td>\n",
              "      <td>9.279849e+01</td>\n",
              "      <td>4.394099e+00</td>\n",
              "      <td>4.382729e+00</td>\n",
              "      <td>1.156869e+06</td>\n",
              "      <td>7.502198e+01</td>\n",
              "    </tr>\n",
              "    <tr>\n",
              "      <th>std</th>\n",
              "      <td>3.403956e+05</td>\n",
              "      <td>8.215163e+01</td>\n",
              "      <td>1.902151e+03</td>\n",
              "      <td>4.530085e+01</td>\n",
              "      <td>9.187190e-01</td>\n",
              "      <td>1.704766e+00</td>\n",
              "      <td>1.739911e+09</td>\n",
              "      <td>5.582366e+01</td>\n",
              "    </tr>\n",
              "    <tr>\n",
              "      <th>min</th>\n",
              "      <td>0.000000e+00</td>\n",
              "      <td>0.000000e+00</td>\n",
              "      <td>1.000000e+00</td>\n",
              "      <td>1.000000e+00</td>\n",
              "      <td>0.000000e+00</td>\n",
              "      <td>0.000000e+00</td>\n",
              "      <td>4.000000e-02</td>\n",
              "      <td>0.000000e+00</td>\n",
              "    </tr>\n",
              "    <tr>\n",
              "      <th>25%</th>\n",
              "      <td>1.800000e+04</td>\n",
              "      <td>2.004000e+03</td>\n",
              "      <td>1.390000e+03</td>\n",
              "      <td>6.600000e+01</td>\n",
              "      <td>4.000000e+00</td>\n",
              "      <td>5.000000e+00</td>\n",
              "      <td>1.295340e+03</td>\n",
              "      <td>1.400000e+01</td>\n",
              "    </tr>\n",
              "    <tr>\n",
              "      <th>50%</th>\n",
              "      <td>8.600000e+04</td>\n",
              "      <td>2.009000e+03</td>\n",
              "      <td>1.600000e+03</td>\n",
              "      <td>8.100000e+01</td>\n",
              "      <td>5.000000e+00</td>\n",
              "      <td>5.000000e+00</td>\n",
              "      <td>6.200000e+03</td>\n",
              "      <td>6.700000e+01</td>\n",
              "    </tr>\n",
              "    <tr>\n",
              "      <th>75%</th>\n",
              "      <td>1.566322e+05</td>\n",
              "      <td>2.013000e+03</td>\n",
              "      <td>1.989000e+03</td>\n",
              "      <td>1.060000e+02</td>\n",
              "      <td>5.000000e+00</td>\n",
              "      <td>5.000000e+00</td>\n",
              "      <td>1.463357e+04</td>\n",
              "      <td>1.280000e+02</td>\n",
              "    </tr>\n",
              "    <tr>\n",
              "      <th>max</th>\n",
              "      <td>9.999999e+06</td>\n",
              "      <td>2.017000e+03</td>\n",
              "      <td>3.276700e+04</td>\n",
              "      <td>2.033000e+03</td>\n",
              "      <td>6.000000e+00</td>\n",
              "      <td>9.000000e+00</td>\n",
              "      <td>2.706149e+12</td>\n",
              "      <td>1.800000e+02</td>\n",
              "    </tr>\n",
              "  </tbody>\n",
              "</table>\n",
              "</div>"
            ],
            "text/plain": [
              "            mileage  manufacture_year  ...     price_eur     time_diff\n",
              "count  2.184128e+06      2.177481e+06  ...  2.419370e+06  2.419370e+06\n",
              "mean   1.140107e+05      2.001241e+03  ...  1.156869e+06  7.502198e+01\n",
              "std    3.403956e+05      8.215163e+01  ...  1.739911e+09  5.582366e+01\n",
              "min    0.000000e+00      0.000000e+00  ...  4.000000e-02  0.000000e+00\n",
              "25%    1.800000e+04      2.004000e+03  ...  1.295340e+03  1.400000e+01\n",
              "50%    8.600000e+04      2.009000e+03  ...  6.200000e+03  6.700000e+01\n",
              "75%    1.566322e+05      2.013000e+03  ...  1.463357e+04  1.280000e+02\n",
              "max    9.999999e+06      2.017000e+03  ...  2.706149e+12  1.800000e+02\n",
              "\n",
              "[8 rows x 8 columns]"
            ]
          },
          "metadata": {
            "tags": []
          },
          "execution_count": 46
        }
      ]
    },
    {
      "cell_type": "code",
      "metadata": {
        "colab": {
          "base_uri": "https://localhost:8080/"
        },
        "id": "HdrnJ1I-Lvtu",
        "outputId": "bc5887c9-e0a9-4775-89a9-27754bef7871"
      },
      "source": [
        "df.info()"
      ],
      "execution_count": 47,
      "outputs": [
        {
          "output_type": "stream",
          "text": [
            "<class 'pandas.core.frame.DataFrame'>\n",
            "Int64Index: 2419370 entries, 0 to 3552910\n",
            "Data columns (total 10 columns):\n",
            " #   Column               Dtype  \n",
            "---  ------               -----  \n",
            " 0   mileage              float64\n",
            " 1   manufacture_year     float64\n",
            " 2   engine_displacement  float64\n",
            " 3   engine_power         float64\n",
            " 4   transmission         object \n",
            " 5   door_count           int64  \n",
            " 6   seat_count           int64  \n",
            " 7   price_eur            float64\n",
            " 8   car                  object \n",
            " 9   time_diff            int64  \n",
            "dtypes: float64(5), int64(3), object(2)\n",
            "memory usage: 203.0+ MB\n"
          ],
          "name": "stdout"
        }
      ]
    },
    {
      "cell_type": "code",
      "metadata": {
        "colab": {
          "base_uri": "https://localhost:8080/",
          "height": 197
        },
        "id": "U7OiwvWJMeHY",
        "outputId": "d335e638-1811-4319-cd2f-832aacfdd2ef"
      },
      "source": [
        "df.head()"
      ],
      "execution_count": 48,
      "outputs": [
        {
          "output_type": "execute_result",
          "data": {
            "text/html": [
              "<div>\n",
              "<style scoped>\n",
              "    .dataframe tbody tr th:only-of-type {\n",
              "        vertical-align: middle;\n",
              "    }\n",
              "\n",
              "    .dataframe tbody tr th {\n",
              "        vertical-align: top;\n",
              "    }\n",
              "\n",
              "    .dataframe thead th {\n",
              "        text-align: right;\n",
              "    }\n",
              "</style>\n",
              "<table border=\"1\" class=\"dataframe\">\n",
              "  <thead>\n",
              "    <tr style=\"text-align: right;\">\n",
              "      <th></th>\n",
              "      <th>mileage</th>\n",
              "      <th>manufacture_year</th>\n",
              "      <th>engine_displacement</th>\n",
              "      <th>engine_power</th>\n",
              "      <th>transmission</th>\n",
              "      <th>door_count</th>\n",
              "      <th>seat_count</th>\n",
              "      <th>price_eur</th>\n",
              "      <th>car</th>\n",
              "      <th>time_diff</th>\n",
              "    </tr>\n",
              "  </thead>\n",
              "  <tbody>\n",
              "    <tr>\n",
              "      <th>0</th>\n",
              "      <td>151000.0</td>\n",
              "      <td>2011.0</td>\n",
              "      <td>2000.0</td>\n",
              "      <td>103.0</td>\n",
              "      <td>man</td>\n",
              "      <td>5</td>\n",
              "      <td>7</td>\n",
              "      <td>10584.75</td>\n",
              "      <td>ford-galaxy</td>\n",
              "      <td>74</td>\n",
              "    </tr>\n",
              "    <tr>\n",
              "      <th>1</th>\n",
              "      <td>143476.0</td>\n",
              "      <td>2012.0</td>\n",
              "      <td>2000.0</td>\n",
              "      <td>81.0</td>\n",
              "      <td>man</td>\n",
              "      <td>5</td>\n",
              "      <td>5</td>\n",
              "      <td>8882.31</td>\n",
              "      <td>skoda-octavia</td>\n",
              "      <td>74</td>\n",
              "    </tr>\n",
              "    <tr>\n",
              "      <th>3</th>\n",
              "      <td>111970.0</td>\n",
              "      <td>2004.0</td>\n",
              "      <td>1200.0</td>\n",
              "      <td>47.0</td>\n",
              "      <td>man</td>\n",
              "      <td>5</td>\n",
              "      <td>5</td>\n",
              "      <td>2960.77</td>\n",
              "      <td>skoda-fabia</td>\n",
              "      <td>74</td>\n",
              "    </tr>\n",
              "    <tr>\n",
              "      <th>4</th>\n",
              "      <td>128886.0</td>\n",
              "      <td>2004.0</td>\n",
              "      <td>1200.0</td>\n",
              "      <td>47.0</td>\n",
              "      <td>man</td>\n",
              "      <td>5</td>\n",
              "      <td>5</td>\n",
              "      <td>2738.71</td>\n",
              "      <td>skoda-fabia</td>\n",
              "      <td>74</td>\n",
              "    </tr>\n",
              "    <tr>\n",
              "      <th>5</th>\n",
              "      <td>140932.0</td>\n",
              "      <td>2003.0</td>\n",
              "      <td>1200.0</td>\n",
              "      <td>40.0</td>\n",
              "      <td>man</td>\n",
              "      <td>5</td>\n",
              "      <td>5</td>\n",
              "      <td>1628.42</td>\n",
              "      <td>skoda-fabia</td>\n",
              "      <td>74</td>\n",
              "    </tr>\n",
              "  </tbody>\n",
              "</table>\n",
              "</div>"
            ],
            "text/plain": [
              "    mileage  manufacture_year  ...            car  time_diff\n",
              "0  151000.0            2011.0  ...    ford-galaxy         74\n",
              "1  143476.0            2012.0  ...  skoda-octavia         74\n",
              "3  111970.0            2004.0  ...    skoda-fabia         74\n",
              "4  128886.0            2004.0  ...    skoda-fabia         74\n",
              "5  140932.0            2003.0  ...    skoda-fabia         74\n",
              "\n",
              "[5 rows x 10 columns]"
            ]
          },
          "metadata": {
            "tags": []
          },
          "execution_count": 48
        }
      ]
    },
    {
      "cell_type": "code",
      "metadata": {
        "colab": {
          "base_uri": "https://localhost:8080/"
        },
        "id": "VpQvfxPlMv1i",
        "outputId": "60829ca4-01c6-4008-d1ba-f9538633f82b"
      },
      "source": [
        "len(df)"
      ],
      "execution_count": 49,
      "outputs": [
        {
          "output_type": "execute_result",
          "data": {
            "text/plain": [
              "2419370"
            ]
          },
          "metadata": {
            "tags": []
          },
          "execution_count": 49
        }
      ]
    },
    {
      "cell_type": "code",
      "metadata": {
        "colab": {
          "base_uri": "https://localhost:8080/"
        },
        "id": "usUIpK-hLyy9",
        "outputId": "1b08b315-e881-4811-da16-91845bc68130"
      },
      "source": [
        "df[\"transmission\"].isna().sum()"
      ],
      "execution_count": 50,
      "outputs": [
        {
          "output_type": "execute_result",
          "data": {
            "text/plain": [
              "495343"
            ]
          },
          "metadata": {
            "tags": []
          },
          "execution_count": 50
        }
      ]
    },
    {
      "cell_type": "code",
      "metadata": {
        "colab": {
          "base_uri": "https://localhost:8080/"
        },
        "id": "gftGu-SHMGE2",
        "outputId": "72146f2e-427f-4e59-fa49-446f5e19f91a"
      },
      "source": [
        "len(df)"
      ],
      "execution_count": 51,
      "outputs": [
        {
          "output_type": "execute_result",
          "data": {
            "text/plain": [
              "2419370"
            ]
          },
          "metadata": {
            "tags": []
          },
          "execution_count": 51
        }
      ]
    },
    {
      "cell_type": "code",
      "metadata": {
        "colab": {
          "base_uri": "https://localhost:8080/"
        },
        "id": "oOFggKLZN9p6",
        "outputId": "715c51f0-b615-4e6a-8877-6f51b454019e"
      },
      "source": [
        "df.dropna(inplace=True)\n",
        "df.shape"
      ],
      "execution_count": 52,
      "outputs": [
        {
          "output_type": "execute_result",
          "data": {
            "text/plain": [
              "(1482311, 10)"
            ]
          },
          "metadata": {
            "tags": []
          },
          "execution_count": 52
        }
      ]
    },
    {
      "cell_type": "code",
      "metadata": {
        "id": "cCEZQ4ffODnx"
      },
      "source": [
        "from sklearn import preprocessing\n",
        "le = preprocessing.LabelEncoder()\n",
        "\n",
        "df[\"transmission\"] = le.fit_transform(df.transmission.values)"
      ],
      "execution_count": 53,
      "outputs": []
    },
    {
      "cell_type": "code",
      "metadata": {
        "id": "sARS1ZDKOVkp"
      },
      "source": [
        "df.transmission = df.transmission + 1"
      ],
      "execution_count": 54,
      "outputs": []
    },
    {
      "cell_type": "code",
      "metadata": {
        "colab": {
          "base_uri": "https://localhost:8080/",
          "height": 347
        },
        "id": "VexDOpZ8OWG_",
        "outputId": "39f4d93b-15be-49a3-de6b-fb05e5cfb582"
      },
      "source": [
        "df.head(10)"
      ],
      "execution_count": 55,
      "outputs": [
        {
          "output_type": "execute_result",
          "data": {
            "text/html": [
              "<div>\n",
              "<style scoped>\n",
              "    .dataframe tbody tr th:only-of-type {\n",
              "        vertical-align: middle;\n",
              "    }\n",
              "\n",
              "    .dataframe tbody tr th {\n",
              "        vertical-align: top;\n",
              "    }\n",
              "\n",
              "    .dataframe thead th {\n",
              "        text-align: right;\n",
              "    }\n",
              "</style>\n",
              "<table border=\"1\" class=\"dataframe\">\n",
              "  <thead>\n",
              "    <tr style=\"text-align: right;\">\n",
              "      <th></th>\n",
              "      <th>mileage</th>\n",
              "      <th>manufacture_year</th>\n",
              "      <th>engine_displacement</th>\n",
              "      <th>engine_power</th>\n",
              "      <th>transmission</th>\n",
              "      <th>door_count</th>\n",
              "      <th>seat_count</th>\n",
              "      <th>price_eur</th>\n",
              "      <th>car</th>\n",
              "      <th>time_diff</th>\n",
              "    </tr>\n",
              "  </thead>\n",
              "  <tbody>\n",
              "    <tr>\n",
              "      <th>0</th>\n",
              "      <td>151000.0</td>\n",
              "      <td>2011.0</td>\n",
              "      <td>2000.0</td>\n",
              "      <td>103.0</td>\n",
              "      <td>2</td>\n",
              "      <td>5</td>\n",
              "      <td>7</td>\n",
              "      <td>10584.75</td>\n",
              "      <td>ford-galaxy</td>\n",
              "      <td>74</td>\n",
              "    </tr>\n",
              "    <tr>\n",
              "      <th>1</th>\n",
              "      <td>143476.0</td>\n",
              "      <td>2012.0</td>\n",
              "      <td>2000.0</td>\n",
              "      <td>81.0</td>\n",
              "      <td>2</td>\n",
              "      <td>5</td>\n",
              "      <td>5</td>\n",
              "      <td>8882.31</td>\n",
              "      <td>skoda-octavia</td>\n",
              "      <td>74</td>\n",
              "    </tr>\n",
              "    <tr>\n",
              "      <th>3</th>\n",
              "      <td>111970.0</td>\n",
              "      <td>2004.0</td>\n",
              "      <td>1200.0</td>\n",
              "      <td>47.0</td>\n",
              "      <td>2</td>\n",
              "      <td>5</td>\n",
              "      <td>5</td>\n",
              "      <td>2960.77</td>\n",
              "      <td>skoda-fabia</td>\n",
              "      <td>74</td>\n",
              "    </tr>\n",
              "    <tr>\n",
              "      <th>4</th>\n",
              "      <td>128886.0</td>\n",
              "      <td>2004.0</td>\n",
              "      <td>1200.0</td>\n",
              "      <td>47.0</td>\n",
              "      <td>2</td>\n",
              "      <td>5</td>\n",
              "      <td>5</td>\n",
              "      <td>2738.71</td>\n",
              "      <td>skoda-fabia</td>\n",
              "      <td>74</td>\n",
              "    </tr>\n",
              "    <tr>\n",
              "      <th>5</th>\n",
              "      <td>140932.0</td>\n",
              "      <td>2003.0</td>\n",
              "      <td>1200.0</td>\n",
              "      <td>40.0</td>\n",
              "      <td>2</td>\n",
              "      <td>5</td>\n",
              "      <td>5</td>\n",
              "      <td>1628.42</td>\n",
              "      <td>skoda-fabia</td>\n",
              "      <td>74</td>\n",
              "    </tr>\n",
              "    <tr>\n",
              "      <th>6</th>\n",
              "      <td>167220.0</td>\n",
              "      <td>2001.0</td>\n",
              "      <td>1400.0</td>\n",
              "      <td>74.0</td>\n",
              "      <td>2</td>\n",
              "      <td>5</td>\n",
              "      <td>5</td>\n",
              "      <td>2072.54</td>\n",
              "      <td>skoda-fabia</td>\n",
              "      <td>74</td>\n",
              "    </tr>\n",
              "    <tr>\n",
              "      <th>8</th>\n",
              "      <td>105389.0</td>\n",
              "      <td>2003.0</td>\n",
              "      <td>1900.0</td>\n",
              "      <td>81.0</td>\n",
              "      <td>2</td>\n",
              "      <td>5</td>\n",
              "      <td>5</td>\n",
              "      <td>4293.12</td>\n",
              "      <td>skoda-octavia</td>\n",
              "      <td>74</td>\n",
              "    </tr>\n",
              "    <tr>\n",
              "      <th>13</th>\n",
              "      <td>41250.0</td>\n",
              "      <td>1990.0</td>\n",
              "      <td>1300.0</td>\n",
              "      <td>44.0</td>\n",
              "      <td>2</td>\n",
              "      <td>5</td>\n",
              "      <td>5</td>\n",
              "      <td>370.10</td>\n",
              "      <td>skoda-favorit</td>\n",
              "      <td>74</td>\n",
              "    </tr>\n",
              "    <tr>\n",
              "      <th>14</th>\n",
              "      <td>122100.0</td>\n",
              "      <td>2003.0</td>\n",
              "      <td>1000.0</td>\n",
              "      <td>39.0</td>\n",
              "      <td>2</td>\n",
              "      <td>5</td>\n",
              "      <td>5</td>\n",
              "      <td>999.26</td>\n",
              "      <td>suzuki-swift</td>\n",
              "      <td>74</td>\n",
              "    </tr>\n",
              "    <tr>\n",
              "      <th>15</th>\n",
              "      <td>149465.0</td>\n",
              "      <td>2005.0</td>\n",
              "      <td>2500.0</td>\n",
              "      <td>121.0</td>\n",
              "      <td>1</td>\n",
              "      <td>5</td>\n",
              "      <td>5</td>\n",
              "      <td>4811.25</td>\n",
              "      <td>nissan-x-trail</td>\n",
              "      <td>74</td>\n",
              "    </tr>\n",
              "  </tbody>\n",
              "</table>\n",
              "</div>"
            ],
            "text/plain": [
              "     mileage  manufacture_year  ...             car  time_diff\n",
              "0   151000.0            2011.0  ...     ford-galaxy         74\n",
              "1   143476.0            2012.0  ...   skoda-octavia         74\n",
              "3   111970.0            2004.0  ...     skoda-fabia         74\n",
              "4   128886.0            2004.0  ...     skoda-fabia         74\n",
              "5   140932.0            2003.0  ...     skoda-fabia         74\n",
              "6   167220.0            2001.0  ...     skoda-fabia         74\n",
              "8   105389.0            2003.0  ...   skoda-octavia         74\n",
              "13   41250.0            1990.0  ...   skoda-favorit         74\n",
              "14  122100.0            2003.0  ...    suzuki-swift         74\n",
              "15  149465.0            2005.0  ...  nissan-x-trail         74\n",
              "\n",
              "[10 rows x 10 columns]"
            ]
          },
          "metadata": {
            "tags": []
          },
          "execution_count": 55
        }
      ]
    },
    {
      "cell_type": "markdown",
      "metadata": {
        "id": "Pjbn6RHnU5HF"
      },
      "source": [
        "## Manufacture Year"
      ]
    },
    {
      "cell_type": "code",
      "metadata": {
        "colab": {
          "base_uri": "https://localhost:8080/",
          "height": 885
        },
        "id": "_AmucBRDYpiq",
        "outputId": "f37f561e-d30e-480d-8185-7215fc294a3f"
      },
      "source": [
        "df.boxplot(column=['manufacture_year'], return_type='axes', figsize=(15,15))"
      ],
      "execution_count": null,
      "outputs": [
        {
          "output_type": "execute_result",
          "data": {
            "text/plain": [
              "<matplotlib.axes._subplots.AxesSubplot at 0x7f130b0eb6d8>"
            ]
          },
          "metadata": {
            "tags": []
          },
          "execution_count": 136
        },
        {
          "output_type": "display_data",
          "data": {
            "image/png": "[encoded data removed]",
            "text/plain": [
              "<Figure size 1080x1080 with 1 Axes>"
            ]
          },
          "metadata": {
            "tags": []
          }
        }
      ]
    },
    {
      "cell_type": "code",
      "metadata": {
        "id": "9FXJGJ1iU7yT"
      },
      "source": [
        "df = df[df.manufacture_year > 1990]\n",
        "df = df[df.manufacture_year < 2020]"
      ],
      "execution_count": 137,
      "outputs": []
    },
    {
      "cell_type": "markdown",
      "metadata": {
        "id": "TATancLXV3Ue"
      },
      "source": [
        "# Engine Displacement and Engine Power"
      ]
    },
    {
      "cell_type": "code",
      "metadata": {
        "colab": {
          "base_uri": "https://localhost:8080/",
          "height": 866
        },
        "id": "8zpEIigEV8eX",
        "outputId": "2032011c-baee-41fd-b349-1dde8b6d911d"
      },
      "source": [
        "df.boxplot(column=['engine_displacement'], return_type='axes', figsize=(15,15));"
      ],
      "execution_count": 138,
      "outputs": [
        {
          "output_type": "display_data",
          "data": {
            "image/png": "[encoded data removed]",
            "text/plain": [
              "<Figure size 1080x1080 with 1 Axes>"
            ]
          },
          "metadata": {
            "tags": []
          }
        }
      ]
    },
    {
      "cell_type": "code",
      "metadata": {
        "colab": {
          "base_uri": "https://localhost:8080/",
          "height": 895
        },
        "id": "bGUMvXuHV8gl",
        "outputId": "6f41d26e-6d4c-457b-f0cf-27eca91598cd"
      },
      "source": [
        "plt.figure(figsize=(15,15))\n",
        "plt.scatter(range(len(df)),df.engine_displacement)"
      ],
      "execution_count": 139,
      "outputs": [
        {
          "output_type": "execute_result",
          "data": {
            "text/plain": [
              "<matplotlib.collections.PathCollection at 0x7f130b0f9c88>"
            ]
          },
          "metadata": {
            "tags": []
          },
          "execution_count": 139
        },
        {
          "output_type": "display_data",
          "data": {
            "image/png": "[encoded data removed]",
            "text/plain": [
              "<Figure size 1080x1080 with 1 Axes>"
            ]
          },
          "metadata": {
            "tags": []
          }
        }
      ]
    },
    {
      "cell_type": "code",
      "metadata": {
        "id": "6KzTY_oLXliy"
      },
      "source": [
        "df = df[df.engine_displacement > 300]\n",
        "df = df[df.engine_displacement < 7000]\n"
      ],
      "execution_count": 140,
      "outputs": []
    },
    {
      "cell_type": "code",
      "metadata": {
        "colab": {
          "base_uri": "https://localhost:8080/",
          "height": 883
        },
        "id": "ko9S1tyuYOFO",
        "outputId": "59989930-e2fb-42c4-a750-4a9839423617"
      },
      "source": [
        "df.boxplot(column=['engine_power'], return_type='axes', figsize=(15,15))"
      ],
      "execution_count": 141,
      "outputs": [
        {
          "output_type": "execute_result",
          "data": {
            "text/plain": [
              "<matplotlib.axes._subplots.AxesSubplot at 0x7f130aff1f28>"
            ]
          },
          "metadata": {
            "tags": []
          },
          "execution_count": 141
        },
        {
          "output_type": "display_data",
          "data": {
            "image/png": "[encoded data removed]",
            "text/plain": [
              "<Figure size 1080x1080 with 1 Axes>"
            ]
          },
          "metadata": {
            "tags": []
          }
        }
      ]
    },
    {
      "cell_type": "code",
      "metadata": {
        "id": "w2DTQblvYOJW"
      },
      "source": [
        "df = df[df.engine_power < 200]"
      ],
      "execution_count": 142,
      "outputs": []
    },
    {
      "cell_type": "code",
      "metadata": {
        "id": "G9DFVuUlYplV"
      },
      "source": [
        ""
      ],
      "execution_count": 142,
      "outputs": []
    },
    {
      "cell_type": "code",
      "metadata": {
        "id": "S45VHTvvYpn8"
      },
      "source": [
        ""
      ],
      "execution_count": 142,
      "outputs": []
    },
    {
      "cell_type": "code",
      "metadata": {
        "colab": {
          "base_uri": "https://localhost:8080/"
        },
        "id": "TXIceUONYOOi",
        "outputId": "3bdb98f6-e481-47ef-a351-ca5a79bc92d1"
      },
      "source": [
        "df.shape"
      ],
      "execution_count": 143,
      "outputs": [
        {
          "output_type": "execute_result",
          "data": {
            "text/plain": [
              "(1421344, 10)"
            ]
          },
          "metadata": {
            "tags": []
          },
          "execution_count": 143
        }
      ]
    },
    {
      "cell_type": "code",
      "metadata": {
        "colab": {
          "base_uri": "https://localhost:8080/"
        },
        "id": "OjbEAfqAOeB5",
        "outputId": "9c3da122-5c84-4785-d297-77dc3c2da65e"
      },
      "source": [
        "df.isna().sum()"
      ],
      "execution_count": 144,
      "outputs": [
        {
          "output_type": "execute_result",
          "data": {
            "text/plain": [
              "mileage                0\n",
              "manufacture_year       0\n",
              "engine_displacement    0\n",
              "engine_power           0\n",
              "transmission           0\n",
              "door_count             0\n",
              "seat_count             0\n",
              "price_eur              0\n",
              "car                    0\n",
              "time_diff              0\n",
              "dtype: int64"
            ]
          },
          "metadata": {
            "tags": []
          },
          "execution_count": 144
        }
      ]
    },
    {
      "cell_type": "code",
      "metadata": {
        "colab": {
          "base_uri": "https://localhost:8080/",
          "height": 334
        },
        "id": "Oq2WtyvHOh7D",
        "outputId": "642fa8e9-6aca-41e3-f558-78a2e6fe9dfe"
      },
      "source": [
        "plt.hist(df.time_diff)"
      ],
      "execution_count": 145,
      "outputs": [
        {
          "output_type": "execute_result",
          "data": {
            "text/plain": [
              "(array([285063.,  98694.,  68932., 161721.,  18326.,   6000., 281695.,\n",
              "        453772.,  11725.,  35416.]),\n",
              " array([  0.,  18.,  36.,  54.,  72.,  90., 108., 126., 144., 162., 180.]),\n",
              " <a list of 10 Patch objects>)"
            ]
          },
          "metadata": {
            "tags": []
          },
          "execution_count": 145
        },
        {
          "output_type": "display_data",
          "data": {
            "image/png": "[encoded data removed]",
            "text/plain": [
              "<Figure size 432x288 with 1 Axes>"
            ]
          },
          "metadata": {
            "tags": []
          }
        }
      ]
    },
    {
      "cell_type": "code",
      "metadata": {
        "colab": {
          "base_uri": "https://localhost:8080/",
          "height": 362
        },
        "id": "jeNdApXmO2ZF",
        "outputId": "3a5bfc94-a7b4-4413-9c50-455baa78ef99"
      },
      "source": [
        "plt.hist(df.seat_count)"
      ],
      "execution_count": 146,
      "outputs": [
        {
          "output_type": "execute_result",
          "data": {
            "text/plain": [
              "(array([4.917700e+04, 7.100000e+01, 3.298700e+04, 1.161400e+04,\n",
              "        1.373840e+05, 1.110562e+06, 6.918000e+03, 6.370900e+04,\n",
              "        3.144000e+03, 5.778000e+03]),\n",
              " array([0. , 0.9, 1.8, 2.7, 3.6, 4.5, 5.4, 6.3, 7.2, 8.1, 9. ]),\n",
              " <a list of 10 Patch objects>)"
            ]
          },
          "metadata": {
            "tags": []
          },
          "execution_count": 146
        },
        {
          "output_type": "display_data",
          "data": {
            "image/png": "[encoded data removed]",
            "text/plain": [
              "<Figure size 432x288 with 1 Axes>"
            ]
          },
          "metadata": {
            "tags": []
          }
        }
      ]
    },
    {
      "cell_type": "code",
      "metadata": {
        "colab": {
          "base_uri": "https://localhost:8080/",
          "height": 334
        },
        "id": "3Nn_KezEPCVe",
        "outputId": "137f22ec-2506-4782-c99b-614ad437404a"
      },
      "source": [
        "plt.hist(df.door_count)"
      ],
      "execution_count": 147,
      "outputs": [
        {
          "output_type": "execute_result",
          "data": {
            "text/plain": [
              "(array([3.60000e+01, 0.00000e+00, 1.41019e+05, 0.00000e+00, 8.67360e+04,\n",
              "        0.00000e+00, 5.15098e+05, 0.00000e+00, 6.77946e+05, 5.09000e+02]),\n",
              " array([1. , 1.5, 2. , 2.5, 3. , 3.5, 4. , 4.5, 5. , 5.5, 6. ]),\n",
              " <a list of 10 Patch objects>)"
            ]
          },
          "metadata": {
            "tags": []
          },
          "execution_count": 147
        },
        {
          "output_type": "display_data",
          "data": {
            "image/png": "[encoded data removed]",
            "text/plain": [
              "<Figure size 432x288 with 1 Axes>"
            ]
          },
          "metadata": {
            "tags": []
          }
        }
      ]
    },
    {
      "cell_type": "code",
      "metadata": {
        "colab": {
          "base_uri": "https://localhost:8080/"
        },
        "id": "OcaYSRrTPOpk",
        "outputId": "03004ffe-1c12-499f-feb0-8831ec80cef4"
      },
      "source": [
        "df.transmission.value_counts()"
      ],
      "execution_count": 148,
      "outputs": [
        {
          "output_type": "execute_result",
          "data": {
            "text/plain": [
              "2    1137087\n",
              "1     284257\n",
              "Name: transmission, dtype: int64"
            ]
          },
          "metadata": {
            "tags": []
          },
          "execution_count": 148
        }
      ]
    },
    {
      "cell_type": "code",
      "metadata": {
        "colab": {
          "base_uri": "https://localhost:8080/"
        },
        "id": "ssTfCHSIPUXd",
        "outputId": "11cca038-b22e-4bcf-d271-781084464f33"
      },
      "source": [
        "df.car.nunique()"
      ],
      "execution_count": 149,
      "outputs": [
        {
          "output_type": "execute_result",
          "data": {
            "text/plain": [
              "881"
            ]
          },
          "metadata": {
            "tags": []
          },
          "execution_count": 149
        }
      ]
    },
    {
      "cell_type": "code",
      "metadata": {
        "colab": {
          "base_uri": "https://localhost:8080/",
          "height": 395
        },
        "id": "qlMcRQt5Pltn",
        "outputId": "41c25dd8-ce7e-4e24-c105-e906d42ccd48"
      },
      "source": [
        "import pandas_profiling\n",
        "\n",
        "\n",
        "df.car.value_counts().head(10).plot.bar()\n",
        "plt.title(\"Top 10 car brands on sale\")"
      ],
      "execution_count": 150,
      "outputs": [
        {
          "output_type": "execute_result",
          "data": {
            "text/plain": [
              "Text(0.5, 1.0, 'Top 10 car brands on sale')"
            ]
          },
          "metadata": {
            "tags": []
          },
          "execution_count": 150
        },
        {
          "output_type": "display_data",
          "data": {
            "image/png": "[encoded data removed]",
            "text/plain": [
              "<Figure size 432x288 with 1 Axes>"
            ]
          },
          "metadata": {
            "tags": []
          }
        }
      ]
    },
    {
      "cell_type": "code",
      "metadata": {
        "colab": {
          "base_uri": "https://localhost:8080/",
          "height": 197
        },
        "id": "J2ueDSZ-SthZ",
        "outputId": "2b8b3f95-d83d-4f65-e129-4c04b5ac8efd"
      },
      "source": [
        "df.head()"
      ],
      "execution_count": 151,
      "outputs": [
        {
          "output_type": "execute_result",
          "data": {
            "text/html": [
              "<div>\n",
              "<style scoped>\n",
              "    .dataframe tbody tr th:only-of-type {\n",
              "        vertical-align: middle;\n",
              "    }\n",
              "\n",
              "    .dataframe tbody tr th {\n",
              "        vertical-align: top;\n",
              "    }\n",
              "\n",
              "    .dataframe thead th {\n",
              "        text-align: right;\n",
              "    }\n",
              "</style>\n",
              "<table border=\"1\" class=\"dataframe\">\n",
              "  <thead>\n",
              "    <tr style=\"text-align: right;\">\n",
              "      <th></th>\n",
              "      <th>mileage</th>\n",
              "      <th>manufacture_year</th>\n",
              "      <th>engine_displacement</th>\n",
              "      <th>engine_power</th>\n",
              "      <th>transmission</th>\n",
              "      <th>door_count</th>\n",
              "      <th>seat_count</th>\n",
              "      <th>price_eur</th>\n",
              "      <th>car</th>\n",
              "      <th>time_diff</th>\n",
              "    </tr>\n",
              "  </thead>\n",
              "  <tbody>\n",
              "    <tr>\n",
              "      <th>0</th>\n",
              "      <td>151000.0</td>\n",
              "      <td>2011.0</td>\n",
              "      <td>2000.0</td>\n",
              "      <td>103.0</td>\n",
              "      <td>2</td>\n",
              "      <td>5</td>\n",
              "      <td>7</td>\n",
              "      <td>10584.75</td>\n",
              "      <td>ford-galaxy</td>\n",
              "      <td>74</td>\n",
              "    </tr>\n",
              "    <tr>\n",
              "      <th>1</th>\n",
              "      <td>143476.0</td>\n",
              "      <td>2012.0</td>\n",
              "      <td>2000.0</td>\n",
              "      <td>81.0</td>\n",
              "      <td>2</td>\n",
              "      <td>5</td>\n",
              "      <td>5</td>\n",
              "      <td>8882.31</td>\n",
              "      <td>skoda-octavia</td>\n",
              "      <td>74</td>\n",
              "    </tr>\n",
              "    <tr>\n",
              "      <th>3</th>\n",
              "      <td>111970.0</td>\n",
              "      <td>2004.0</td>\n",
              "      <td>1200.0</td>\n",
              "      <td>47.0</td>\n",
              "      <td>2</td>\n",
              "      <td>5</td>\n",
              "      <td>5</td>\n",
              "      <td>2960.77</td>\n",
              "      <td>skoda-fabia</td>\n",
              "      <td>74</td>\n",
              "    </tr>\n",
              "    <tr>\n",
              "      <th>4</th>\n",
              "      <td>128886.0</td>\n",
              "      <td>2004.0</td>\n",
              "      <td>1200.0</td>\n",
              "      <td>47.0</td>\n",
              "      <td>2</td>\n",
              "      <td>5</td>\n",
              "      <td>5</td>\n",
              "      <td>2738.71</td>\n",
              "      <td>skoda-fabia</td>\n",
              "      <td>74</td>\n",
              "    </tr>\n",
              "    <tr>\n",
              "      <th>5</th>\n",
              "      <td>140932.0</td>\n",
              "      <td>2003.0</td>\n",
              "      <td>1200.0</td>\n",
              "      <td>40.0</td>\n",
              "      <td>2</td>\n",
              "      <td>5</td>\n",
              "      <td>5</td>\n",
              "      <td>1628.42</td>\n",
              "      <td>skoda-fabia</td>\n",
              "      <td>74</td>\n",
              "    </tr>\n",
              "  </tbody>\n",
              "</table>\n",
              "</div>"
            ],
            "text/plain": [
              "    mileage  manufacture_year  ...            car  time_diff\n",
              "0  151000.0            2011.0  ...    ford-galaxy         74\n",
              "1  143476.0            2012.0  ...  skoda-octavia         74\n",
              "3  111970.0            2004.0  ...    skoda-fabia         74\n",
              "4  128886.0            2004.0  ...    skoda-fabia         74\n",
              "5  140932.0            2003.0  ...    skoda-fabia         74\n",
              "\n",
              "[5 rows x 10 columns]"
            ]
          },
          "metadata": {
            "tags": []
          },
          "execution_count": 151
        }
      ]
    },
    {
      "cell_type": "code",
      "metadata": {
        "colab": {
          "base_uri": "https://localhost:8080/",
          "height": 197
        },
        "id": "PU5ibSqAQMNJ",
        "outputId": "4a8ae203-9088-41ee-c4d5-fd46251bc1ad"
      },
      "source": [
        "df[df.price_eur.isin(df.price_eur.nlargest())].sort_values(['car','mileage','engine_power','transmission','price_eur'])"
      ],
      "execution_count": 152,
      "outputs": [
        {
          "output_type": "execute_result",
          "data": {
            "text/html": [
              "<div>\n",
              "<style scoped>\n",
              "    .dataframe tbody tr th:only-of-type {\n",
              "        vertical-align: middle;\n",
              "    }\n",
              "\n",
              "    .dataframe tbody tr th {\n",
              "        vertical-align: top;\n",
              "    }\n",
              "\n",
              "    .dataframe thead th {\n",
              "        text-align: right;\n",
              "    }\n",
              "</style>\n",
              "<table border=\"1\" class=\"dataframe\">\n",
              "  <thead>\n",
              "    <tr style=\"text-align: right;\">\n",
              "      <th></th>\n",
              "      <th>mileage</th>\n",
              "      <th>manufacture_year</th>\n",
              "      <th>engine_displacement</th>\n",
              "      <th>engine_power</th>\n",
              "      <th>transmission</th>\n",
              "      <th>door_count</th>\n",
              "      <th>seat_count</th>\n",
              "      <th>price_eur</th>\n",
              "      <th>car</th>\n",
              "      <th>time_diff</th>\n",
              "    </tr>\n",
              "  </thead>\n",
              "  <tbody>\n",
              "    <tr>\n",
              "      <th>1745328</th>\n",
              "      <td>162000.0</td>\n",
              "      <td>2013.0</td>\n",
              "      <td>1968.0</td>\n",
              "      <td>130.0</td>\n",
              "      <td>1</td>\n",
              "      <td>5</td>\n",
              "      <td>4</td>\n",
              "      <td>2.600000e+07</td>\n",
              "      <td>audi-a5</td>\n",
              "      <td>137</td>\n",
              "    </tr>\n",
              "    <tr>\n",
              "      <th>2506165</th>\n",
              "      <td>93000.0</td>\n",
              "      <td>2012.0</td>\n",
              "      <td>1242.0</td>\n",
              "      <td>51.0</td>\n",
              "      <td>1</td>\n",
              "      <td>3</td>\n",
              "      <td>4</td>\n",
              "      <td>8.800000e+06</td>\n",
              "      <td>fiat-500</td>\n",
              "      <td>120</td>\n",
              "    </tr>\n",
              "    <tr>\n",
              "      <th>1461682</th>\n",
              "      <td>55000.0</td>\n",
              "      <td>2012.0</td>\n",
              "      <td>1248.0</td>\n",
              "      <td>70.0</td>\n",
              "      <td>2</td>\n",
              "      <td>5</td>\n",
              "      <td>4</td>\n",
              "      <td>9.500000e+06</td>\n",
              "      <td>lancia-y</td>\n",
              "      <td>143</td>\n",
              "    </tr>\n",
              "    <tr>\n",
              "      <th>2042604</th>\n",
              "      <td>130000.0</td>\n",
              "      <td>2005.0</td>\n",
              "      <td>1198.0</td>\n",
              "      <td>47.0</td>\n",
              "      <td>2</td>\n",
              "      <td>3</td>\n",
              "      <td>5</td>\n",
              "      <td>1.000000e+09</td>\n",
              "      <td>seat-ibiza</td>\n",
              "      <td>130</td>\n",
              "    </tr>\n",
              "    <tr>\n",
              "      <th>1139074</th>\n",
              "      <td>33000.0</td>\n",
              "      <td>2014.0</td>\n",
              "      <td>1968.0</td>\n",
              "      <td>135.0</td>\n",
              "      <td>2</td>\n",
              "      <td>4</td>\n",
              "      <td>5</td>\n",
              "      <td>2.280169e+07</td>\n",
              "      <td>seat-leon</td>\n",
              "      <td>10</td>\n",
              "    </tr>\n",
              "  </tbody>\n",
              "</table>\n",
              "</div>"
            ],
            "text/plain": [
              "          mileage  manufacture_year  ...         car  time_diff\n",
              "1745328  162000.0            2013.0  ...     audi-a5        137\n",
              "2506165   93000.0            2012.0  ...    fiat-500        120\n",
              "1461682   55000.0            2012.0  ...    lancia-y        143\n",
              "2042604  130000.0            2005.0  ...  seat-ibiza        130\n",
              "1139074   33000.0            2014.0  ...   seat-leon         10\n",
              "\n",
              "[5 rows x 10 columns]"
            ]
          },
          "metadata": {
            "tags": []
          },
          "execution_count": 152
        }
      ]
    },
    {
      "cell_type": "code",
      "metadata": {
        "colab": {
          "base_uri": "https://localhost:8080/",
          "height": 317
        },
        "id": "aW66jcX2S3j5",
        "outputId": "92b2bc34-ff86-482d-8731-a190b059d401"
      },
      "source": [
        "sns.countplot(x='door_count', data=df, orient='h')\n",
        "plt.title(\"Most preferred Door Counts\")"
      ],
      "execution_count": 153,
      "outputs": [
        {
          "output_type": "execute_result",
          "data": {
            "text/plain": [
              "Text(0.5, 1.0, 'Most preferred Door Counts')"
            ]
          },
          "metadata": {
            "tags": []
          },
          "execution_count": 153
        },
        {
          "output_type": "display_data",
          "data": {
            "image/png": "[encoded data removed]",
            "text/plain": [
              "<Figure size 432x288 with 1 Axes>"
            ]
          },
          "metadata": {
            "tags": []
          }
        }
      ]
    },
    {
      "cell_type": "code",
      "metadata": {
        "colab": {
          "base_uri": "https://localhost:8080/",
          "height": 317
        },
        "id": "gduJPuHYUKpR",
        "outputId": "b1271dfd-4872-4bbf-ac63-79766954042d"
      },
      "source": [
        "sns.countplot(x='seat_count', data=df, orient='h')\n",
        "plt.title(\"Most preferred Seat Counts\")"
      ],
      "execution_count": 154,
      "outputs": [
        {
          "output_type": "execute_result",
          "data": {
            "text/plain": [
              "Text(0.5, 1.0, 'Most preferred Seat Counts')"
            ]
          },
          "metadata": {
            "tags": []
          },
          "execution_count": 154
        },
        {
          "output_type": "display_data",
          "data": {
            "image/png": "[encoded data removed]",
            "text/plain": [
              "<Figure size 432x288 with 1 Axes>"
            ]
          },
          "metadata": {
            "tags": []
          }
        }
      ]
    },
    {
      "cell_type": "code",
      "metadata": {
        "colab": {
          "base_uri": "https://localhost:8080/",
          "height": 915
        },
        "id": "neGQTWRrUPms",
        "outputId": "85a2d417-614b-4c37-cab0-f9b17dee3ea0"
      },
      "source": [
        "plt.figure(figsize=(15,15))\n",
        "sns.lineplot(data=df, y='price_eur', x='manufacture_year', hue='transmission')\n",
        "plt.title(\"year - price lineplot (1886 - 2020)\")"
      ],
      "execution_count": 155,
      "outputs": [
        {
          "output_type": "execute_result",
          "data": {
            "text/plain": [
              "Text(0.5, 1.0, 'year - price lineplot (1886 - 2020)')"
            ]
          },
          "metadata": {
            "tags": []
          },
          "execution_count": 155
        },
        {
          "output_type": "display_data",
          "data": {
            "image/png": "[encoded data removed]",
            "text/plain": [
              "<Figure size 1080x1080 with 1 Axes>"
            ]
          },
          "metadata": {
            "tags": []
          }
        }
      ]
    },
    {
      "cell_type": "code",
      "metadata": {
        "colab": {
          "base_uri": "https://localhost:8080/"
        },
        "id": "Bvn6lZ5gUedT",
        "outputId": "1506f4aa-093a-48d8-cdcf-19f745fe1bb5"
      },
      "source": [
        "df.manufacture_year.value_counts()"
      ],
      "execution_count": 156,
      "outputs": [
        {
          "output_type": "execute_result",
          "data": {
            "text/plain": [
              "2015.0    228901\n",
              "2012.0    121783\n",
              "2011.0    114202\n",
              "2014.0     92660\n",
              "2013.0     81173\n",
              "2010.0     80599\n",
              "2007.0     75060\n",
              "2008.0     74183\n",
              "2009.0     72607\n",
              "2006.0     71392\n",
              "2005.0     63262\n",
              "2016.0     62769\n",
              "2004.0     55225\n",
              "2003.0     47170\n",
              "2002.0     39500\n",
              "2001.0     35745\n",
              "2000.0     29643\n",
              "1999.0     25221\n",
              "1998.0     17109\n",
              "1997.0     10892\n",
              "1996.0      7008\n",
              "1995.0      4326\n",
              "2017.0      2762\n",
              "1994.0      2674\n",
              "1993.0      1992\n",
              "1992.0      1904\n",
              "1991.0      1582\n",
              "Name: manufacture_year, dtype: int64"
            ]
          },
          "metadata": {
            "tags": []
          },
          "execution_count": 156
        }
      ]
    },
    {
      "cell_type": "code",
      "metadata": {
        "id": "jsp2ew3HUs9i"
      },
      "source": [
        "df.head()"
      ],
      "execution_count": 156,
      "outputs": []
    },
    {
      "cell_type": "code",
      "metadata": {
        "colab": {
          "base_uri": "https://localhost:8080/"
        },
        "id": "mqdhu1H5ZAjD",
        "outputId": "bd0b3632-a4bd-4cf1-ce9b-2d6912c8283d"
      },
      "source": [
        "df.shape"
      ],
      "execution_count": 157,
      "outputs": [
        {
          "output_type": "execute_result",
          "data": {
            "text/plain": [
              "(1421344, 10)"
            ]
          },
          "metadata": {
            "tags": []
          },
          "execution_count": 157
        }
      ]
    },
    {
      "cell_type": "code",
      "metadata": {
        "colab": {
          "base_uri": "https://localhost:8080/",
          "height": 287
        },
        "id": "2L4lTowOZBB3",
        "outputId": "919db14a-1bb9-458f-f94d-5b1979c7b26a"
      },
      "source": [
        "df.describe()"
      ],
      "execution_count": 158,
      "outputs": [
        {
          "output_type": "execute_result",
          "data": {
            "text/html": [
              "<div>\n",
              "<style scoped>\n",
              "    .dataframe tbody tr th:only-of-type {\n",
              "        vertical-align: middle;\n",
              "    }\n",
              "\n",
              "    .dataframe tbody tr th {\n",
              "        vertical-align: top;\n",
              "    }\n",
              "\n",
              "    .dataframe thead th {\n",
              "        text-align: right;\n",
              "    }\n",
              "</style>\n",
              "<table border=\"1\" class=\"dataframe\">\n",
              "  <thead>\n",
              "    <tr style=\"text-align: right;\">\n",
              "      <th></th>\n",
              "      <th>mileage</th>\n",
              "      <th>manufacture_year</th>\n",
              "      <th>engine_displacement</th>\n",
              "      <th>engine_power</th>\n",
              "      <th>transmission</th>\n",
              "      <th>door_count</th>\n",
              "      <th>seat_count</th>\n",
              "      <th>price_eur</th>\n",
              "      <th>time_diff</th>\n",
              "    </tr>\n",
              "  </thead>\n",
              "  <tbody>\n",
              "    <tr>\n",
              "      <th>count</th>\n",
              "      <td>1.421344e+06</td>\n",
              "      <td>1.421344e+06</td>\n",
              "      <td>1.421344e+06</td>\n",
              "      <td>1.421344e+06</td>\n",
              "      <td>1.421344e+06</td>\n",
              "      <td>1.421344e+06</td>\n",
              "      <td>1.421344e+06</td>\n",
              "      <td>1.421344e+06</td>\n",
              "      <td>1.421344e+06</td>\n",
              "    </tr>\n",
              "    <tr>\n",
              "      <th>mean</th>\n",
              "      <td>1.022471e+05</td>\n",
              "      <td>2.009254e+03</td>\n",
              "      <td>1.694732e+03</td>\n",
              "      <td>8.741687e+01</td>\n",
              "      <td>1.800008e+00</td>\n",
              "      <td>4.218161e+00</td>\n",
              "      <td>4.761590e+00</td>\n",
              "      <td>1.105748e+04</td>\n",
              "      <td>8.619353e+01</td>\n",
              "    </tr>\n",
              "    <tr>\n",
              "      <th>std</th>\n",
              "      <td>1.790903e+05</td>\n",
              "      <td>5.221334e+00</td>\n",
              "      <td>4.849097e+02</td>\n",
              "      <td>3.113165e+01</td>\n",
              "      <td>3.999939e-01</td>\n",
              "      <td>9.428293e-01</td>\n",
              "      <td>1.190068e+00</td>\n",
              "      <td>8.394971e+05</td>\n",
              "      <td>5.326150e+01</td>\n",
              "    </tr>\n",
              "    <tr>\n",
              "      <th>min</th>\n",
              "      <td>0.000000e+00</td>\n",
              "      <td>1.991000e+03</td>\n",
              "      <td>3.110000e+02</td>\n",
              "      <td>3.000000e+00</td>\n",
              "      <td>1.000000e+00</td>\n",
              "      <td>1.000000e+00</td>\n",
              "      <td>0.000000e+00</td>\n",
              "      <td>4.000000e-02</td>\n",
              "      <td>0.000000e+00</td>\n",
              "    </tr>\n",
              "    <tr>\n",
              "      <th>25%</th>\n",
              "      <td>2.501000e+04</td>\n",
              "      <td>2.006000e+03</td>\n",
              "      <td>1.388000e+03</td>\n",
              "      <td>6.600000e+01</td>\n",
              "      <td>2.000000e+00</td>\n",
              "      <td>4.000000e+00</td>\n",
              "      <td>5.000000e+00</td>\n",
              "      <td>2.500000e+03</td>\n",
              "      <td>2.900000e+01</td>\n",
              "    </tr>\n",
              "    <tr>\n",
              "      <th>50%</th>\n",
              "      <td>8.807500e+04</td>\n",
              "      <td>2.010000e+03</td>\n",
              "      <td>1.598000e+03</td>\n",
              "      <td>8.100000e+01</td>\n",
              "      <td>2.000000e+00</td>\n",
              "      <td>4.000000e+00</td>\n",
              "      <td>5.000000e+00</td>\n",
              "      <td>7.962660e+03</td>\n",
              "      <td>1.170000e+02</td>\n",
              "    </tr>\n",
              "    <tr>\n",
              "      <th>75%</th>\n",
              "      <td>1.519500e+05</td>\n",
              "      <td>2.014000e+03</td>\n",
              "      <td>1.968000e+03</td>\n",
              "      <td>1.030000e+02</td>\n",
              "      <td>2.000000e+00</td>\n",
              "      <td>5.000000e+00</td>\n",
              "      <td>5.000000e+00</td>\n",
              "      <td>1.490000e+04</td>\n",
              "      <td>1.310000e+02</td>\n",
              "    </tr>\n",
              "    <tr>\n",
              "      <th>max</th>\n",
              "      <td>9.999999e+06</td>\n",
              "      <td>2.017000e+03</td>\n",
              "      <td>6.980000e+03</td>\n",
              "      <td>1.990000e+02</td>\n",
              "      <td>2.000000e+00</td>\n",
              "      <td>6.000000e+00</td>\n",
              "      <td>9.000000e+00</td>\n",
              "      <td>1.000000e+09</td>\n",
              "      <td>1.800000e+02</td>\n",
              "    </tr>\n",
              "  </tbody>\n",
              "</table>\n",
              "</div>"
            ],
            "text/plain": [
              "            mileage  manufacture_year  ...     price_eur     time_diff\n",
              "count  1.421344e+06      1.421344e+06  ...  1.421344e+06  1.421344e+06\n",
              "mean   1.022471e+05      2.009254e+03  ...  1.105748e+04  8.619353e+01\n",
              "std    1.790903e+05      5.221334e+00  ...  8.394971e+05  5.326150e+01\n",
              "min    0.000000e+00      1.991000e+03  ...  4.000000e-02  0.000000e+00\n",
              "25%    2.501000e+04      2.006000e+03  ...  2.500000e+03  2.900000e+01\n",
              "50%    8.807500e+04      2.010000e+03  ...  7.962660e+03  1.170000e+02\n",
              "75%    1.519500e+05      2.014000e+03  ...  1.490000e+04  1.310000e+02\n",
              "max    9.999999e+06      2.017000e+03  ...  1.000000e+09  1.800000e+02\n",
              "\n",
              "[8 rows x 9 columns]"
            ]
          },
          "metadata": {
            "tags": []
          },
          "execution_count": 158
        }
      ]
    },
    {
      "cell_type": "code",
      "metadata": {
        "colab": {
          "base_uri": "https://localhost:8080/"
        },
        "id": "J3egtp-TZCGQ",
        "outputId": "9493c6e3-a888-41bd-8bde-061f0eb9e184"
      },
      "source": [
        "df.info()"
      ],
      "execution_count": 159,
      "outputs": [
        {
          "output_type": "stream",
          "text": [
            "<class 'pandas.core.frame.DataFrame'>\n",
            "Int64Index: 1421344 entries, 0 to 3552905\n",
            "Data columns (total 10 columns):\n",
            " #   Column               Non-Null Count    Dtype  \n",
            "---  ------               --------------    -----  \n",
            " 0   mileage              1421344 non-null  float64\n",
            " 1   manufacture_year     1421344 non-null  float64\n",
            " 2   engine_displacement  1421344 non-null  float64\n",
            " 3   engine_power         1421344 non-null  float64\n",
            " 4   transmission         1421344 non-null  int64  \n",
            " 5   door_count           1421344 non-null  int64  \n",
            " 6   seat_count           1421344 non-null  int64  \n",
            " 7   price_eur            1421344 non-null  float64\n",
            " 8   car                  1421344 non-null  object \n",
            " 9   time_diff            1421344 non-null  int64  \n",
            "dtypes: float64(5), int64(4), object(1)\n",
            "memory usage: 119.3+ MB\n"
          ],
          "name": "stdout"
        }
      ]
    },
    {
      "cell_type": "code",
      "metadata": {
        "colab": {
          "base_uri": "https://localhost:8080/",
          "height": 722
        },
        "id": "OW9YOnjEZDiF",
        "outputId": "57e87b23-060a-4697-e9ce-91a66b2bd2f1"
      },
      "source": [
        "import seaborn as sns\n",
        "corr = df.corr()\n",
        "plt.figure(figsize=(10,10))\n",
        "sns.heatmap(corr, \n",
        "            xticklabels=corr.columns.values,\n",
        "            yticklabels=corr.columns.values)"
      ],
      "execution_count": 162,
      "outputs": [
        {
          "output_type": "execute_result",
          "data": {
            "text/plain": [
              "<matplotlib.axes._subplots.AxesSubplot at 0x7f130ad5a358>"
            ]
          },
          "metadata": {
            "tags": []
          },
          "execution_count": 162
        },
        {
          "output_type": "display_data",
          "data": {
            "image/png": "[encoded data removed]",
            "text/plain": [
              "<Figure size 720x720 with 2 Axes>"
            ]
          },
          "metadata": {
            "tags": []
          }
        }
      ]
    },
    {
      "cell_type": "markdown",
      "metadata": {
        "id": "y1VK4GdbZrpx"
      },
      "source": [
        "So, this is it. We have successfully performed the EDA operation."
      ]
    }
  ]
}