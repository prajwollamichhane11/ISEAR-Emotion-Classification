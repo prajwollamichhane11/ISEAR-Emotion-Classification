{
  "nbformat": 4,
  "nbformat_minor": 0,
  "metadata": {
    "kernelspec": {
      "display_name": "Python 3",
      "language": "python",
      "name": "python3"
    },
    "language_info": {
      "codemirror_mode": {
        "name": "ipython",
        "version": 3
      },
      "file_extension": ".py",
      "mimetype": "text/x-python",
      "name": "python",
      "nbconvert_exporter": "python",
      "pygments_lexer": "ipython3",
      "version": "3.6.8"
    },
    "colab": {
      "name": "isear_LSTM.ipynb",
      "provenance": [],
      "collapsed_sections": []
    }
  },
  "cells": [
    {
      "cell_type": "code",
      "metadata": {
        "deletable": false,
        "nbgrader": {
          "checksum": "90d90727bac6bfe68ad2aa2c9b16f25c",
          "grade": false,
          "grade_id": "cell-276deba12a313fed",
          "locked": false,
          "schema_version": 1,
          "solution": true
        },
        "id": "LwQ0LKgkpEWq"
      },
      "source": [
        "# import tensorflow\n",
        "import numpy as np\n",
        "import pandas as pd\n",
        "import matplotlib.pyplot as plt\n",
        "# from tensorflow import keras\n",
        "import keras\n",
        "from keras.preprocessing.text import Tokenizer\n",
        "from keras.preprocessing.sequence import pad_sequences\n",
        "from sklearn.model_selection import train_test_split\n",
        "import string \n",
        "import nltk\n",
        "from keras.preprocessing.text import Tokenizer\n",
        "from keras.preprocessing.sequence import pad_sequences\n",
        "from sklearn.preprocessing import LabelEncoder\n",
        "from tensorflow.keras.models import load_model\n"
      ],
      "execution_count": 98,
      "outputs": []
    },
    {
      "cell_type": "code",
      "metadata": {
        "colab": {
          "base_uri": "https://localhost:8080/"
        },
        "id": "0w8iwChvpOS_",
        "outputId": "2fa53cd0-9940-4651-8efe-6faad5e71a1d"
      },
      "source": [
        "# Mounting the Drive Folder\n",
        "from google.colab import drive\n",
        "drive.mount('/content/drive/')"
      ],
      "execution_count": 2,
      "outputs": [
        {
          "output_type": "stream",
          "text": [
            "Mounted at /content/drive/\n"
          ],
          "name": "stdout"
        }
      ]
    },
    {
      "cell_type": "markdown",
      "metadata": {
        "id": "IpBG4lgPyDEk"
      },
      "source": [
        "### Reading Dataset"
      ]
    },
    {
      "cell_type": "code",
      "metadata": {
        "deletable": false,
        "nbgrader": {
          "checksum": "42c1a08e1c66802fadd68bcb6d3f7387",
          "grade": false,
          "grade_id": "cell-358a4ddaeb3bb6d9",
          "locked": false,
          "schema_version": 1,
          "solution": true
        },
        "colab": {
          "base_uri": "https://localhost:8080/",
          "height": 197
        },
        "id": "JAf9y050pEWr",
        "outputId": "999ee50a-b145-4c99-fb72-9dfb5ed2d4bc"
      },
      "source": [
        "column_names=['Emotions','Sentences']\n",
        "df= pd.read_csv(\"drive/My Drive/Training_AI_Engineers/isear_dataset.csv\", names=column_names)\n",
        "df.head()"
      ],
      "execution_count": 54,
      "outputs": [
        {
          "output_type": "execute_result",
          "data": {
            "text/html": [
              "<div>\n",
              "<style scoped>\n",
              "    .dataframe tbody tr th:only-of-type {\n",
              "        vertical-align: middle;\n",
              "    }\n",
              "\n",
              "    .dataframe tbody tr th {\n",
              "        vertical-align: top;\n",
              "    }\n",
              "\n",
              "    .dataframe thead th {\n",
              "        text-align: right;\n",
              "    }\n",
              "</style>\n",
              "<table border=\"1\" class=\"dataframe\">\n",
              "  <thead>\n",
              "    <tr style=\"text-align: right;\">\n",
              "      <th></th>\n",
              "      <th>Emotions</th>\n",
              "      <th>Sentences</th>\n",
              "    </tr>\n",
              "  </thead>\n",
              "  <tbody>\n",
              "    <tr>\n",
              "      <th>0</th>\n",
              "      <td>joy</td>\n",
              "      <td>On days when I feel close to my partner and ot...</td>\n",
              "    </tr>\n",
              "    <tr>\n",
              "      <th>1</th>\n",
              "      <td>fear</td>\n",
              "      <td>Every time I imagine that someone I love or I ...</td>\n",
              "    </tr>\n",
              "    <tr>\n",
              "      <th>2</th>\n",
              "      <td>anger</td>\n",
              "      <td>When I had been obviously unjustly treated and...</td>\n",
              "    </tr>\n",
              "    <tr>\n",
              "      <th>3</th>\n",
              "      <td>sadness</td>\n",
              "      <td>When I think about the short time that we live...</td>\n",
              "    </tr>\n",
              "    <tr>\n",
              "      <th>4</th>\n",
              "      <td>disgust</td>\n",
              "      <td>At a gathering I found myself involuntarily si...</td>\n",
              "    </tr>\n",
              "  </tbody>\n",
              "</table>\n",
              "</div>"
            ],
            "text/plain": [
              "  Emotions                                          Sentences\n",
              "0      joy  On days when I feel close to my partner and ot...\n",
              "1     fear  Every time I imagine that someone I love or I ...\n",
              "2    anger  When I had been obviously unjustly treated and...\n",
              "3  sadness  When I think about the short time that we live...\n",
              "4  disgust  At a gathering I found myself involuntarily si..."
            ]
          },
          "metadata": {
            "tags": []
          },
          "execution_count": 54
        }
      ]
    },
    {
      "cell_type": "code",
      "metadata": {
        "deletable": false,
        "nbgrader": {
          "checksum": "c70c74d1a008efd0365b5836de73a616",
          "grade": false,
          "grade_id": "cell-2da381c203e3fcca",
          "locked": false,
          "schema_version": 1,
          "solution": true
        },
        "id": "gIFOvYsmpEWs"
      },
      "source": [
        "df.dropna(inplace=True)"
      ],
      "execution_count": 56,
      "outputs": []
    },
    {
      "cell_type": "code",
      "metadata": {
        "colab": {
          "base_uri": "https://localhost:8080/"
        },
        "id": "YbiHkeFVpEWs",
        "outputId": "a0931125-b384-431d-e0f3-3c8b4e6b5261"
      },
      "source": [
        "print(\"The emotions to be classified are: \"+ str(list(df.Emotions.unique().tolist())))"
      ],
      "execution_count": 58,
      "outputs": [
        {
          "output_type": "stream",
          "text": [
            "The emotions to be classified are: ['joy', 'fear', 'anger', 'sadness', 'disgust', 'shame', 'guilt']\n"
          ],
          "name": "stdout"
        }
      ]
    },
    {
      "cell_type": "code",
      "metadata": {
        "deletable": false,
        "nbgrader": {
          "checksum": "f2cc16d754dddaac9ccce35e0dfebf43",
          "grade": false,
          "grade_id": "cell-ccd54ca3f6c8e4bb",
          "locked": false,
          "schema_version": 1,
          "solution": true
        },
        "colab": {
          "base_uri": "https://localhost:8080/"
        },
        "id": "ULqaSW6kpEWt",
        "outputId": "02128f18-7b45-4927-f6be-aa7ddcbbdcc0"
      },
      "source": [
        "print(\"We need to classify \"+ str(df.Emotions.nunique()) +\" emotions now.\")\n",
        "print(\"The emotions to be classified are: \"+ str(list(df.Emotions.unique())))"
      ],
      "execution_count": 59,
      "outputs": [
        {
          "output_type": "stream",
          "text": [
            "We need to classify 7 emotions now.\n",
            "The emotions to be classified are: ['joy', 'fear', 'anger', 'sadness', 'disgust', 'shame', 'guilt']\n"
          ],
          "name": "stdout"
        }
      ]
    },
    {
      "cell_type": "code",
      "metadata": {
        "colab": {
          "base_uri": "https://localhost:8080/"
        },
        "id": "8fvqRVUOpEWu",
        "outputId": "105120d1-ec14-4995-a752-457b03e26a1f"
      },
      "source": [
        "from collections import Counter\n",
        "Counter(df[\"Emotions\"].values)"
      ],
      "execution_count": 60,
      "outputs": [
        {
          "output_type": "execute_result",
          "data": {
            "text/plain": [
              "Counter({'anger': 1069,\n",
              "         'disgust': 1059,\n",
              "         'fear': 1063,\n",
              "         'guilt': 1040,\n",
              "         'joy': 1082,\n",
              "         'sadness': 1074,\n",
              "         'shame': 1059})"
            ]
          },
          "metadata": {
            "tags": []
          },
          "execution_count": 60
        }
      ]
    },
    {
      "cell_type": "code",
      "metadata": {
        "colab": {
          "base_uri": "https://localhost:8080/"
        },
        "id": "gkJsxSLGpEWu",
        "outputId": "38c898c2-0bde-4acb-e2fe-355b97cc4c8b"
      },
      "source": [
        "nltk.download('stopwords')"
      ],
      "execution_count": 61,
      "outputs": [
        {
          "output_type": "stream",
          "text": [
            "[nltk_data] Downloading package stopwords to /root/nltk_data...\n",
            "[nltk_data]   Package stopwords is already up-to-date!\n"
          ],
          "name": "stdout"
        },
        {
          "output_type": "execute_result",
          "data": {
            "text/plain": [
              "True"
            ]
          },
          "metadata": {
            "tags": []
          },
          "execution_count": 61
        }
      ]
    },
    {
      "cell_type": "markdown",
      "metadata": {
        "id": "jrZXWDmgyGpX"
      },
      "source": [
        "### Data Cleaning"
      ]
    },
    {
      "cell_type": "code",
      "metadata": {
        "deletable": false,
        "nbgrader": {
          "checksum": "f3311d183a10d15075135b06cb6a6b3f",
          "grade": false,
          "grade_id": "cell-338f3d531c3e76fe",
          "locked": false,
          "schema_version": 1,
          "solution": true
        },
        "id": "oZi0j2uQpEWv"
      },
      "source": [
        "def clean_text(text):\n",
        "    text=text.translate(string.punctuation)\n",
        "    text=text.lower().split()\n",
        "    \n",
        "    from nltk.corpus import stopwords\n",
        "    stops=set(stopwords.words(\"english\"))\n",
        "    text=[w for w in text if not w in stops]\n",
        "    text=\" \".join(text)\n",
        "    return text\n",
        "\n",
        "df['Sentences']=df['Sentences'].map(lambda x:clean_text(x))"
      ],
      "execution_count": 63,
      "outputs": []
    },
    {
      "cell_type": "code",
      "metadata": {
        "id": "n3aZa5gwpEWv"
      },
      "source": [
        "X, y = df['Sentences'], df['Emotions']"
      ],
      "execution_count": 64,
      "outputs": []
    },
    {
      "cell_type": "code",
      "metadata": {
        "colab": {
          "base_uri": "https://localhost:8080/"
        },
        "id": "gSBPNU_VtEPJ",
        "outputId": "dc329811-50e8-4128-fa52-678c1fd42c91"
      },
      "source": [
        "y[:20]"
      ],
      "execution_count": 65,
      "outputs": [
        {
          "output_type": "execute_result",
          "data": {
            "text/plain": [
              "0         joy\n",
              "1        fear\n",
              "2       anger\n",
              "3     sadness\n",
              "4     disgust\n",
              "5       shame\n",
              "6       guilt\n",
              "7         joy\n",
              "8        fear\n",
              "9       anger\n",
              "10    sadness\n",
              "11    disgust\n",
              "12      shame\n",
              "13      guilt\n",
              "14        joy\n",
              "15       fear\n",
              "16      anger\n",
              "17    sadness\n",
              "18    disgust\n",
              "19      shame\n",
              "Name: Emotions, dtype: object"
            ]
          },
          "metadata": {
            "tags": []
          },
          "execution_count": 65
        }
      ]
    },
    {
      "cell_type": "markdown",
      "metadata": {
        "id": "BLFiFm8zyLfc"
      },
      "source": [
        "### Hot Encoding target"
      ]
    },
    {
      "cell_type": "code",
      "metadata": {
        "deletable": false,
        "nbgrader": {
          "checksum": "84a1d2d14dbaa22ce18c5bdee50c7609",
          "grade": false,
          "grade_id": "cell-f7f232a9a6f87ca7",
          "locked": false,
          "schema_version": 1,
          "solution": true
        },
        "id": "bFvo8_0TpEWw"
      },
      "source": [
        "from keras.utils import np_utils\n",
        "encoder=LabelEncoder()\n",
        "encoder.fit(y)\n",
        "encoded_y=encoder.transform(y)\n",
        "onehot_y=np_utils.to_categorical(encoded_y)"
      ],
      "execution_count": 133,
      "outputs": []
    },
    {
      "cell_type": "code",
      "metadata": {
        "colab": {
          "base_uri": "https://localhost:8080/"
        },
        "id": "j8-4Yepys7jB",
        "outputId": "cf912108-8153-45aa-c80c-42d580a0cb09"
      },
      "source": [
        "len(onehot_y[0])"
      ],
      "execution_count": 119,
      "outputs": [
        {
          "output_type": "execute_result",
          "data": {
            "text/plain": [
              "7"
            ]
          },
          "metadata": {
            "tags": []
          },
          "execution_count": 119
        }
      ]
    },
    {
      "cell_type": "code",
      "metadata": {
        "deletable": false,
        "nbgrader": {
          "checksum": "336ced219c4c1e3f32ec300a47fb84ee",
          "grade": false,
          "grade_id": "cell-c829adb8ca47ac6d",
          "locked": false,
          "schema_version": 1,
          "solution": true
        },
        "colab": {
          "base_uri": "https://localhost:8080/"
        },
        "id": "awVoyJT2pEWw",
        "outputId": "695a8866-dac4-4ee1-abbf-b35330d9383c"
      },
      "source": [
        "vocab=set()\n",
        "a=[vocab.add(el) for s in X.values for el in s.split(' ')]\n",
        "print(\"Total Unique Words:\",len(a))"
      ],
      "execution_count": 68,
      "outputs": [
        {
          "output_type": "stream",
          "text": [
            "Total Unique Words: 79326\n"
          ],
          "name": "stdout"
        }
      ]
    },
    {
      "cell_type": "code",
      "metadata": {
        "deletable": false,
        "nbgrader": {
          "checksum": "d56fb2452a0868d6297b0b4a285d8dac",
          "grade": false,
          "grade_id": "cell-bf49f90cc5cd38ee",
          "locked": false,
          "schema_version": 1,
          "solution": true
        },
        "colab": {
          "base_uri": "https://localhost:8080/",
          "height": 314
        },
        "id": "xRcBNkBWpEWx",
        "outputId": "1ce9618b-dd8c-414d-a4b9-982756d267bd"
      },
      "source": [
        "l=[len(s) for s in X.values]\n",
        "counts=Counter(l)\n",
        "plt.bar(counts.keys(),counts.values())\n",
        "plt.show()\n",
        "print(\"Min: \",min(l))\n",
        "print(\"Median: \",np.median(l))\n",
        "print(\"max: \",max(l))"
      ],
      "execution_count": 69,
      "outputs": [
        {
          "output_type": "display_data",
          "data": {
            "image/png": "[encoded data removed]",
            "text/plain": [
              "<Figure size 432x288 with 1 Axes>"
            ]
          },
          "metadata": {
            "tags": [],
            "needs_background": "light"
          }
        },
        {
          "output_type": "stream",
          "text": [
            "Min:  4\n",
            "Median:  63.0\n",
            "max:  528\n"
          ],
          "name": "stdout"
        }
      ]
    },
    {
      "cell_type": "markdown",
      "metadata": {
        "id": "YbgrTflJyPt-"
      },
      "source": [
        "### Feature Engineering: Tokenizing and Embeddings"
      ]
    },
    {
      "cell_type": "code",
      "metadata": {
        "id": "vLWl4Sg8pEWx"
      },
      "source": [
        "vocabulary_size = 80896  # Select an Appropriate Vobabulary Size\n",
        "padded_length = 150  # Select an Appropriate padded Length for text\n",
        "tokenizer =Tokenizer(num_words=vocabulary_size)\n",
        "tokenizer.fit_on_texts(X)"
      ],
      "execution_count": 70,
      "outputs": []
    },
    {
      "cell_type": "code",
      "metadata": {
        "id": "qTDhXZF6pEWx"
      },
      "source": [
        "def preprocessing(X):\n",
        "    sequences = tokenizer.texts_to_sequences(X)\n",
        "    data = pad_sequences(sequences, maxlen= padded_length) \n",
        "    return data\n",
        "\n",
        "data = preprocessing(X)"
      ],
      "execution_count": 71,
      "outputs": []
    },
    {
      "cell_type": "markdown",
      "metadata": {
        "id": "lKLjk_0myXRv"
      },
      "source": [
        "### Train Test Split"
      ]
    },
    {
      "cell_type": "code",
      "metadata": {
        "deletable": false,
        "nbgrader": {
          "checksum": "3ab91334e974c9f1f5b569cfcabda43e",
          "grade": false,
          "grade_id": "cell-1c4b0fed651b6a89",
          "locked": false,
          "schema_version": 1,
          "solution": true
        },
        "id": "MU2BHa9gpEWy"
      },
      "source": [
        "X_train, X_test, y_train, y_test = train_test_split(data, onehot_y, test_size=0.1, random_state=101)"
      ],
      "execution_count": 72,
      "outputs": []
    },
    {
      "cell_type": "markdown",
      "metadata": {
        "id": "C6IzPY6dybnv"
      },
      "source": [
        "### Model Building"
      ]
    },
    {
      "cell_type": "code",
      "metadata": {
        "deletable": false,
        "nbgrader": {
          "checksum": "cb9620bd6366225ea01222c99e22457e",
          "grade": false,
          "grade_id": "cell-fd5782425382cc4c",
          "locked": false,
          "schema_version": 1,
          "solution": true
        },
        "colab": {
          "base_uri": "https://localhost:8080/"
        },
        "id": "et2c3cZxpEWy",
        "outputId": "e0ee6b43-e6c7-4aca-e5e5-1fafe6d8bbb6"
      },
      "source": [
        "learning_rate = 1e-2\n",
        "numEpoch = 20\n",
        "embedding_size=200\n",
        "lstm_size=64\n",
        "\n",
        "import tensorflow as tf\n",
        "import keras\n",
        "from keras import optimizers, regularizers\n",
        "from keras.layers import Dense, Flatten, LSTM, Dropout, Activation\n",
        "from keras.layers.embeddings import Embedding\n",
        "\n",
        "\n",
        "def create_model(embedding_size=100,lstm_size=32,layer1_size=32,dropoutrate=0.3):\n",
        "    model=keras.models.Sequential()\n",
        "    model.add(Embedding(vocabulary_size,embedding_size,input_length=padded_length,embeddings_regularizer=regularizers.l1(0.001)))\n",
        "    model.add(LSTM(lstm_size,dropout=dropoutrate, recurrent_dropout=dropoutrate))\n",
        "    model.add(Dense(layer1_size,activation='relu'))\n",
        "    model.add(Dropout(dropoutrate,seed=seed))\n",
        "    model.add(Dense(7,activation=\"softmax\"))\n",
        "    optim=optimizers.Adam(lr=learning_rate,beta_1=0.9,beta_2=0.999,epsilon=1e-08,decay=learning_rate/numEpoch)\n",
        "    model.compile(loss='categorical_crossentropy',optimizer=optim,metrics=[\"accuracy\"])\n",
        "    model.summary()\n",
        "    return model\n",
        "\n",
        "\n",
        "model=create_model(embedding_size=embedding_size,lstm_size=lstm_size,layer1_size=32, dropoutrate=0.3)"
      ],
      "execution_count": 82,
      "outputs": [
        {
          "output_type": "stream",
          "text": [
            "Model: \"sequential_3\"\n",
            "_________________________________________________________________\n",
            "Layer (type)                 Output Shape              Param #   \n",
            "=================================================================\n",
            "embedding_3 (Embedding)      (None, 150, 200)          16179200  \n",
            "_________________________________________________________________\n",
            "lstm_3 (LSTM)                (None, 64)                67840     \n",
            "_________________________________________________________________\n",
            "dense_6 (Dense)              (None, 32)                2080      \n",
            "_________________________________________________________________\n",
            "dropout_3 (Dropout)          (None, 32)                0         \n",
            "_________________________________________________________________\n",
            "dense_7 (Dense)              (None, 7)                 231       \n",
            "=================================================================\n",
            "Total params: 16,249,351\n",
            "Trainable params: 16,249,351\n",
            "Non-trainable params: 0\n",
            "_________________________________________________________________\n"
          ],
          "name": "stdout"
        }
      ]
    },
    {
      "cell_type": "code",
      "metadata": {
        "deletable": false,
        "nbgrader": {
          "checksum": "9a80745fca13031e6a75172f350e6a46",
          "grade": false,
          "grade_id": "cell-046882fee429c7b3",
          "locked": false,
          "schema_version": 1,
          "solution": true
        },
        "id": "yE2GmZX7pEW0"
      },
      "source": [
        "import matplotlib.pyplot as plt\n",
        "%matplotlib inline\n",
        "\n",
        "def plot(history):\n",
        "    \"\"\" Plots model loss from model train history\"\"\"\n",
        "    plt.plot(history.history['loss'])\n",
        "    plt.plot(history.history['val_loss'])\n",
        "    plt.title('model_loss')\n",
        "    plt.ylabel('loss')\n",
        "    plt.xlabel('epoch')\n",
        "    plt.legend(['train','validation'],loc='upper right')\n",
        "    plt.show()"
      ],
      "execution_count": 93,
      "outputs": []
    },
    {
      "cell_type": "code",
      "metadata": {
        "colab": {
          "base_uri": "https://localhost:8080/"
        },
        "id": "kW9ymH3Zqw_f",
        "outputId": "15ba3a06-6beb-4918-f660-b43f72d12d11"
      },
      "source": [
        "X_train"
      ],
      "execution_count": 85,
      "outputs": [
        {
          "output_type": "execute_result",
          "data": {
            "text/plain": [
              "array([[   0,    0,    0, ...,   27, 1072, 3288],\n",
              "       [   0,    0,    0, ..., 1318,  522, 1063],\n",
              "       [   0,    0,    0, ..., 1699,  134, 1536],\n",
              "       ...,\n",
              "       [   0,    0,    0, ...,    2,   65,  785],\n",
              "       [   0,    0,    0, ...,    6,  102,  651],\n",
              "       [   0,    0,    0, ..., 1113,  536, 1297]], dtype=int32)"
            ]
          },
          "metadata": {
            "tags": []
          },
          "execution_count": 85
        }
      ]
    },
    {
      "cell_type": "code",
      "metadata": {
        "colab": {
          "base_uri": "https://localhost:8080/"
        },
        "id": "O2rHUtTkqyvA",
        "outputId": "7eb53e33-ed0c-420a-cf74-5fa1415e1de4"
      },
      "source": [
        "y_train"
      ],
      "execution_count": 86,
      "outputs": [
        {
          "output_type": "execute_result",
          "data": {
            "text/plain": [
              "array([[0., 0., 0., ..., 1., 0., 0.],\n",
              "       [0., 0., 0., ..., 0., 1., 0.],\n",
              "       [0., 0., 0., ..., 0., 0., 1.],\n",
              "       ...,\n",
              "       [0., 0., 0., ..., 0., 0., 1.],\n",
              "       [1., 0., 0., ..., 0., 0., 0.],\n",
              "       [0., 1., 0., ..., 0., 0., 0.]], dtype=float32)"
            ]
          },
          "metadata": {
            "tags": []
          },
          "execution_count": 86
        }
      ]
    },
    {
      "cell_type": "code",
      "metadata": {
        "colab": {
          "base_uri": "https://localhost:8080/"
        },
        "id": "YWkJkL7gq0n5",
        "outputId": "a1e0f669-131d-4656-dbf4-72c3f5b1dc90"
      },
      "source": [
        "y_train[0]"
      ],
      "execution_count": 87,
      "outputs": [
        {
          "output_type": "execute_result",
          "data": {
            "text/plain": [
              "array([0., 0., 0., 0., 1., 0., 0.], dtype=float32)"
            ]
          },
          "metadata": {
            "tags": []
          },
          "execution_count": 87
        }
      ]
    },
    {
      "cell_type": "code",
      "metadata": {
        "deletable": false,
        "nbgrader": {
          "checksum": "6178697f32ea28437c4c8737623e21e7",
          "grade": false,
          "grade_id": "cell-da3734217f0808b0",
          "locked": false,
          "schema_version": 1,
          "solution": true
        },
        "scrolled": true,
        "colab": {
          "base_uri": "https://localhost:8080/",
          "height": 1000
        },
        "id": "fCoOyEmLpEW1",
        "outputId": "ba8b818a-676d-479c-bb2d-720373e467e4"
      },
      "source": [
        "history =model.fit(X_train,y_train,batch_size=128,validation_split=0.2,epochs=numEpoch)\n",
        "\n",
        "plot(history)"
      ],
      "execution_count": 88,
      "outputs": [
        {
          "output_type": "stream",
          "text": [
            "Epoch 1/20\n",
            "42/42 [==============================] - 36s 806ms/step - loss: 130.6320 - accuracy: 0.1575 - val_loss: 25.3351 - val_accuracy: 0.1573\n",
            "WARNING:tensorflow:Early stopping conditioned on metric `cal_loss` which is not available. Available metrics are: loss,accuracy,val_loss,val_accuracy\n",
            "Epoch 2/20\n",
            "42/42 [==============================] - 33s 798ms/step - loss: 24.1107 - accuracy: 0.1670 - val_loss: 23.0018 - val_accuracy: 0.2051\n",
            "WARNING:tensorflow:Early stopping conditioned on metric `cal_loss` which is not available. Available metrics are: loss,accuracy,val_loss,val_accuracy\n",
            "Epoch 3/20\n",
            "42/42 [==============================] - 34s 799ms/step - loss: 22.5844 - accuracy: 0.2147 - val_loss: 22.9077 - val_accuracy: 0.3147\n",
            "WARNING:tensorflow:Early stopping conditioned on metric `cal_loss` which is not available. Available metrics are: loss,accuracy,val_loss,val_accuracy\n",
            "Epoch 4/20\n",
            "42/42 [==============================] - 33s 795ms/step - loss: 22.1325 - accuracy: 0.3072 - val_loss: 21.8906 - val_accuracy: 0.3758\n",
            "WARNING:tensorflow:Early stopping conditioned on metric `cal_loss` which is not available. Available metrics are: loss,accuracy,val_loss,val_accuracy\n",
            "Epoch 5/20\n",
            "42/42 [==============================] - 33s 795ms/step - loss: 21.7682 - accuracy: 0.4069 - val_loss: 22.7772 - val_accuracy: 0.4586\n",
            "WARNING:tensorflow:Early stopping conditioned on metric `cal_loss` which is not available. Available metrics are: loss,accuracy,val_loss,val_accuracy\n",
            "Epoch 6/20\n",
            "42/42 [==============================] - 34s 801ms/step - loss: 21.4519 - accuracy: 0.4907 - val_loss: 20.3389 - val_accuracy: 0.5093\n",
            "WARNING:tensorflow:Early stopping conditioned on metric `cal_loss` which is not available. Available metrics are: loss,accuracy,val_loss,val_accuracy\n",
            "Epoch 7/20\n",
            "42/42 [==============================] - 34s 798ms/step - loss: 20.7553 - accuracy: 0.5271 - val_loss: 20.9086 - val_accuracy: 0.4907\n",
            "WARNING:tensorflow:Early stopping conditioned on metric `cal_loss` which is not available. Available metrics are: loss,accuracy,val_loss,val_accuracy\n",
            "Epoch 8/20\n",
            "42/42 [==============================] - 33s 796ms/step - loss: 20.1855 - accuracy: 0.5453 - val_loss: 20.0943 - val_accuracy: 0.4929\n",
            "WARNING:tensorflow:Early stopping conditioned on metric `cal_loss` which is not available. Available metrics are: loss,accuracy,val_loss,val_accuracy\n",
            "Epoch 9/20\n",
            "42/42 [==============================] - 33s 796ms/step - loss: 19.8259 - accuracy: 0.5636 - val_loss: 20.0653 - val_accuracy: 0.5160\n",
            "WARNING:tensorflow:Early stopping conditioned on metric `cal_loss` which is not available. Available metrics are: loss,accuracy,val_loss,val_accuracy\n",
            "Epoch 10/20\n",
            "42/42 [==============================] - 33s 797ms/step - loss: 19.5665 - accuracy: 0.5694 - val_loss: 20.1724 - val_accuracy: 0.5205\n",
            "WARNING:tensorflow:Early stopping conditioned on metric `cal_loss` which is not available. Available metrics are: loss,accuracy,val_loss,val_accuracy\n",
            "Epoch 11/20\n",
            "42/42 [==============================] - 33s 796ms/step - loss: 19.0660 - accuracy: 0.5816 - val_loss: 17.9967 - val_accuracy: 0.5339\n",
            "WARNING:tensorflow:Early stopping conditioned on metric `cal_loss` which is not available. Available metrics are: loss,accuracy,val_loss,val_accuracy\n",
            "Epoch 12/20\n",
            "42/42 [==============================] - 33s 794ms/step - loss: 18.4090 - accuracy: 0.5977 - val_loss: 18.8010 - val_accuracy: 0.5332\n",
            "WARNING:tensorflow:Early stopping conditioned on metric `cal_loss` which is not available. Available metrics are: loss,accuracy,val_loss,val_accuracy\n",
            "Epoch 13/20\n",
            "42/42 [==============================] - 33s 790ms/step - loss: 18.3594 - accuracy: 0.6091 - val_loss: 18.8210 - val_accuracy: 0.5309\n",
            "WARNING:tensorflow:Early stopping conditioned on metric `cal_loss` which is not available. Available metrics are: loss,accuracy,val_loss,val_accuracy\n",
            "Epoch 14/20\n",
            "42/42 [==============================] - 35s 847ms/step - loss: 17.9303 - accuracy: 0.6136 - val_loss: 17.7024 - val_accuracy: 0.5414\n",
            "WARNING:tensorflow:Early stopping conditioned on metric `cal_loss` which is not available. Available metrics are: loss,accuracy,val_loss,val_accuracy\n",
            "Epoch 15/20\n",
            "42/42 [==============================] - 33s 790ms/step - loss: 17.6777 - accuracy: 0.6213 - val_loss: 18.2700 - val_accuracy: 0.5332\n",
            "WARNING:tensorflow:Early stopping conditioned on metric `cal_loss` which is not available. Available metrics are: loss,accuracy,val_loss,val_accuracy\n",
            "Epoch 16/20\n",
            "42/42 [==============================] - 33s 790ms/step - loss: 17.2789 - accuracy: 0.6298 - val_loss: 16.7128 - val_accuracy: 0.5317\n",
            "WARNING:tensorflow:Early stopping conditioned on metric `cal_loss` which is not available. Available metrics are: loss,accuracy,val_loss,val_accuracy\n",
            "Epoch 17/20\n",
            "42/42 [==============================] - 33s 784ms/step - loss: 16.8897 - accuracy: 0.6433 - val_loss: 17.3560 - val_accuracy: 0.5474\n",
            "WARNING:tensorflow:Early stopping conditioned on metric `cal_loss` which is not available. Available metrics are: loss,accuracy,val_loss,val_accuracy\n",
            "Epoch 18/20\n",
            "42/42 [==============================] - 33s 788ms/step - loss: 16.6923 - accuracy: 0.6626 - val_loss: 16.8757 - val_accuracy: 0.5436\n",
            "WARNING:tensorflow:Early stopping conditioned on metric `cal_loss` which is not available. Available metrics are: loss,accuracy,val_loss,val_accuracy\n",
            "Epoch 19/20\n",
            "42/42 [==============================] - 33s 786ms/step - loss: 16.4267 - accuracy: 0.6586 - val_loss: 16.6143 - val_accuracy: 0.5198\n",
            "WARNING:tensorflow:Early stopping conditioned on metric `cal_loss` which is not available. Available metrics are: loss,accuracy,val_loss,val_accuracy\n",
            "Epoch 20/20\n",
            "42/42 [==============================] - 33s 789ms/step - loss: 16.1127 - accuracy: 0.6626 - val_loss: 16.8102 - val_accuracy: 0.5302\n",
            "WARNING:tensorflow:Early stopping conditioned on metric `cal_loss` which is not available. Available metrics are: loss,accuracy,val_loss,val_accuracy\n"
          ],
          "name": "stdout"
        },
        {
          "output_type": "display_data",
          "data": {
            "image/png": "[encoded data removed]",
            "text/plain": [
              "<Figure size 432x288 with 1 Axes>"
            ]
          },
          "metadata": {
            "tags": [],
            "needs_background": "light"
          }
        }
      ]
    },
    {
      "cell_type": "code",
      "metadata": {
        "colab": {
          "base_uri": "https://localhost:8080/"
        },
        "id": "vhVshEqGyoT0",
        "outputId": "aeaed14b-4b94-46d4-b1ec-95ed7b4f9811"
      },
      "source": [
        "# model.save(\"drive/My Drive/Training_AI_Engineers/isear_lstm\")"
      ],
      "execution_count": 96,
      "outputs": [
        {
          "output_type": "stream",
          "text": [
            "INFO:tensorflow:Assets written to: drive/My Drive/Training_AI_Engineers/isear_lstm/assets\n"
          ],
          "name": "stdout"
        }
      ]
    },
    {
      "cell_type": "code",
      "metadata": {
        "id": "yu46oDNH5HLQ"
      },
      "source": [
        "model = load_model(\"drive/My Drive/Training_AI_Engineers/isear_lstm\")"
      ],
      "execution_count": 99,
      "outputs": []
    },
    {
      "cell_type": "code",
      "metadata": {
        "colab": {
          "base_uri": "https://localhost:8080/"
        },
        "id": "wn_UPtk6pEW1",
        "outputId": "46ae3fda-7b86-43a2-929a-adfb6fd75566"
      },
      "source": [
        "# train_model = mode\n",
        "score = model.evaluate(X_test, y_test) \n",
        "print('Test score:', score[0]) \n",
        "print('Test accuracy:', score[1])"
      ],
      "execution_count": 100,
      "outputs": [
        {
          "output_type": "stream",
          "text": [
            "24/24 [==============================] - 2s 60ms/step - loss: 16.5972 - accuracy: 0.5315\n",
            "Test score: 16.597240447998047\n",
            "Test accuracy: 0.5315436124801636\n"
          ],
          "name": "stdout"
        }
      ]
    },
    {
      "cell_type": "code",
      "metadata": {
        "colab": {
          "base_uri": "https://localhost:8080/"
        },
        "id": "H3aUen7AznPv",
        "outputId": "83f48125-3298-470b-fa58-bd5314175464"
      },
      "source": [
        "X_test"
      ],
      "execution_count": 101,
      "outputs": [
        {
          "output_type": "execute_result",
          "data": {
            "text/plain": [
              "array([[   0,    0,    0, ...,  453,  954,    1],\n",
              "       [   0,    0,    0, ...,  932,   34,  376],\n",
              "       [   0,    0,    0, ...,   98,  266,  305],\n",
              "       ...,\n",
              "       [   0,    0,    0, ...,  650,    2,   68],\n",
              "       [   0,    0,    0, ...,  117, 4632, 1276],\n",
              "       [   0,    0,    0, ...,   66, 5887,   76]], dtype=int32)"
            ]
          },
          "metadata": {
            "tags": []
          },
          "execution_count": 101
        }
      ]
    },
    {
      "cell_type": "code",
      "metadata": {
        "colab": {
          "base_uri": "https://localhost:8080/"
        },
        "id": "FfgMaek66q48",
        "outputId": "e8be0983-d2db-452f-eae5-5370ca4b5c31"
      },
      "source": [
        "len(model.predict(X_test[0]))"
      ],
      "execution_count": 110,
      "outputs": [
        {
          "output_type": "execute_result",
          "data": {
            "text/plain": [
              "150"
            ]
          },
          "metadata": {
            "tags": []
          },
          "execution_count": 110
        }
      ]
    },
    {
      "cell_type": "code",
      "metadata": {
        "colab": {
          "base_uri": "https://localhost:8080/"
        },
        "id": "rZVbKWw26zni",
        "outputId": "19546a57-4268-42b1-f6e4-4cc4f70cde0b"
      },
      "source": [
        "len(X_test)"
      ],
      "execution_count": 113,
      "outputs": [
        {
          "output_type": "execute_result",
          "data": {
            "text/plain": [
              "745"
            ]
          },
          "metadata": {
            "tags": []
          },
          "execution_count": 113
        }
      ]
    },
    {
      "cell_type": "code",
      "metadata": {
        "colab": {
          "base_uri": "https://localhost:8080/"
        },
        "id": "hOUPc2vwpEW2",
        "outputId": "e08163c7-b4d1-4e56-d973-e0d6d759f1f1"
      },
      "source": [
        "from sklearn import metrics\n",
        "prediction=model.predict(X_test)\n",
        "\n",
        "test_y=encoder.inverse_transform(np.argmax(y_test,axis=1,out=None))\n",
        "pred_y=encoder.inverse_transform(np.argmax(prediction,axis=1,out=None))\n",
        "print (metrics.classification_report(test_y,pred_y))"
      ],
      "execution_count": 91,
      "outputs": [
        {
          "output_type": "stream",
          "text": [
            "              precision    recall  f1-score   support\n",
            "\n",
            "       anger       0.44      0.50      0.46       105\n",
            "     disgust       0.50      0.58      0.54       115\n",
            "        fear       0.62      0.60      0.61        99\n",
            "       guilt       0.50      0.43      0.46       104\n",
            "         joy       0.69      0.59      0.64       115\n",
            "     sadness       0.59      0.61      0.60       107\n",
            "       shame       0.41      0.40      0.41       100\n",
            "\n",
            "    accuracy                           0.53       745\n",
            "   macro avg       0.54      0.53      0.53       745\n",
            "weighted avg       0.54      0.53      0.53       745\n",
            "\n"
          ],
          "name": "stdout"
        }
      ]
    },
    {
      "cell_type": "code",
      "metadata": {
        "colab": {
          "base_uri": "https://localhost:8080/",
          "height": 427
        },
        "id": "QaBF8ay4pEW2",
        "outputId": "20f9ef38-b515-444c-b0fe-9031438f0330"
      },
      "source": [
        "cm=metrics.confusion_matrix(test_y,pred_y)\n",
        "plt.figure(figsize=(7,7))\n",
        "plt.imshow(cm,interpolation='nearest',cmap='Blues')\n",
        "ticks=encoder.inverse_transform(range(7)).astype(str)\n",
        "plt.xticks(range(7),ticks)\n",
        "plt.yticks(range(7),ticks)\n",
        "plt.show()"
      ],
      "execution_count": 92,
      "outputs": [
        {
          "output_type": "display_data",
          "data": {
            "image/png": "[encoded data removed]",
            "text/plain": [
              "<Figure size 504x504 with 1 Axes>"
            ]
          },
          "metadata": {
            "tags": [],
            "needs_background": "light"
          }
        }
      ]
    },
    {
      "cell_type": "code",
      "metadata": {
        "colab": {
          "base_uri": "https://localhost:8080/"
        },
        "id": "09fHC1G85nuA",
        "outputId": "c6ea081a-c656-4f12-cd5e-bad7f553bf16"
      },
      "source": [
        "model.predict(X_test[0])[0]"
      ],
      "execution_count": 106,
      "outputs": [
        {
          "output_type": "execute_result",
          "data": {
            "text/plain": [
              "array([0.12698969, 0.13594648, 0.1502062 , 0.11826833, 0.13407204,\n",
              "       0.20582294, 0.12869431], dtype=float32)"
            ]
          },
          "metadata": {
            "tags": []
          },
          "execution_count": 106
        }
      ]
    },
    {
      "cell_type": "code",
      "metadata": {
        "colab": {
          "base_uri": "https://localhost:8080/"
        },
        "id": "Mh5MWchc5vvt",
        "outputId": "0c0c1079-cf08-42c6-e1e3-de4b2f5756a7"
      },
      "source": [
        "X_test[0][0]"
      ],
      "execution_count": 105,
      "outputs": [
        {
          "output_type": "execute_result",
          "data": {
            "text/plain": [
              "0"
            ]
          },
          "metadata": {
            "tags": []
          },
          "execution_count": 105
        }
      ]
    },
    {
      "cell_type": "code",
      "metadata": {
        "id": "DBJ2c8O95zOv"
      },
      "source": [
        "def predict_sentiment(inpText):\n",
        "  '''\n",
        "  Function to predict the Sentiment of the sentence given as input by the User\n",
        "\n",
        "  Parameters:\n",
        "  ----------\n",
        "\n",
        "  inpText/inputText: Given Text input by the user\n",
        "  tokenizedSeq: Tokenizing the input text into sequences in the similar way\n",
        "                 as done during the training preprocessing steps\n",
        "  padSeq: Padding the Sequence in the same shape as done in training\n",
        "  sentiment_value: 1 or 0 result obtained after the Sentiments Prediction\n",
        "  sentiment: Storing the resulting sentiments as Positive or Negative\n",
        "\n",
        "  Returns:\n",
        "  -------\n",
        "  sentiment: Single string either Postive or Negative is returned on the basis of model prediction\n",
        "\n",
        "  '''\n",
        "  # Now, self validating the model by giving inputs on inputText variable\n",
        "  inputText = inpText\n",
        "  # to develop a tokenized sequence, we use the texts_to_sequences function from the tokenizer \n",
        "  tokenizedSeq = tokenizer.texts_to_sequences([inputText])\n",
        "\n",
        "  # after this, padding the sequence is done to take the input to the shape in which the data are trained\n",
        "  # we have to understand that when the sequences length gets differed then, the machine\n",
        "  # learning model will fail to predict. So, we have to take the test input\n",
        "  # to the same format as the training data which is fitted on the model\n",
        "  # for this, we use the pad_sequences function\n",
        "  padSeq = pad_sequences(tokenizedSeq,maxlen=len(tokenizedSeq[0]))\n",
        "\n",
        "  # because our model has sigmoid activation on the final layer, the value that\n",
        "  # is returned is between 0 and 1.\n",
        "  # So, we have to follow the following steps to round the result either in 1 or 0\n",
        "  # so, the model returns 1 if 0.5 or greater is predicted result else the model returns 0\n",
        "  sentiment_value = model.predict(padSeq)\n",
        "\n",
        "  # Based on the sentiment value, we can classify the input as positive or negative sentiments as\n",
        "  # sentiment = sentiments[1][sentiment_value]\n",
        "\n",
        "  # Finally, we return the sentiment i.e. either Postive or Negative from this function\n",
        "  return sentiment_value"
      ],
      "execution_count": 117,
      "outputs": []
    },
    {
      "cell_type": "code",
      "metadata": {
        "colab": {
          "base_uri": "https://localhost:8080/"
        },
        "id": "aKz2Uar57uqd",
        "outputId": "8267874b-f579-4a3d-86be-331ba8db211a"
      },
      "source": [
        "# For a quick demonstration, we can just give an Input and See whether the text\n",
        "# bears a positive or a negative sentiments\n",
        "# we can give the input as following:\n",
        "inpText = input()\n",
        "# and for making prediction of the given input, we can call our predict_sentiment\n",
        "# function as predict_sentiment(inpText). In this way, we can give input and\n",
        "# obtain predictions\n",
        "print(f\"Predicted Label: {predict_sentiment(inpText)}\")"
      ],
      "execution_count": 143,
      "outputs": [
        {
          "output_type": "stream",
          "text": [
            "happy\n",
            "Predicted Label: [[3.1071488e-04 5.4038432e-04 3.8485511e-04 1.2577145e-04 9.8628342e-01\n",
            "  1.0142793e-02 2.2119884e-03]]\n"
          ],
          "name": "stdout"
        }
      ]
    },
    {
      "cell_type": "code",
      "metadata": {
        "colab": {
          "base_uri": "https://localhost:8080/"
        },
        "id": "hF1UcaOmBwfe",
        "outputId": "e191c342-2655-453e-a931-d3380e7f9897"
      },
      "source": [
        "# For a quick demonstration, we can just give an Input and See whether the text\n",
        "# bears a positive or a negative sentiments\n",
        "# we can give the input as following:\n",
        "inpText = input()\n",
        "# and for making prediction of the given input, we can call our predict_sentiment\n",
        "# function as predict_sentiment(inpText). In this way, we can give input and\n",
        "# obtain predictions\n",
        "emotion_prediction = predict_sentiment(inpText)\n",
        "print(f\"Predicted Label: {predict_sentiment(inpText)}\")"
      ],
      "execution_count": 155,
      "outputs": [
        {
          "output_type": "stream",
          "text": [
            "i am happy with this model.\n",
            "Predicted Label: [[0.01648395 0.01189517 0.00624375 0.00825585 0.8523542  0.0781191\n",
            "  0.02664796]]\n"
          ],
          "name": "stdout"
        }
      ]
    },
    {
      "cell_type": "code",
      "metadata": {
        "colab": {
          "base_uri": "https://localhost:8080/"
        },
        "id": "4FDoy_ZB7wnV",
        "outputId": "09a5f1df-aa36-4048-ac57-6ba40c625aa7"
      },
      "source": [
        "print(f\"anger: {emotion_prediction[0][0]}\")\n",
        "print(f\"disgust: {emotion_prediction[0][1]}\")\n",
        "print(f\"fear: {emotion_prediction[0][2]}\")\n",
        "print(f\"guilt: {emotion_prediction[0][3]}\")\n",
        "print(f\"joy: {emotion_prediction[0][4]}\")\n",
        "print(f\"sadness: {emotion_prediction[0][5]}\")\n",
        "print(f\"shame: {emotion_prediction[0][6]}\")"
      ],
      "execution_count": 156,
      "outputs": [
        {
          "output_type": "stream",
          "text": [
            "anger: 0.016483953222632408\n",
            "disgust: 0.011895171366631985\n",
            "fear: 0.006243749056011438\n",
            "guilt: 0.008255849592387676\n",
            "joy: 0.8523542284965515\n",
            "sadness: 0.07811909914016724\n",
            "shame: 0.026647960767149925\n"
          ],
          "name": "stdout"
        }
      ]
    },
    {
      "cell_type": "code",
      "metadata": {
        "id": "4-TA51eRASys"
      },
      "source": [
        ""
      ],
      "execution_count": null,
      "outputs": []
    }
  ]
}