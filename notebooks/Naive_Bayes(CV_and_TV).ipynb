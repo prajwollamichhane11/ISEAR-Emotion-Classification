{
  "nbformat": 4,
  "nbformat_minor": 0,
  "metadata": {
    "colab": {
      "name": "Naive_Bayes(CV_and_TV).ipynb",
      "provenance": [],
      "collapsed_sections": []
    },
    "kernelspec": {
      "name": "python3",
      "display_name": "Python 3"
    },
    "accelerator": "GPU"
  },
  "cells": [
    {
      "cell_type": "code",
      "metadata": {
        "id": "lkxavdkZmOP5",
        "colab": {
          "base_uri": "https://localhost:8080/"
        },
        "outputId": "d941a5fe-6b21-468e-d6a7-0cce7eb03a9f"
      },
      "source": [
        "import re\n",
        "import nltk\n",
        "\n",
        "import numpy as np\n",
        "import pandas as pd\n",
        "import matplotlib.pyplot as plt\n",
        "\n",
        "from nltk.corpus import stopwords\n",
        "\n",
        "nltk.download('wordnet')\n",
        "nltk.download('stopwords')\n",
        "\n",
        "from sklearn.model_selection import train_test_split, cross_val_score"
      ],
      "execution_count": 1,
      "outputs": [
        {
          "output_type": "stream",
          "text": [
            "[nltk_data] Downloading package wordnet to /root/nltk_data...\n",
            "[nltk_data]   Package wordnet is already up-to-date!\n",
            "[nltk_data] Downloading package stopwords to /root/nltk_data...\n",
            "[nltk_data]   Package stopwords is already up-to-date!\n"
          ],
          "name": "stdout"
        }
      ]
    },
    {
      "cell_type": "code",
      "metadata": {
        "colab": {
          "base_uri": "https://localhost:8080/"
        },
        "id": "RnNzMmXKmXk4",
        "outputId": "35872b92-dc16-4c30-8a60-8d7bcd6c6376"
      },
      "source": [
        "# Mounting the Google Drive\n",
        "from google.colab import drive\n",
        "drive.mount('/content/drive/')"
      ],
      "execution_count": 2,
      "outputs": [
        {
          "output_type": "stream",
          "text": [
            "Drive already mounted at /content/drive/; to attempt to forcibly remount, call drive.mount(\"/content/drive/\", force_remount=True).\n"
          ],
          "name": "stdout"
        }
      ]
    },
    {
      "cell_type": "code",
      "metadata": {
        "id": "haUUq0H7maZL"
      },
      "source": [
        "columns = [\"emotion\", \"text\"]\n",
        "df = pd.read_csv(\"drive/My Drive/Training_AI_Engineers/isear_dataset.csv\", names=columns)"
      ],
      "execution_count": 3,
      "outputs": []
    },
    {
      "cell_type": "code",
      "metadata": {
        "colab": {
          "base_uri": "https://localhost:8080/",
          "height": 191
        },
        "id": "Tg_m_u07myFf",
        "outputId": "85e9c954-91fb-45f4-b099-ffe1b59bd40f"
      },
      "source": [
        "df.head()\n"
      ],
      "execution_count": 4,
      "outputs": [
        {
          "output_type": "execute_result",
          "data": {
            "text/html": [
              "<div>\n",
              "<style scoped>\n",
              "    .dataframe tbody tr th:only-of-type {\n",
              "        vertical-align: middle;\n",
              "    }\n",
              "\n",
              "    .dataframe tbody tr th {\n",
              "        vertical-align: top;\n",
              "    }\n",
              "\n",
              "    .dataframe thead th {\n",
              "        text-align: right;\n",
              "    }\n",
              "</style>\n",
              "<table border=\"1\" class=\"dataframe\">\n",
              "  <thead>\n",
              "    <tr style=\"text-align: right;\">\n",
              "      <th></th>\n",
              "      <th>emotion</th>\n",
              "      <th>text</th>\n",
              "    </tr>\n",
              "  </thead>\n",
              "  <tbody>\n",
              "    <tr>\n",
              "      <th>0</th>\n",
              "      <td>joy</td>\n",
              "      <td>On days when I feel close to my partner and ot...</td>\n",
              "    </tr>\n",
              "    <tr>\n",
              "      <th>1</th>\n",
              "      <td>fear</td>\n",
              "      <td>Every time I imagine that someone I love or I ...</td>\n",
              "    </tr>\n",
              "    <tr>\n",
              "      <th>2</th>\n",
              "      <td>anger</td>\n",
              "      <td>When I had been obviously unjustly treated and...</td>\n",
              "    </tr>\n",
              "    <tr>\n",
              "      <th>3</th>\n",
              "      <td>sadness</td>\n",
              "      <td>When I think about the short time that we live...</td>\n",
              "    </tr>\n",
              "    <tr>\n",
              "      <th>4</th>\n",
              "      <td>disgust</td>\n",
              "      <td>At a gathering I found myself involuntarily si...</td>\n",
              "    </tr>\n",
              "  </tbody>\n",
              "</table>\n",
              "</div>"
            ],
            "text/plain": [
              "   emotion                                               text\n",
              "0      joy  On days when I feel close to my partner and ot...\n",
              "1     fear  Every time I imagine that someone I love or I ...\n",
              "2    anger  When I had been obviously unjustly treated and...\n",
              "3  sadness  When I think about the short time that we live...\n",
              "4  disgust  At a gathering I found myself involuntarily si..."
            ]
          },
          "metadata": {
            "tags": []
          },
          "execution_count": 4
        }
      ]
    },
    {
      "cell_type": "code",
      "metadata": {
        "id": "s6Efa3MirJv3"
      },
      "source": [
        ""
      ],
      "execution_count": 4,
      "outputs": []
    },
    {
      "cell_type": "code",
      "metadata": {
        "colab": {
          "base_uri": "https://localhost:8080/"
        },
        "id": "9hQXrc_40P_2",
        "outputId": "dac2502f-821b-4ac2-fc35-d673fc7c4ac9"
      },
      "source": [
        "import nltk\n",
        "nltk.download('wordnet')\n",
        "from nltk.corpus import stopwords"
      ],
      "execution_count": 5,
      "outputs": [
        {
          "output_type": "stream",
          "text": [
            "[nltk_data] Downloading package wordnet to /root/nltk_data...\n",
            "[nltk_data]   Package wordnet is already up-to-date!\n"
          ],
          "name": "stdout"
        }
      ]
    },
    {
      "cell_type": "code",
      "metadata": {
        "id": "m9z_vMSz0QCa"
      },
      "source": [
        "tokenizer = nltk.tokenize.TreebankWordTokenizer()\n",
        "stop_words = stopwords.words(\"english\")\n",
        "from nltk.stem.snowball import SnowballStemmer\n",
        "from nltk.stem.wordnet import WordNetLemmatizer\n",
        "\n",
        "stemmer = SnowballStemmer(\"english\")\n",
        "lemmatizer = WordNetLemmatizer()\n",
        "\n",
        "def process_text(text):\n",
        "    #convert text to lowercase\n",
        "    text= text.apply(lambda x:x.lower())\n",
        "    \n",
        "    #remove multiple spaces from text\n",
        "    text= text.apply(lambda x:re.sub(' +', ' ',x))\n",
        "    \n",
        "    # remove alpha numeric characeter from text using regex\n",
        "    text= text.apply(lambda x:x.lower())\n",
        "    text.str.replace(r\"\\d+\", \"\")\n",
        "    text.str.replace('[^\\w\\s]','')\n",
        "    text.str.replace(r\"[︰-＠]\", \"\")\n",
        "    text.str.replace(r\"\", \"\")\n",
        "    \n",
        "    #tokenize\n",
        "    text = text.apply(tokenizer.tokenize)\n",
        "    \n",
        "    #remove english stop words form text\n",
        "    text =text.apply(lambda x: [item for item in x if item not in stop_words])\n",
        "\n",
        "    #stemming text\n",
        "    # text =text.apply(lambda x: [stemmer.stem(e) for e in x])\n",
        "    \n",
        "    #stripping spaces from items of array of texts\n",
        "    text=text.apply(lambda x: [e.strip() for e in x])\n",
        "    \n",
        "    #remove all the characters from array of texts if the length of item is 1\n",
        "    text=text.apply( lambda x: [ y for y in x if len(y)>1 ])\n",
        "    \n",
        "    #remove all the digits from the text\n",
        "    text=text.apply( lambda x: [ y for y in x if not y.isdigit()] )\n",
        "    \n",
        "    # lemattizing text\n",
        "    # text = text.apply(lambda x: ' '.join(lemmatizer.lemmatize(token) for token in x))\n",
        "\n",
        "    # joining texts\n",
        "    text = text.apply(lambda x: ' '.join(token for token in x))\n",
        "\n",
        "    return text"
      ],
      "execution_count": 6,
      "outputs": []
    },
    {
      "cell_type": "code",
      "metadata": {
        "id": "7rU8xT7I0QFF"
      },
      "source": [
        "df = df.apply(lambda x: process_text(x) if x.name=='text' else x)"
      ],
      "execution_count": 7,
      "outputs": []
    },
    {
      "cell_type": "markdown",
      "metadata": {
        "id": "v0BLKiwx3QVi"
      },
      "source": [
        "# Machine Learning Analysis (Naive Bayes)"
      ]
    },
    {
      "cell_type": "code",
      "metadata": {
        "id": "x0ysRZc2ovHr"
      },
      "source": [
        "from sklearn.preprocessing import LabelEncoder"
      ],
      "execution_count": 8,
      "outputs": []
    },
    {
      "cell_type": "code",
      "metadata": {
        "id": "flA2EvlSo8RE"
      },
      "source": [
        "le = LabelEncoder()"
      ],
      "execution_count": 9,
      "outputs": []
    },
    {
      "cell_type": "code",
      "metadata": {
        "colab": {
          "base_uri": "https://localhost:8080/"
        },
        "id": "uEzm9slEo9lq",
        "outputId": "ad7ab174-896c-4927-9197-e7f38f24d649"
      },
      "source": [
        "le.fit(df[\"emotion\"])\n"
      ],
      "execution_count": 10,
      "outputs": [
        {
          "output_type": "execute_result",
          "data": {
            "text/plain": [
              "LabelEncoder()"
            ]
          },
          "metadata": {
            "tags": []
          },
          "execution_count": 10
        }
      ]
    },
    {
      "cell_type": "code",
      "metadata": {
        "colab": {
          "base_uri": "https://localhost:8080/"
        },
        "id": "A-scAxiipBx4",
        "outputId": "a31728c8-40e7-409c-a40c-7fc13a7ba23d"
      },
      "source": [
        "le.classes_"
      ],
      "execution_count": 11,
      "outputs": [
        {
          "output_type": "execute_result",
          "data": {
            "text/plain": [
              "array(['anger', 'disgust', 'fear', 'guilt', 'joy', 'sadness', 'shame'],\n",
              "      dtype=object)"
            ]
          },
          "metadata": {
            "tags": []
          },
          "execution_count": 11
        }
      ]
    },
    {
      "cell_type": "code",
      "metadata": {
        "colab": {
          "base_uri": "https://localhost:8080/"
        },
        "id": "LcpUj5vKpD-M",
        "outputId": "f214354d-a430-452b-e3b2-96b2ad3076f0"
      },
      "source": [
        "df[\"emotion\"] = le.transform(df[\"emotion\"])\n",
        "df[\"emotion\"]"
      ],
      "execution_count": 12,
      "outputs": [
        {
          "output_type": "execute_result",
          "data": {
            "text/plain": [
              "0       4\n",
              "1       2\n",
              "2       0\n",
              "3       5\n",
              "4       1\n",
              "       ..\n",
              "7441    0\n",
              "7442    5\n",
              "7443    1\n",
              "7444    6\n",
              "7445    3\n",
              "Name: emotion, Length: 7446, dtype: int64"
            ]
          },
          "metadata": {
            "tags": []
          },
          "execution_count": 12
        }
      ]
    },
    {
      "cell_type": "code",
      "metadata": {
        "colab": {
          "base_uri": "https://localhost:8080/"
        },
        "id": "yshDqJQsmzHV",
        "outputId": "5d8d5a9c-eb83-4878-95a8-f2548ef71a73"
      },
      "source": [
        "df[\"emotion\"].value_counts()"
      ],
      "execution_count": 13,
      "outputs": [
        {
          "output_type": "execute_result",
          "data": {
            "text/plain": [
              "4    1082\n",
              "5    1074\n",
              "0    1069\n",
              "2    1063\n",
              "6    1059\n",
              "1    1059\n",
              "3    1040\n",
              "Name: emotion, dtype: int64"
            ]
          },
          "metadata": {
            "tags": []
          },
          "execution_count": 13
        }
      ]
    },
    {
      "cell_type": "code",
      "metadata": {
        "colab": {
          "base_uri": "https://localhost:8080/",
          "height": 277
        },
        "id": "nfokcFB6m_K7",
        "outputId": "68269211-8428-46f9-9473-5e91fc09c9a8"
      },
      "source": [
        "df.describe()"
      ],
      "execution_count": 14,
      "outputs": [
        {
          "output_type": "execute_result",
          "data": {
            "text/html": [
              "<div>\n",
              "<style scoped>\n",
              "    .dataframe tbody tr th:only-of-type {\n",
              "        vertical-align: middle;\n",
              "    }\n",
              "\n",
              "    .dataframe tbody tr th {\n",
              "        vertical-align: top;\n",
              "    }\n",
              "\n",
              "    .dataframe thead th {\n",
              "        text-align: right;\n",
              "    }\n",
              "</style>\n",
              "<table border=\"1\" class=\"dataframe\">\n",
              "  <thead>\n",
              "    <tr style=\"text-align: right;\">\n",
              "      <th></th>\n",
              "      <th>emotion</th>\n",
              "    </tr>\n",
              "  </thead>\n",
              "  <tbody>\n",
              "    <tr>\n",
              "      <th>count</th>\n",
              "      <td>7446.000000</td>\n",
              "    </tr>\n",
              "    <tr>\n",
              "      <th>mean</th>\n",
              "      <td>3.002552</td>\n",
              "    </tr>\n",
              "    <tr>\n",
              "      <th>std</th>\n",
              "      <td>2.001643</td>\n",
              "    </tr>\n",
              "    <tr>\n",
              "      <th>min</th>\n",
              "      <td>0.000000</td>\n",
              "    </tr>\n",
              "    <tr>\n",
              "      <th>25%</th>\n",
              "      <td>1.000000</td>\n",
              "    </tr>\n",
              "    <tr>\n",
              "      <th>50%</th>\n",
              "      <td>3.000000</td>\n",
              "    </tr>\n",
              "    <tr>\n",
              "      <th>75%</th>\n",
              "      <td>5.000000</td>\n",
              "    </tr>\n",
              "    <tr>\n",
              "      <th>max</th>\n",
              "      <td>6.000000</td>\n",
              "    </tr>\n",
              "  </tbody>\n",
              "</table>\n",
              "</div>"
            ],
            "text/plain": [
              "           emotion\n",
              "count  7446.000000\n",
              "mean      3.002552\n",
              "std       2.001643\n",
              "min       0.000000\n",
              "25%       1.000000\n",
              "50%       3.000000\n",
              "75%       5.000000\n",
              "max       6.000000"
            ]
          },
          "metadata": {
            "tags": []
          },
          "execution_count": 14
        }
      ]
    },
    {
      "cell_type": "code",
      "metadata": {
        "id": "7rJziXhqq7J3"
      },
      "source": [
        "x_train, x_test, y_train, y_test = train_test_split(df['text'], df[\"emotion\"], test_size=0.2, random_state=53)"
      ],
      "execution_count": 15,
      "outputs": []
    },
    {
      "cell_type": "markdown",
      "metadata": {
        "id": "YVIggXnurz20"
      },
      "source": [
        "### Count Vectorizer"
      ]
    },
    {
      "cell_type": "code",
      "metadata": {
        "id": "2IPETUl1oLUa"
      },
      "source": [
        "from sklearn.feature_extraction.text import CountVectorizer"
      ],
      "execution_count": 16,
      "outputs": []
    },
    {
      "cell_type": "code",
      "metadata": {
        "id": "iZG7GNKyofR4"
      },
      "source": [
        "cv = CountVectorizer()"
      ],
      "execution_count": 17,
      "outputs": []
    },
    {
      "cell_type": "code",
      "metadata": {
        "id": "IknrJlS_ogVV",
        "colab": {
          "base_uri": "https://localhost:8080/"
        },
        "outputId": "27b7bed0-4c75-47b9-e396-b63f95fd5285"
      },
      "source": [
        "x_traincv = cv.fit_transform(x_train)\n",
        "x_traincv\n"
      ],
      "execution_count": 18,
      "outputs": [
        {
          "output_type": "execute_result",
          "data": {
            "text/plain": [
              "<5956x7861 sparse matrix of type '<class 'numpy.int64'>'\n",
              "\twith 56116 stored elements in Compressed Sparse Row format>"
            ]
          },
          "metadata": {
            "tags": []
          },
          "execution_count": 18
        }
      ]
    },
    {
      "cell_type": "code",
      "metadata": {
        "id": "j38zoMwtpI75",
        "colab": {
          "base_uri": "https://localhost:8080/"
        },
        "outputId": "b25b7736-9d25-4375-916b-64d07543f205"
      },
      "source": [
        "xtrain_arrCV = x_traincv.toarray()\n",
        "xtrain_arrCV"
      ],
      "execution_count": 19,
      "outputs": [
        {
          "output_type": "execute_result",
          "data": {
            "text/plain": [
              "array([[0, 0, 0, ..., 0, 0, 0],\n",
              "       [0, 0, 0, ..., 0, 0, 0],\n",
              "       [0, 0, 0, ..., 0, 0, 0],\n",
              "       ...,\n",
              "       [0, 0, 0, ..., 0, 0, 0],\n",
              "       [0, 0, 0, ..., 0, 0, 0],\n",
              "       [0, 0, 0, ..., 0, 0, 0]])"
            ]
          },
          "metadata": {
            "tags": []
          },
          "execution_count": 19
        }
      ]
    },
    {
      "cell_type": "code",
      "metadata": {
        "colab": {
          "base_uri": "https://localhost:8080/"
        },
        "id": "5dpoFx2Brr83",
        "outputId": "1b4ebdcd-a1c0-4f7e-9ddf-4f947a285c89"
      },
      "source": [
        "print(len(xtrain_arrCV))"
      ],
      "execution_count": 20,
      "outputs": [
        {
          "output_type": "stream",
          "text": [
            "5956\n"
          ],
          "name": "stdout"
        }
      ]
    },
    {
      "cell_type": "markdown",
      "metadata": {
        "id": "7GoNm0kGr2al"
      },
      "source": [
        "### Tfidf Vectorizer"
      ]
    },
    {
      "cell_type": "code",
      "metadata": {
        "id": "LGc0pDWAsGgB"
      },
      "source": [
        "from sklearn.feature_extraction.text import TfidfVectorizer"
      ],
      "execution_count": 21,
      "outputs": []
    },
    {
      "cell_type": "code",
      "metadata": {
        "id": "IpCPh8cHrr_B"
      },
      "source": [
        "tv = TfidfVectorizer(min_df=1,stop_words='english')"
      ],
      "execution_count": 22,
      "outputs": []
    },
    {
      "cell_type": "code",
      "metadata": {
        "id": "8dt8DwXosSjD"
      },
      "source": [
        "x_traintv = tv.fit_transform(x_train)"
      ],
      "execution_count": 23,
      "outputs": []
    },
    {
      "cell_type": "code",
      "metadata": {
        "id": "Gg0ZK_JarsB1"
      },
      "source": [
        "x_traintv = tv.fit_transform(x_train)"
      ],
      "execution_count": 24,
      "outputs": []
    },
    {
      "cell_type": "code",
      "metadata": {
        "id": "xdxGdwsqrsEU",
        "colab": {
          "base_uri": "https://localhost:8080/"
        },
        "outputId": "904c18d6-2d1d-49fa-f8e9-82cceb7ef8ca"
      },
      "source": [
        "x_traintv.toarray()"
      ],
      "execution_count": 25,
      "outputs": [
        {
          "output_type": "execute_result",
          "data": {
            "text/plain": [
              "array([[0., 0., 0., ..., 0., 0., 0.],\n",
              "       [0., 0., 0., ..., 0., 0., 0.],\n",
              "       [0., 0., 0., ..., 0., 0., 0.],\n",
              "       ...,\n",
              "       [0., 0., 0., ..., 0., 0., 0.],\n",
              "       [0., 0., 0., ..., 0., 0., 0.],\n",
              "       [0., 0., 0., ..., 0., 0., 0.]])"
            ]
          },
          "metadata": {
            "tags": []
          },
          "execution_count": 25
        }
      ]
    },
    {
      "cell_type": "markdown",
      "metadata": {
        "id": "FgErhDxkpVt0"
      },
      "source": [
        "### Naive Bayes Tfidf Vectorizer"
      ]
    },
    {
      "cell_type": "code",
      "metadata": {
        "id": "P0--71JbpXlo"
      },
      "source": [
        "from sklearn.naive_bayes import MultinomialNB"
      ],
      "execution_count": 26,
      "outputs": []
    },
    {
      "cell_type": "code",
      "metadata": {
        "id": "zOpDzGJZpZgb"
      },
      "source": [
        "mnb = MultinomialNB()"
      ],
      "execution_count": 27,
      "outputs": []
    },
    {
      "cell_type": "code",
      "metadata": {
        "id": "JRg1ASRmsqwl"
      },
      "source": [
        "#to make the training data integer\n",
        "y_train=y_train.astype('int')"
      ],
      "execution_count": 28,
      "outputs": []
    },
    {
      "cell_type": "code",
      "metadata": {
        "id": "QSagjlOAsqzT",
        "colab": {
          "base_uri": "https://localhost:8080/"
        },
        "outputId": "58caf843-5fe7-46df-a4cb-2d6a295c29ce"
      },
      "source": [
        "mnb.fit(x_traintv,y_train)"
      ],
      "execution_count": 29,
      "outputs": [
        {
          "output_type": "execute_result",
          "data": {
            "text/plain": [
              "MultinomialNB(alpha=1.0, class_prior=None, fit_prior=True)"
            ]
          },
          "metadata": {
            "tags": []
          },
          "execution_count": 29
        }
      ]
    },
    {
      "cell_type": "code",
      "metadata": {
        "id": "feBaZgoisq1d"
      },
      "source": [
        "x_testtv = tv.transform(x_test)"
      ],
      "execution_count": 30,
      "outputs": []
    },
    {
      "cell_type": "code",
      "metadata": {
        "id": "gzsZ_Wp3sv7m",
        "colab": {
          "base_uri": "https://localhost:8080/",
          "height": 191
        },
        "outputId": "8b4f58be-7286-4e89-addb-10e6847aeba0"
      },
      "source": [
        "df.head()"
      ],
      "execution_count": 31,
      "outputs": [
        {
          "output_type": "execute_result",
          "data": {
            "text/html": [
              "<div>\n",
              "<style scoped>\n",
              "    .dataframe tbody tr th:only-of-type {\n",
              "        vertical-align: middle;\n",
              "    }\n",
              "\n",
              "    .dataframe tbody tr th {\n",
              "        vertical-align: top;\n",
              "    }\n",
              "\n",
              "    .dataframe thead th {\n",
              "        text-align: right;\n",
              "    }\n",
              "</style>\n",
              "<table border=\"1\" class=\"dataframe\">\n",
              "  <thead>\n",
              "    <tr style=\"text-align: right;\">\n",
              "      <th></th>\n",
              "      <th>emotion</th>\n",
              "      <th>text</th>\n",
              "    </tr>\n",
              "  </thead>\n",
              "  <tbody>\n",
              "    <tr>\n",
              "      <th>0</th>\n",
              "      <td>4</td>\n",
              "      <td>days feel close partner friends. feel peace al...</td>\n",
              "    </tr>\n",
              "    <tr>\n",
              "      <th>1</th>\n",
              "      <td>2</td>\n",
              "      <td>every time imagine someone love could contact ...</td>\n",
              "    </tr>\n",
              "    <tr>\n",
              "      <th>2</th>\n",
              "      <td>0</td>\n",
              "      <td>obviously unjustly treated possibility elucida...</td>\n",
              "    </tr>\n",
              "    <tr>\n",
              "      <th>3</th>\n",
              "      <td>5</td>\n",
              "      <td>think short time live relate periods life thin...</td>\n",
              "    </tr>\n",
              "    <tr>\n",
              "      <th>4</th>\n",
              "      <td>1</td>\n",
              "      <td>gathering found involuntarily sitting next two...</td>\n",
              "    </tr>\n",
              "  </tbody>\n",
              "</table>\n",
              "</div>"
            ],
            "text/plain": [
              "   emotion                                               text\n",
              "0        4  days feel close partner friends. feel peace al...\n",
              "1        2  every time imagine someone love could contact ...\n",
              "2        0  obviously unjustly treated possibility elucida...\n",
              "3        5  think short time live relate periods life thin...\n",
              "4        1  gathering found involuntarily sitting next two..."
            ]
          },
          "metadata": {
            "tags": []
          },
          "execution_count": 31
        }
      ]
    },
    {
      "cell_type": "code",
      "metadata": {
        "id": "o9-9-FG9sv-d"
      },
      "source": [
        "pred = mnb.predict(x_testtv)"
      ],
      "execution_count": 32,
      "outputs": []
    },
    {
      "cell_type": "code",
      "metadata": {
        "id": "I_C-ri5wswAI",
        "colab": {
          "base_uri": "https://localhost:8080/"
        },
        "outputId": "fd815bca-bab5-4893-9c55-142cc26d2e1c"
      },
      "source": [
        "pred"
      ],
      "execution_count": 33,
      "outputs": [
        {
          "output_type": "execute_result",
          "data": {
            "text/plain": [
              "array([2, 1, 6, ..., 1, 4, 4])"
            ]
          },
          "metadata": {
            "tags": []
          },
          "execution_count": 33
        }
      ]
    },
    {
      "cell_type": "code",
      "metadata": {
        "id": "PdNA8J4tswB_"
      },
      "source": [
        "#taking y_test to numpy array\n",
        "actual = np.array(y_test)"
      ],
      "execution_count": 34,
      "outputs": []
    },
    {
      "cell_type": "code",
      "metadata": {
        "id": "VbN8Agbcs1S2"
      },
      "source": [
        "count = 0\n",
        "for i in range(len(pred)):\n",
        "    if pred[i] == actual[i]:\n",
        "        count = count+1"
      ],
      "execution_count": 35,
      "outputs": []
    },
    {
      "cell_type": "code",
      "metadata": {
        "id": "dPALxtdds1VT",
        "colab": {
          "base_uri": "https://localhost:8080/"
        },
        "outputId": "93401c46-4753-4f4a-eb57-192d87619179"
      },
      "source": [
        "accuracy = count/len(pred)\n",
        "accuracy"
      ],
      "execution_count": 36,
      "outputs": [
        {
          "output_type": "execute_result",
          "data": {
            "text/plain": [
              "0.5335570469798657"
            ]
          },
          "metadata": {
            "tags": []
          },
          "execution_count": 36
        }
      ]
    },
    {
      "cell_type": "markdown",
      "metadata": {
        "id": "U-K2-sg_s6YP"
      },
      "source": [
        "### Naive-Bayes Count Vectorizer"
      ]
    },
    {
      "cell_type": "code",
      "metadata": {
        "id": "AqRkqrAis1Xw"
      },
      "source": [
        "mnbcv =  MultinomialNB()"
      ],
      "execution_count": 37,
      "outputs": []
    },
    {
      "cell_type": "code",
      "metadata": {
        "id": "3Bgdp97Bs1aJ"
      },
      "source": [
        "#to make the training data integer\n",
        "y_train = y_train.astype('int')\n",
        "# y_train"
      ],
      "execution_count": 38,
      "outputs": []
    },
    {
      "cell_type": "code",
      "metadata": {
        "id": "TrAlmU9Ds1cp",
        "colab": {
          "base_uri": "https://localhost:8080/"
        },
        "outputId": "7016c43d-885e-4189-c81d-a011a1298c70"
      },
      "source": [
        "mnbcv.fit(x_traincv,y_train)"
      ],
      "execution_count": 39,
      "outputs": [
        {
          "output_type": "execute_result",
          "data": {
            "text/plain": [
              "MultinomialNB(alpha=1.0, class_prior=None, fit_prior=True)"
            ]
          },
          "metadata": {
            "tags": []
          },
          "execution_count": 39
        }
      ]
    },
    {
      "cell_type": "code",
      "metadata": {
        "id": "MTl7cauNtGHQ"
      },
      "source": [
        "x_testcv = cv.transform(x_test)"
      ],
      "execution_count": 40,
      "outputs": []
    },
    {
      "cell_type": "code",
      "metadata": {
        "id": "OgxzGmpftGJ5"
      },
      "source": [
        "pred = mnbcv.predict(x_testcv)"
      ],
      "execution_count": 41,
      "outputs": []
    },
    {
      "cell_type": "code",
      "metadata": {
        "id": "RgWYD24JtGMS",
        "colab": {
          "base_uri": "https://localhost:8080/"
        },
        "outputId": "871ebcc4-4f8e-4e89-cf22-12d871cba72d"
      },
      "source": [
        "#prediction the test datas\n",
        "pred"
      ],
      "execution_count": 42,
      "outputs": [
        {
          "output_type": "execute_result",
          "data": {
            "text/plain": [
              "array([2, 1, 6, ..., 1, 0, 4])"
            ]
          },
          "metadata": {
            "tags": []
          },
          "execution_count": 42
        }
      ]
    },
    {
      "cell_type": "code",
      "metadata": {
        "id": "0zoOqpP5tGQ0"
      },
      "source": [
        "#taking y_test to numpy array\n",
        "actual = np.array(y_test)"
      ],
      "execution_count": 43,
      "outputs": []
    },
    {
      "cell_type": "code",
      "metadata": {
        "id": "_yfTzgL6tLTH",
        "colab": {
          "base_uri": "https://localhost:8080/"
        },
        "outputId": "3bd23de4-9eda-435e-e5de-26284d4f1cab"
      },
      "source": [
        "actual"
      ],
      "execution_count": 44,
      "outputs": [
        {
          "output_type": "execute_result",
          "data": {
            "text/plain": [
              "array([2, 1, 6, ..., 0, 6, 3])"
            ]
          },
          "metadata": {
            "tags": []
          },
          "execution_count": 44
        }
      ]
    },
    {
      "cell_type": "code",
      "metadata": {
        "id": "59DwO2w8tLV9"
      },
      "source": [
        "countcv = 0\n",
        "for i in range(len(pred)):\n",
        "    if pred[i] == actual[i]:\n",
        "        countcv = countcv + 1"
      ],
      "execution_count": 45,
      "outputs": []
    },
    {
      "cell_type": "code",
      "metadata": {
        "id": "v3-pI5u_tLYO",
        "colab": {
          "base_uri": "https://localhost:8080/"
        },
        "outputId": "63007173-e250-44f1-8d05-9010da777c7f"
      },
      "source": [
        "countcv"
      ],
      "execution_count": 46,
      "outputs": [
        {
          "output_type": "execute_result",
          "data": {
            "text/plain": [
              "804"
            ]
          },
          "metadata": {
            "tags": []
          },
          "execution_count": 46
        }
      ]
    },
    {
      "cell_type": "code",
      "metadata": {
        "id": "CnrtSu2RtLa0",
        "colab": {
          "base_uri": "https://localhost:8080/"
        },
        "outputId": "9f2746b9-77a0-418b-f3a2-befb852222f1"
      },
      "source": [
        "len(pred)"
      ],
      "execution_count": 47,
      "outputs": [
        {
          "output_type": "execute_result",
          "data": {
            "text/plain": [
              "1490"
            ]
          },
          "metadata": {
            "tags": []
          },
          "execution_count": 47
        }
      ]
    },
    {
      "cell_type": "code",
      "metadata": {
        "id": "zvZ_Ox_PtLdN",
        "colab": {
          "base_uri": "https://localhost:8080/"
        },
        "outputId": "8b44c41d-6244-4f97-d4f9-176114f75d05"
      },
      "source": [
        "accuracy = countcv/len(pred)\n",
        "accuracy"
      ],
      "execution_count": 48,
      "outputs": [
        {
          "output_type": "execute_result",
          "data": {
            "text/plain": [
              "0.5395973154362416"
            ]
          },
          "metadata": {
            "tags": []
          },
          "execution_count": 48
        }
      ]
    }
  ]
}