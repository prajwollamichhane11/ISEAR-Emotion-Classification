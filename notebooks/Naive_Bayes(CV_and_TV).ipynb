{
  "nbformat": 4,
  "nbformat_minor": 0,
  "metadata": {
    "colab": {
      "name": "Naive_Bayes(CV_and_TV).ipynb",
      "provenance": [],
      "collapsed_sections": []
    },
    "kernelspec": {
      "name": "python3",
      "display_name": "Python 3"
    },
    "accelerator": "GPU"
  },
  "cells": [
    {
      "cell_type": "code",
      "metadata": {
        "id": "lkxavdkZmOP5"
      },
      "source": [
        "import numpy as np\n",
        "import pandas as pd\n",
        "import matplotlib.pyplot as plt\n",
        "\n",
        "from sklearn.model_selection import train_test_split, cross_val_score"
      ],
      "execution_count": 1,
      "outputs": []
    },
    {
      "cell_type": "code",
      "metadata": {
        "colab": {
          "base_uri": "https://localhost:8080/"
        },
        "id": "RnNzMmXKmXk4",
        "outputId": "f961372a-a5cb-4332-e0de-9dd421e2ad97"
      },
      "source": [
        "# Mounting the Google Drive\n",
        "from google.colab import drive\n",
        "drive.mount('/content/drive/')"
      ],
      "execution_count": 2,
      "outputs": [
        {
          "output_type": "stream",
          "text": [
            "Mounted at /content/drive/\n"
          ],
          "name": "stdout"
        }
      ]
    },
    {
      "cell_type": "code",
      "metadata": {
        "id": "haUUq0H7maZL"
      },
      "source": [
        "columns = [\"emotion\", \"text\"]\n",
        "df = pd.read_csv(\"drive/My Drive/Training_AI_Engineers/isear_dataset.csv\", names=columns)"
      ],
      "execution_count": 3,
      "outputs": []
    },
    {
      "cell_type": "code",
      "metadata": {
        "colab": {
          "base_uri": "https://localhost:8080/",
          "height": 204
        },
        "id": "Tg_m_u07myFf",
        "outputId": "6002c89d-2a68-4f96-9465-bf4c1806411c"
      },
      "source": [
        "df.head()\n"
      ],
      "execution_count": 4,
      "outputs": [
        {
          "output_type": "execute_result",
          "data": {
            "text/html": [
              "<div>\n",
              "<style scoped>\n",
              "    .dataframe tbody tr th:only-of-type {\n",
              "        vertical-align: middle;\n",
              "    }\n",
              "\n",
              "    .dataframe tbody tr th {\n",
              "        vertical-align: top;\n",
              "    }\n",
              "\n",
              "    .dataframe thead th {\n",
              "        text-align: right;\n",
              "    }\n",
              "</style>\n",
              "<table border=\"1\" class=\"dataframe\">\n",
              "  <thead>\n",
              "    <tr style=\"text-align: right;\">\n",
              "      <th></th>\n",
              "      <th>emotion</th>\n",
              "      <th>text</th>\n",
              "    </tr>\n",
              "  </thead>\n",
              "  <tbody>\n",
              "    <tr>\n",
              "      <th>0</th>\n",
              "      <td>joy</td>\n",
              "      <td>On days when I feel close to my partner and ot...</td>\n",
              "    </tr>\n",
              "    <tr>\n",
              "      <th>1</th>\n",
              "      <td>fear</td>\n",
              "      <td>Every time I imagine that someone I love or I ...</td>\n",
              "    </tr>\n",
              "    <tr>\n",
              "      <th>2</th>\n",
              "      <td>anger</td>\n",
              "      <td>When I had been obviously unjustly treated and...</td>\n",
              "    </tr>\n",
              "    <tr>\n",
              "      <th>3</th>\n",
              "      <td>sadness</td>\n",
              "      <td>When I think about the short time that we live...</td>\n",
              "    </tr>\n",
              "    <tr>\n",
              "      <th>4</th>\n",
              "      <td>disgust</td>\n",
              "      <td>At a gathering I found myself involuntarily si...</td>\n",
              "    </tr>\n",
              "  </tbody>\n",
              "</table>\n",
              "</div>"
            ],
            "text/plain": [
              "   emotion                                               text\n",
              "0      joy  On days when I feel close to my partner and ot...\n",
              "1     fear  Every time I imagine that someone I love or I ...\n",
              "2    anger  When I had been obviously unjustly treated and...\n",
              "3  sadness  When I think about the short time that we live...\n",
              "4  disgust  At a gathering I found myself involuntarily si..."
            ]
          },
          "metadata": {
            "tags": []
          },
          "execution_count": 4
        }
      ]
    },
    {
      "cell_type": "code",
      "metadata": {
        "id": "s6Efa3MirJv3"
      },
      "source": [
        ""
      ],
      "execution_count": 4,
      "outputs": []
    },
    {
      "cell_type": "code",
      "metadata": {
        "id": "x0ysRZc2ovHr"
      },
      "source": [
        "from sklearn.preprocessing import LabelEncoder"
      ],
      "execution_count": 5,
      "outputs": []
    },
    {
      "cell_type": "code",
      "metadata": {
        "id": "flA2EvlSo8RE"
      },
      "source": [
        "le = LabelEncoder()"
      ],
      "execution_count": 6,
      "outputs": []
    },
    {
      "cell_type": "code",
      "metadata": {
        "colab": {
          "base_uri": "https://localhost:8080/"
        },
        "id": "uEzm9slEo9lq",
        "outputId": "842989d9-02b2-42e4-8ad1-42bd05d790bc"
      },
      "source": [
        "le.fit(df[\"emotion\"])\n"
      ],
      "execution_count": 7,
      "outputs": [
        {
          "output_type": "execute_result",
          "data": {
            "text/plain": [
              "LabelEncoder()"
            ]
          },
          "metadata": {
            "tags": []
          },
          "execution_count": 7
        }
      ]
    },
    {
      "cell_type": "code",
      "metadata": {
        "colab": {
          "base_uri": "https://localhost:8080/"
        },
        "id": "A-scAxiipBx4",
        "outputId": "5d0b19b8-4c1a-4742-a977-c12e04ff2db0"
      },
      "source": [
        "le.classes_"
      ],
      "execution_count": 8,
      "outputs": [
        {
          "output_type": "execute_result",
          "data": {
            "text/plain": [
              "array(['anger', 'disgust', 'fear', 'guilt', 'joy', 'sadness', 'shame'],\n",
              "      dtype=object)"
            ]
          },
          "metadata": {
            "tags": []
          },
          "execution_count": 8
        }
      ]
    },
    {
      "cell_type": "code",
      "metadata": {
        "colab": {
          "base_uri": "https://localhost:8080/"
        },
        "id": "LcpUj5vKpD-M",
        "outputId": "94635dd1-bf61-4ecc-9ab5-1af5284c6531"
      },
      "source": [
        "df[\"emotion\"] = le.transform(df[\"emotion\"])\n",
        "df[\"emotion\"]"
      ],
      "execution_count": 33,
      "outputs": [
        {
          "output_type": "execute_result",
          "data": {
            "text/plain": [
              "0       4\n",
              "1       2\n",
              "2       0\n",
              "3       5\n",
              "4       1\n",
              "       ..\n",
              "7441    0\n",
              "7442    5\n",
              "7443    1\n",
              "7444    6\n",
              "7445    3\n",
              "Name: emotion, Length: 7446, dtype: int64"
            ]
          },
          "metadata": {
            "tags": []
          },
          "execution_count": 33
        }
      ]
    },
    {
      "cell_type": "code",
      "metadata": {
        "colab": {
          "base_uri": "https://localhost:8080/"
        },
        "id": "yshDqJQsmzHV",
        "outputId": "46d76c99-9104-4469-b828-76f3b8851d70"
      },
      "source": [
        "df[\"emotion\"].value_counts()"
      ],
      "execution_count": 10,
      "outputs": [
        {
          "output_type": "execute_result",
          "data": {
            "text/plain": [
              "joy        1082\n",
              "sadness    1074\n",
              "anger      1069\n",
              "fear       1063\n",
              "disgust    1059\n",
              "shame      1059\n",
              "guilt      1040\n",
              "Name: emotion, dtype: int64"
            ]
          },
          "metadata": {
            "tags": []
          },
          "execution_count": 10
        }
      ]
    },
    {
      "cell_type": "code",
      "metadata": {
        "colab": {
          "base_uri": "https://localhost:8080/",
          "height": 173
        },
        "id": "nfokcFB6m_K7",
        "outputId": "7926fb17-3acd-4f94-a627-89a993fa8c12"
      },
      "source": [
        "df.describe()"
      ],
      "execution_count": 11,
      "outputs": [
        {
          "output_type": "execute_result",
          "data": {
            "text/html": [
              "<div>\n",
              "<style scoped>\n",
              "    .dataframe tbody tr th:only-of-type {\n",
              "        vertical-align: middle;\n",
              "    }\n",
              "\n",
              "    .dataframe tbody tr th {\n",
              "        vertical-align: top;\n",
              "    }\n",
              "\n",
              "    .dataframe thead th {\n",
              "        text-align: right;\n",
              "    }\n",
              "</style>\n",
              "<table border=\"1\" class=\"dataframe\">\n",
              "  <thead>\n",
              "    <tr style=\"text-align: right;\">\n",
              "      <th></th>\n",
              "      <th>emotion</th>\n",
              "      <th>text</th>\n",
              "    </tr>\n",
              "  </thead>\n",
              "  <tbody>\n",
              "    <tr>\n",
              "      <th>count</th>\n",
              "      <td>7446</td>\n",
              "      <td>7446</td>\n",
              "    </tr>\n",
              "    <tr>\n",
              "      <th>unique</th>\n",
              "      <td>7</td>\n",
              "      <td>7379</td>\n",
              "    </tr>\n",
              "    <tr>\n",
              "      <th>top</th>\n",
              "      <td>joy</td>\n",
              "      <td>When my grandfather died.</td>\n",
              "    </tr>\n",
              "    <tr>\n",
              "      <th>freq</th>\n",
              "      <td>1082</td>\n",
              "      <td>8</td>\n",
              "    </tr>\n",
              "  </tbody>\n",
              "</table>\n",
              "</div>"
            ],
            "text/plain": [
              "       emotion                       text\n",
              "count     7446                       7446\n",
              "unique       7                       7379\n",
              "top        joy  When my grandfather died.\n",
              "freq      1082                          8"
            ]
          },
          "metadata": {
            "tags": []
          },
          "execution_count": 11
        }
      ]
    },
    {
      "cell_type": "code",
      "metadata": {
        "id": "d6uvDVz7onOz"
      },
      "source": [
        "# feat = df[\"text\"]\n",
        "# targ = df[\"emotion\"] "
      ],
      "execution_count": 12,
      "outputs": []
    },
    {
      "cell_type": "code",
      "metadata": {
        "colab": {
          "base_uri": "https://localhost:8080/"
        },
        "id": "WINoAZiZnsGg",
        "outputId": "5348a5c3-5ade-4289-fd01-290b1943c6ac"
      },
      "source": [
        "import nltk\n",
        "\n",
        "nltk.download(\"punkt\")\n",
        "nltk.download('stopwords')"
      ],
      "execution_count": 13,
      "outputs": [
        {
          "output_type": "stream",
          "text": [
            "[nltk_data] Downloading package punkt to /root/nltk_data...\n",
            "[nltk_data]   Unzipping tokenizers/punkt.zip.\n",
            "[nltk_data] Downloading package stopwords to /root/nltk_data...\n",
            "[nltk_data]   Unzipping corpora/stopwords.zip.\n"
          ],
          "name": "stdout"
        },
        {
          "output_type": "execute_result",
          "data": {
            "text/plain": [
              "True"
            ]
          },
          "metadata": {
            "tags": []
          },
          "execution_count": 13
        }
      ]
    },
    {
      "cell_type": "code",
      "metadata": {
        "id": "JadIagbToAFk"
      },
      "source": [
        "from nltk.tokenize import word_tokenize\n",
        "from nltk.corpus import stopwords\n",
        "\n",
        "import re\n",
        "\n",
        "def process_text(text):\n",
        "    text = text if type(text) == str else ''\n",
        "\n",
        "    # clean the words, remove symbols special chars\n",
        "    pattern = r'[^a-zA-z0-9\\s]'\n",
        "    text = re.sub(pattern, '', text)\n",
        "\n",
        "    # convert to lowercase\n",
        "    text = text.lower()\n",
        "\n",
        "    # first tokenize the text\n",
        "    word_tokenized = word_tokenize(text)\n",
        "\n",
        "    # let's remove the stop words\n",
        "    list_stopwords = stopwords.words('english')\n",
        "    no_stopwords = [word for word in word_tokenized if word not in list_stopwords]\n",
        "\n",
        "    return no_stopwords"
      ],
      "execution_count": 14,
      "outputs": []
    },
    {
      "cell_type": "code",
      "metadata": {
        "id": "7rJziXhqq7J3"
      },
      "source": [
        "x_train, x_test, y_train, y_test = train_test_split(df['text'], df[\"emotion\"], test_size=0.2, random_state=53)"
      ],
      "execution_count": 34,
      "outputs": []
    },
    {
      "cell_type": "markdown",
      "metadata": {
        "id": "YVIggXnurz20"
      },
      "source": [
        "### Count Vectorizer"
      ]
    },
    {
      "cell_type": "code",
      "metadata": {
        "id": "2IPETUl1oLUa"
      },
      "source": [
        "from sklearn.feature_extraction.text import CountVectorizer"
      ],
      "execution_count": 16,
      "outputs": []
    },
    {
      "cell_type": "code",
      "metadata": {
        "id": "iZG7GNKyofR4"
      },
      "source": [
        "cv = CountVectorizer()"
      ],
      "execution_count": 17,
      "outputs": []
    },
    {
      "cell_type": "code",
      "metadata": {
        "id": "IknrJlS_ogVV"
      },
      "source": [
        "x_traincv = cv.fit_transform(x_train)\n"
      ],
      "execution_count": 18,
      "outputs": []
    },
    {
      "cell_type": "code",
      "metadata": {
        "id": "j38zoMwtpI75"
      },
      "source": [
        "xtrain_arrCV = x_traincv.toarray()"
      ],
      "execution_count": 19,
      "outputs": []
    },
    {
      "cell_type": "code",
      "metadata": {
        "colab": {
          "base_uri": "https://localhost:8080/"
        },
        "id": "5dpoFx2Brr83",
        "outputId": "d5bb1790-6efe-44f1-da26-5bfededdb4e5"
      },
      "source": [
        "print(len(xtrain_arrCV))"
      ],
      "execution_count": 20,
      "outputs": [
        {
          "output_type": "stream",
          "text": [
            "5956\n"
          ],
          "name": "stdout"
        }
      ]
    },
    {
      "cell_type": "markdown",
      "metadata": {
        "id": "7GoNm0kGr2al"
      },
      "source": [
        "### Tfidf Vectorizer"
      ]
    },
    {
      "cell_type": "code",
      "metadata": {
        "id": "LGc0pDWAsGgB"
      },
      "source": [
        "from sklearn.feature_extraction.text import TfidfVectorizer"
      ],
      "execution_count": 21,
      "outputs": []
    },
    {
      "cell_type": "code",
      "metadata": {
        "id": "IpCPh8cHrr_B"
      },
      "source": [
        "tv = TfidfVectorizer(min_df=1,stop_words='english')"
      ],
      "execution_count": 22,
      "outputs": []
    },
    {
      "cell_type": "code",
      "metadata": {
        "id": "8dt8DwXosSjD"
      },
      "source": [
        "x_traintv = tv.fit_transform(x_train)"
      ],
      "execution_count": 26,
      "outputs": []
    },
    {
      "cell_type": "code",
      "metadata": {
        "id": "Gg0ZK_JarsB1"
      },
      "source": [
        "x_traintv = tv.fit_transform(x_train)"
      ],
      "execution_count": 27,
      "outputs": []
    },
    {
      "cell_type": "code",
      "metadata": {
        "id": "xdxGdwsqrsEU",
        "colab": {
          "base_uri": "https://localhost:8080/"
        },
        "outputId": "c81fbf35-14d4-491d-b40e-4d8b59392756"
      },
      "source": [
        "x_traintv.toarray()"
      ],
      "execution_count": 28,
      "outputs": [
        {
          "output_type": "execute_result",
          "data": {
            "text/plain": [
              "array([[0., 0., 0., ..., 0., 0., 0.],\n",
              "       [0., 0., 0., ..., 0., 0., 0.],\n",
              "       [0., 0., 0., ..., 0., 0., 0.],\n",
              "       ...,\n",
              "       [0., 0., 0., ..., 0., 0., 0.],\n",
              "       [0., 0., 0., ..., 0., 0., 0.],\n",
              "       [0., 0., 0., ..., 0., 0., 0.]])"
            ]
          },
          "metadata": {
            "tags": []
          },
          "execution_count": 28
        }
      ]
    },
    {
      "cell_type": "markdown",
      "metadata": {
        "id": "FgErhDxkpVt0"
      },
      "source": [
        "### Naive Bayes Tfidf Vectorizer"
      ]
    },
    {
      "cell_type": "code",
      "metadata": {
        "id": "P0--71JbpXlo"
      },
      "source": [
        "from sklearn.naive_bayes import MultinomialNB"
      ],
      "execution_count": 29,
      "outputs": []
    },
    {
      "cell_type": "code",
      "metadata": {
        "id": "zOpDzGJZpZgb"
      },
      "source": [
        "mnb = MultinomialNB()"
      ],
      "execution_count": 30,
      "outputs": []
    },
    {
      "cell_type": "code",
      "metadata": {
        "id": "JRg1ASRmsqwl"
      },
      "source": [
        "#to make the training data integer\n",
        "y_train=y_train.astype('int')"
      ],
      "execution_count": 35,
      "outputs": []
    },
    {
      "cell_type": "code",
      "metadata": {
        "id": "QSagjlOAsqzT",
        "colab": {
          "base_uri": "https://localhost:8080/"
        },
        "outputId": "6e6f0f4b-a6fb-425f-9623-441bdb5618ab"
      },
      "source": [
        "mnb.fit(x_traintv,y_train)"
      ],
      "execution_count": 37,
      "outputs": [
        {
          "output_type": "execute_result",
          "data": {
            "text/plain": [
              "MultinomialNB(alpha=1.0, class_prior=None, fit_prior=True)"
            ]
          },
          "metadata": {
            "tags": []
          },
          "execution_count": 37
        }
      ]
    },
    {
      "cell_type": "code",
      "metadata": {
        "id": "feBaZgoisq1d"
      },
      "source": [
        "x_testtv = tv.transform(x_test)"
      ],
      "execution_count": 38,
      "outputs": []
    },
    {
      "cell_type": "code",
      "metadata": {
        "id": "gzsZ_Wp3sv7m",
        "colab": {
          "base_uri": "https://localhost:8080/",
          "height": 204
        },
        "outputId": "2cbfd9e9-d169-4c6b-f402-86bef3f718ed"
      },
      "source": [
        "df.head()"
      ],
      "execution_count": 39,
      "outputs": [
        {
          "output_type": "execute_result",
          "data": {
            "text/html": [
              "<div>\n",
              "<style scoped>\n",
              "    .dataframe tbody tr th:only-of-type {\n",
              "        vertical-align: middle;\n",
              "    }\n",
              "\n",
              "    .dataframe tbody tr th {\n",
              "        vertical-align: top;\n",
              "    }\n",
              "\n",
              "    .dataframe thead th {\n",
              "        text-align: right;\n",
              "    }\n",
              "</style>\n",
              "<table border=\"1\" class=\"dataframe\">\n",
              "  <thead>\n",
              "    <tr style=\"text-align: right;\">\n",
              "      <th></th>\n",
              "      <th>emotion</th>\n",
              "      <th>text</th>\n",
              "    </tr>\n",
              "  </thead>\n",
              "  <tbody>\n",
              "    <tr>\n",
              "      <th>0</th>\n",
              "      <td>4</td>\n",
              "      <td>On days when I feel close to my partner and ot...</td>\n",
              "    </tr>\n",
              "    <tr>\n",
              "      <th>1</th>\n",
              "      <td>2</td>\n",
              "      <td>Every time I imagine that someone I love or I ...</td>\n",
              "    </tr>\n",
              "    <tr>\n",
              "      <th>2</th>\n",
              "      <td>0</td>\n",
              "      <td>When I had been obviously unjustly treated and...</td>\n",
              "    </tr>\n",
              "    <tr>\n",
              "      <th>3</th>\n",
              "      <td>5</td>\n",
              "      <td>When I think about the short time that we live...</td>\n",
              "    </tr>\n",
              "    <tr>\n",
              "      <th>4</th>\n",
              "      <td>1</td>\n",
              "      <td>At a gathering I found myself involuntarily si...</td>\n",
              "    </tr>\n",
              "  </tbody>\n",
              "</table>\n",
              "</div>"
            ],
            "text/plain": [
              "   emotion                                               text\n",
              "0        4  On days when I feel close to my partner and ot...\n",
              "1        2  Every time I imagine that someone I love or I ...\n",
              "2        0  When I had been obviously unjustly treated and...\n",
              "3        5  When I think about the short time that we live...\n",
              "4        1  At a gathering I found myself involuntarily si..."
            ]
          },
          "metadata": {
            "tags": []
          },
          "execution_count": 39
        }
      ]
    },
    {
      "cell_type": "code",
      "metadata": {
        "id": "o9-9-FG9sv-d"
      },
      "source": [
        "pred = mnb.predict(x_testtv)"
      ],
      "execution_count": 40,
      "outputs": []
    },
    {
      "cell_type": "code",
      "metadata": {
        "id": "I_C-ri5wswAI",
        "colab": {
          "base_uri": "https://localhost:8080/"
        },
        "outputId": "134cfd0a-6b8e-45b3-8efc-467189a0bf21"
      },
      "source": [
        "pred"
      ],
      "execution_count": 41,
      "outputs": [
        {
          "output_type": "execute_result",
          "data": {
            "text/plain": [
              "array([2, 1, 6, ..., 1, 4, 4])"
            ]
          },
          "metadata": {
            "tags": []
          },
          "execution_count": 41
        }
      ]
    },
    {
      "cell_type": "code",
      "metadata": {
        "id": "PdNA8J4tswB_"
      },
      "source": [
        "#taking y_test to numpy array\n",
        "actual = np.array(y_test)"
      ],
      "execution_count": 42,
      "outputs": []
    },
    {
      "cell_type": "code",
      "metadata": {
        "id": "VbN8Agbcs1S2"
      },
      "source": [
        "count = 0\n",
        "for i in range(len(pred)):\n",
        "    if pred[i] == actual[i]:\n",
        "        count = count+1"
      ],
      "execution_count": 43,
      "outputs": []
    },
    {
      "cell_type": "code",
      "metadata": {
        "id": "dPALxtdds1VT",
        "colab": {
          "base_uri": "https://localhost:8080/"
        },
        "outputId": "78fdaf9a-4584-4292-d20b-2395085198ff"
      },
      "source": [
        "accuracy = count/len(pred)\n",
        "accuracy"
      ],
      "execution_count": 44,
      "outputs": [
        {
          "output_type": "execute_result",
          "data": {
            "text/plain": [
              "0.5342281879194631"
            ]
          },
          "metadata": {
            "tags": []
          },
          "execution_count": 44
        }
      ]
    },
    {
      "cell_type": "markdown",
      "metadata": {
        "id": "U-K2-sg_s6YP"
      },
      "source": [
        "### Naive-Bayes Count Vectorizer"
      ]
    },
    {
      "cell_type": "code",
      "metadata": {
        "id": "AqRkqrAis1Xw"
      },
      "source": [
        "mnbcv =  MultinomialNB()"
      ],
      "execution_count": 45,
      "outputs": []
    },
    {
      "cell_type": "code",
      "metadata": {
        "id": "3Bgdp97Bs1aJ"
      },
      "source": [
        "#to make the training data integer\n",
        "y_train = y_train.astype('int')\n",
        "# y_train"
      ],
      "execution_count": 46,
      "outputs": []
    },
    {
      "cell_type": "code",
      "metadata": {
        "id": "TrAlmU9Ds1cp",
        "colab": {
          "base_uri": "https://localhost:8080/"
        },
        "outputId": "287d577a-6319-4253-d7d2-00ef7b7b98de"
      },
      "source": [
        "mnbcv.fit(x_traincv,y_train)"
      ],
      "execution_count": 47,
      "outputs": [
        {
          "output_type": "execute_result",
          "data": {
            "text/plain": [
              "MultinomialNB(alpha=1.0, class_prior=None, fit_prior=True)"
            ]
          },
          "metadata": {
            "tags": []
          },
          "execution_count": 47
        }
      ]
    },
    {
      "cell_type": "code",
      "metadata": {
        "id": "MTl7cauNtGHQ"
      },
      "source": [
        "x_testcv = cv.transform(x_test)"
      ],
      "execution_count": 48,
      "outputs": []
    },
    {
      "cell_type": "code",
      "metadata": {
        "id": "OgxzGmpftGJ5"
      },
      "source": [
        "pred = mnbcv.predict(x_testcv)"
      ],
      "execution_count": 49,
      "outputs": []
    },
    {
      "cell_type": "code",
      "metadata": {
        "id": "RgWYD24JtGMS",
        "colab": {
          "base_uri": "https://localhost:8080/"
        },
        "outputId": "251794e2-8922-4563-cb39-23f73ccada66"
      },
      "source": [
        "#prediction the test datas\n",
        "pred"
      ],
      "execution_count": 50,
      "outputs": [
        {
          "output_type": "execute_result",
          "data": {
            "text/plain": [
              "array([2, 1, 6, ..., 6, 1, 4])"
            ]
          },
          "metadata": {
            "tags": []
          },
          "execution_count": 50
        }
      ]
    },
    {
      "cell_type": "code",
      "metadata": {
        "id": "0zoOqpP5tGQ0"
      },
      "source": [
        "#taking y_test to numpy array\n",
        "actual = np.array(y_test)"
      ],
      "execution_count": 51,
      "outputs": []
    },
    {
      "cell_type": "code",
      "metadata": {
        "id": "_yfTzgL6tLTH",
        "colab": {
          "base_uri": "https://localhost:8080/"
        },
        "outputId": "8818eaa7-7e36-490b-afac-b29449b7f086"
      },
      "source": [
        "actual"
      ],
      "execution_count": 52,
      "outputs": [
        {
          "output_type": "execute_result",
          "data": {
            "text/plain": [
              "array([2, 1, 6, ..., 0, 6, 3])"
            ]
          },
          "metadata": {
            "tags": []
          },
          "execution_count": 52
        }
      ]
    },
    {
      "cell_type": "code",
      "metadata": {
        "id": "59DwO2w8tLV9"
      },
      "source": [
        "countcv = 0\n",
        "for i in range(len(pred)):\n",
        "    if pred[i] == actual[i]:\n",
        "        countcv = countcv + 1"
      ],
      "execution_count": 53,
      "outputs": []
    },
    {
      "cell_type": "code",
      "metadata": {
        "id": "v3-pI5u_tLYO",
        "colab": {
          "base_uri": "https://localhost:8080/"
        },
        "outputId": "d4584c4c-bb44-444b-f752-23a87b24365e"
      },
      "source": [
        "countcv"
      ],
      "execution_count": 54,
      "outputs": [
        {
          "output_type": "execute_result",
          "data": {
            "text/plain": [
              "808"
            ]
          },
          "metadata": {
            "tags": []
          },
          "execution_count": 54
        }
      ]
    },
    {
      "cell_type": "code",
      "metadata": {
        "id": "CnrtSu2RtLa0",
        "colab": {
          "base_uri": "https://localhost:8080/"
        },
        "outputId": "8a938636-9f4b-4e77-dfd3-d7f0fcc245fb"
      },
      "source": [
        "len(pred)"
      ],
      "execution_count": 55,
      "outputs": [
        {
          "output_type": "execute_result",
          "data": {
            "text/plain": [
              "1490"
            ]
          },
          "metadata": {
            "tags": []
          },
          "execution_count": 55
        }
      ]
    },
    {
      "cell_type": "code",
      "metadata": {
        "id": "zvZ_Ox_PtLdN",
        "colab": {
          "base_uri": "https://localhost:8080/"
        },
        "outputId": "f28ef5b8-f54c-420c-b1b3-9dbf97965c31"
      },
      "source": [
        "accuracy = countcv/len(pred)\n",
        "accuracy"
      ],
      "execution_count": 56,
      "outputs": [
        {
          "output_type": "execute_result",
          "data": {
            "text/plain": [
              "0.5422818791946309"
            ]
          },
          "metadata": {
            "tags": []
          },
          "execution_count": 56
        }
      ]
    }
  ]
}