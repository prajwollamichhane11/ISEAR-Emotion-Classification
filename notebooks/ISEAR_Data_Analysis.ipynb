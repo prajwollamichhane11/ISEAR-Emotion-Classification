{
  "nbformat": 4,
  "nbformat_minor": 0,
  "metadata": {
    "colab": {
      "name": "ISEAR_Data_Analysis.ipynb",
      "provenance": [],
      "collapsed_sections": []
    },
    "kernelspec": {
      "name": "python3",
      "display_name": "Python 3"
    }
  },
  "cells": [
    {
      "cell_type": "code",
      "metadata": {
        "id": "lkxavdkZmOP5",
        "colab": {
          "base_uri": "https://localhost:8080/"
        },
        "outputId": "c6f2bc34-df75-4d64-abf3-fddb8808bc48"
      },
      "source": [
        "import re\n",
        "import nltk\n",
        "\n",
        "import numpy as np\n",
        "import pandas as pd\n",
        "import matplotlib.pyplot as plt\n",
        "\n",
        "from nltk.corpus import stopwords\n",
        "\n",
        "nltk.download('wordnet')\n",
        "nltk.download('stopwords')"
      ],
      "execution_count": 38,
      "outputs": [
        {
          "output_type": "stream",
          "text": [
            "[nltk_data] Downloading package wordnet to /root/nltk_data...\n",
            "[nltk_data]   Package wordnet is already up-to-date!\n",
            "[nltk_data] Downloading package stopwords to /root/nltk_data...\n",
            "[nltk_data]   Package stopwords is already up-to-date!\n"
          ],
          "name": "stdout"
        },
        {
          "output_type": "execute_result",
          "data": {
            "text/plain": [
              "True"
            ]
          },
          "metadata": {
            "tags": []
          },
          "execution_count": 38
        }
      ]
    },
    {
      "cell_type": "code",
      "metadata": {
        "colab": {
          "base_uri": "https://localhost:8080/"
        },
        "id": "RnNzMmXKmXk4",
        "outputId": "5eb6f0d0-b0ed-447a-845a-6d12f06c2b78"
      },
      "source": [
        "# Mounting the Google Drive\n",
        "from google.colab import drive\n",
        "drive.mount('/content/drive/')"
      ],
      "execution_count": 2,
      "outputs": [
        {
          "output_type": "stream",
          "text": [
            "Mounted at /content/drive/\n"
          ],
          "name": "stdout"
        }
      ]
    },
    {
      "cell_type": "code",
      "metadata": {
        "id": "haUUq0H7maZL"
      },
      "source": [
        "columns = [\"emotion\", \"text\"]\n",
        "df = pd.read_csv(\"drive/My Drive/Training_AI_Engineers/isear_dataset.csv\", names=columns)"
      ],
      "execution_count": 3,
      "outputs": []
    },
    {
      "cell_type": "code",
      "metadata": {
        "colab": {
          "base_uri": "https://localhost:8080/",
          "height": 191
        },
        "id": "Tg_m_u07myFf",
        "outputId": "4324f440-c32c-49d8-ca4b-c9e279d7de8b"
      },
      "source": [
        "df.head()\n"
      ],
      "execution_count": 4,
      "outputs": [
        {
          "output_type": "execute_result",
          "data": {
            "text/html": [
              "<div>\n",
              "<style scoped>\n",
              "    .dataframe tbody tr th:only-of-type {\n",
              "        vertical-align: middle;\n",
              "    }\n",
              "\n",
              "    .dataframe tbody tr th {\n",
              "        vertical-align: top;\n",
              "    }\n",
              "\n",
              "    .dataframe thead th {\n",
              "        text-align: right;\n",
              "    }\n",
              "</style>\n",
              "<table border=\"1\" class=\"dataframe\">\n",
              "  <thead>\n",
              "    <tr style=\"text-align: right;\">\n",
              "      <th></th>\n",
              "      <th>emotion</th>\n",
              "      <th>text</th>\n",
              "    </tr>\n",
              "  </thead>\n",
              "  <tbody>\n",
              "    <tr>\n",
              "      <th>0</th>\n",
              "      <td>joy</td>\n",
              "      <td>On days when I feel close to my partner and ot...</td>\n",
              "    </tr>\n",
              "    <tr>\n",
              "      <th>1</th>\n",
              "      <td>fear</td>\n",
              "      <td>Every time I imagine that someone I love or I ...</td>\n",
              "    </tr>\n",
              "    <tr>\n",
              "      <th>2</th>\n",
              "      <td>anger</td>\n",
              "      <td>When I had been obviously unjustly treated and...</td>\n",
              "    </tr>\n",
              "    <tr>\n",
              "      <th>3</th>\n",
              "      <td>sadness</td>\n",
              "      <td>When I think about the short time that we live...</td>\n",
              "    </tr>\n",
              "    <tr>\n",
              "      <th>4</th>\n",
              "      <td>disgust</td>\n",
              "      <td>At a gathering I found myself involuntarily si...</td>\n",
              "    </tr>\n",
              "  </tbody>\n",
              "</table>\n",
              "</div>"
            ],
            "text/plain": [
              "   emotion                                               text\n",
              "0      joy  On days when I feel close to my partner and ot...\n",
              "1     fear  Every time I imagine that someone I love or I ...\n",
              "2    anger  When I had been obviously unjustly treated and...\n",
              "3  sadness  When I think about the short time that we live...\n",
              "4  disgust  At a gathering I found myself involuntarily si..."
            ]
          },
          "metadata": {
            "tags": []
          },
          "execution_count": 4
        }
      ]
    },
    {
      "cell_type": "code",
      "metadata": {
        "id": "m9z_vMSz0QCa"
      },
      "source": [
        "tokenizer = nltk.tokenize.TreebankWordTokenizer()\n",
        "stop_words = stopwords.words(\"english\")\n",
        "from nltk.stem.snowball import SnowballStemmer\n",
        "from nltk.stem.wordnet import WordNetLemmatizer\n",
        "\n",
        "stemmer = SnowballStemmer(\"english\")\n",
        "lemmatizer = WordNetLemmatizer()\n",
        "\n",
        "def process_text(text):\n",
        "    #convert text to lowercase\n",
        "    text= text.apply(lambda x:x.lower())\n",
        "    \n",
        "    #remove multiple spaces from text\n",
        "    text= text.apply(lambda x:re.sub(' +', ' ',x))\n",
        "    \n",
        "    # remove alpha numeric characeter from text using regex\n",
        "    text= text.apply(lambda x:x.lower())\n",
        "    text.str.replace(r\"\\d+\", \"\")\n",
        "    text.str.replace('[^\\w\\s]','')\n",
        "    text.str.replace(r\"[︰-＠]\", \"\")\n",
        "    text.str.replace(r\"\", \"\")\n",
        "    \n",
        "    #tokenize\n",
        "    text = text.apply(tokenizer.tokenize)\n",
        "    \n",
        "    #remove english stop words form text\n",
        "    text =text.apply(lambda x: [item for item in x if item not in stop_words])\n",
        "\n",
        "    #stemming text\n",
        "    # text =text.apply(lambda x: [stemmer.stem(e) for e in x])\n",
        "    \n",
        "    #stripping spaces from items of array of texts\n",
        "    text=text.apply(lambda x: [e.strip() for e in x])\n",
        "    \n",
        "    #remove all the characters from array of texts if the length of item is 1\n",
        "    text=text.apply( lambda x: [ y for y in x if len(y)>1 ])\n",
        "    \n",
        "    #remove all the digits from the text\n",
        "    text=text.apply( lambda x: [ y for y in x if not y.isdigit()] )\n",
        "    \n",
        "    # lemattizing text\n",
        "    # text = text.apply(lambda x: ' '.join(lemmatizer.lemmatize(token) for token in x))\n",
        "\n",
        "    # joining texts\n",
        "    text = text.apply(lambda x: ' '.join(token for token in x))\n",
        "\n",
        "    return text"
      ],
      "execution_count": 26,
      "outputs": []
    },
    {
      "cell_type": "code",
      "metadata": {
        "id": "7rU8xT7I0QFF"
      },
      "source": [
        "df = df.apply(lambda x: process_text(x) if x.name=='text' else x)"
      ],
      "execution_count": 27,
      "outputs": []
    },
    {
      "cell_type": "markdown",
      "metadata": {
        "id": "2t2br6-gz5vQ"
      },
      "source": [
        "# Count of Samples from each Classes"
      ]
    },
    {
      "cell_type": "code",
      "metadata": {
        "colab": {
          "base_uri": "https://localhost:8080/",
          "height": 191
        },
        "id": "Y7rCEg3qz5vU",
        "outputId": "c0eea839-1923-414c-d061-609a13ed6382"
      },
      "source": [
        "df.head()"
      ],
      "execution_count": 28,
      "outputs": [
        {
          "output_type": "execute_result",
          "data": {
            "text/html": [
              "<div>\n",
              "<style scoped>\n",
              "    .dataframe tbody tr th:only-of-type {\n",
              "        vertical-align: middle;\n",
              "    }\n",
              "\n",
              "    .dataframe tbody tr th {\n",
              "        vertical-align: top;\n",
              "    }\n",
              "\n",
              "    .dataframe thead th {\n",
              "        text-align: right;\n",
              "    }\n",
              "</style>\n",
              "<table border=\"1\" class=\"dataframe\">\n",
              "  <thead>\n",
              "    <tr style=\"text-align: right;\">\n",
              "      <th></th>\n",
              "      <th>emotion</th>\n",
              "      <th>text</th>\n",
              "    </tr>\n",
              "  </thead>\n",
              "  <tbody>\n",
              "    <tr>\n",
              "      <th>0</th>\n",
              "      <td>joy</td>\n",
              "      <td>days feel close partner friends. feel peace al...</td>\n",
              "    </tr>\n",
              "    <tr>\n",
              "      <th>1</th>\n",
              "      <td>fear</td>\n",
              "      <td>every time imagine someone love could contact ...</td>\n",
              "    </tr>\n",
              "    <tr>\n",
              "      <th>2</th>\n",
              "      <td>anger</td>\n",
              "      <td>obviously unjustly treated possibility elucida...</td>\n",
              "    </tr>\n",
              "    <tr>\n",
              "      <th>3</th>\n",
              "      <td>sadness</td>\n",
              "      <td>think short time live relate periods life thin...</td>\n",
              "    </tr>\n",
              "    <tr>\n",
              "      <th>4</th>\n",
              "      <td>disgust</td>\n",
              "      <td>gathering found involuntarily sitting next two...</td>\n",
              "    </tr>\n",
              "  </tbody>\n",
              "</table>\n",
              "</div>"
            ],
            "text/plain": [
              "   emotion                                               text\n",
              "0      joy  days feel close partner friends. feel peace al...\n",
              "1     fear  every time imagine someone love could contact ...\n",
              "2    anger  obviously unjustly treated possibility elucida...\n",
              "3  sadness  think short time live relate periods life thin...\n",
              "4  disgust  gathering found involuntarily sitting next two..."
            ]
          },
          "metadata": {
            "tags": []
          },
          "execution_count": 28
        }
      ]
    },
    {
      "cell_type": "code",
      "metadata": {
        "colab": {
          "base_uri": "https://localhost:8080/"
        },
        "id": "u0Ii1tY5z5vV",
        "outputId": "e24ce406-c285-4cac-f6ec-4e78659a917e"
      },
      "source": [
        "df[\"emotion\"].value_counts()"
      ],
      "execution_count": 29,
      "outputs": [
        {
          "output_type": "execute_result",
          "data": {
            "text/plain": [
              "joy        1082\n",
              "sadness    1074\n",
              "anger      1069\n",
              "fear       1063\n",
              "shame      1059\n",
              "disgust    1059\n",
              "guilt      1040\n",
              "Name: emotion, dtype: int64"
            ]
          },
          "metadata": {
            "tags": []
          },
          "execution_count": 29
        }
      ]
    },
    {
      "cell_type": "code",
      "metadata": {
        "id": "x-lpb7XRz5vV"
      },
      "source": [
        "import seaborn as sns"
      ],
      "execution_count": 30,
      "outputs": []
    },
    {
      "cell_type": "code",
      "metadata": {
        "colab": {
          "base_uri": "https://localhost:8080/",
          "height": 606
        },
        "id": "IIzuklzxz5vW",
        "outputId": "4485c24a-9043-4826-8d0b-4c05d2259d2c"
      },
      "source": [
        "plt.figure(figsize=(10,10))\n",
        "ax = sns.countplot(y=\"emotion\", data=df)"
      ],
      "execution_count": 31,
      "outputs": [
        {
          "output_type": "display_data",
          "data": {
            "image/png": "[encoded data removed]",
            "text/plain": [
              "<Figure size 720x720 with 1 Axes>"
            ]
          },
          "metadata": {
            "tags": [],
            "needs_background": "light"
          }
        }
      ]
    },
    {
      "cell_type": "markdown",
      "metadata": {
        "id": "k5IqsaQIz7B4"
      },
      "source": [
        "# Counter for most common 10 words"
      ]
    },
    {
      "cell_type": "code",
      "metadata": {
        "id": "JiElqxK9z5vX"
      },
      "source": [
        "from collections import Counter\n",
        "topten_words = Counter(\" \".join(df[\"text\"]).split()).most_common(10)"
      ],
      "execution_count": 32,
      "outputs": []
    },
    {
      "cell_type": "code",
      "metadata": {
        "colab": {
          "base_uri": "https://localhost:8080/"
        },
        "id": "BuLmpeJx9j9J",
        "outputId": "7f390288-51f4-426c-ea33-f8cda78b08fd"
      },
      "source": [
        "topten_words"
      ],
      "execution_count": 33,
      "outputs": [
        {
          "output_type": "execute_result",
          "data": {
            "text/plain": [
              "[('friend', 896),\n",
              " ('felt', 877),\n",
              " ('one', 687),\n",
              " (\"n't\", 558),\n",
              " ('time', 535),\n",
              " (\"'s\", 465),\n",
              " ('got', 434),\n",
              " ('mother', 404),\n",
              " ('would', 397),\n",
              " ('told', 385)]"
            ]
          },
          "metadata": {
            "tags": []
          },
          "execution_count": 33
        }
      ]
    },
    {
      "cell_type": "code",
      "metadata": {
        "id": "2Wof3vKD9l5W"
      },
      "source": [
        "indexes = []\n",
        "counts = []\n",
        "for index in range(10):\n",
        "  indexes.append(topten_words[index][0])\n",
        "  counts.append(topten_words[index][1])"
      ],
      "execution_count": 34,
      "outputs": []
    },
    {
      "cell_type": "code",
      "metadata": {
        "colab": {
          "base_uri": "https://localhost:8080/",
          "height": 570
        },
        "id": "ToMGyU9d_kPU",
        "outputId": "11e9d9d8-6745-4818-ebd5-2a8dc931d7f3"
      },
      "source": [
        "plt.figure(figsize=(8,8))\n",
        "ax = sns.barplot(indexes, counts, data=df)\n",
        "plt.xlabel(\"Top Count Words\")\n",
        "plt.ylabel(\"Counts of particular words\")"
      ],
      "execution_count": 35,
      "outputs": [
        {
          "output_type": "stream",
          "text": [
            "/usr/local/lib/python3.6/dist-packages/seaborn/_decorators.py:43: FutureWarning: Pass the following variables as keyword args: x, y. From version 0.12, the only valid positional argument will be `data`, and passing other arguments without an explicit keyword will result in an error or misinterpretation.\n",
            "  FutureWarning\n"
          ],
          "name": "stderr"
        },
        {
          "output_type": "execute_result",
          "data": {
            "text/plain": [
              "Text(0, 0.5, 'Counts of particular words')"
            ]
          },
          "metadata": {
            "tags": []
          },
          "execution_count": 35
        },
        {
          "output_type": "display_data",
          "data": {
            "image/png": "[encoded data removed]",
            "text/plain": [
              "<Figure size 576x576 with 1 Axes>"
            ]
          },
          "metadata": {
            "tags": [],
            "needs_background": "light"
          }
        }
      ]
    },
    {
      "cell_type": "markdown",
      "metadata": {
        "id": "SiL24nRLAJrs"
      },
      "source": [
        "# Maximum Frequency from each classes"
      ]
    },
    {
      "cell_type": "code",
      "metadata": {
        "id": "hl_UaTpDAOCw"
      },
      "source": [
        "def plot_class_words(indexes, counts, emotion_class):\n",
        "  plt.figure(figsize=(8,8))\n",
        "  ax = sns.barplot(indexes, counts, data=df)\n",
        "  plt.xlabel(f\"Top {emotion_class} Words\")\n",
        "  plt.ylabel(\"Counts of particular words\")\n",
        "\n",
        "def class_word_freq(emotion_class):\n",
        "  temp_df = df[df[\"emotion\"] == emotion_class]\n",
        "\n",
        "  topten_classwords = Counter(\" \".join(temp_df[\"text\"]).split()).most_common(10)\n",
        "\n",
        "  # print(topten_classwords)\n",
        "\n",
        "  indexes = []\n",
        "  counts = []\n",
        "  for index in range(10):\n",
        "    indexes.append(topten_classwords[index][0])\n",
        "    counts.append(topten_classwords[index][1])\n",
        "\n",
        "  plot_class_words(indexes, counts, emotion_class)\n",
        "\n"
      ],
      "execution_count": 36,
      "outputs": []
    },
    {
      "cell_type": "code",
      "metadata": {
        "colab": {
          "base_uri": "https://localhost:8080/",
          "height": 1000
        },
        "id": "wo5NcsJyAOFb",
        "outputId": "2d33b6f1-cf15-4dfb-e27e-c8e9bde416ec"
      },
      "source": [
        "for emotion in df[\"emotion\"].unique():\n",
        "  class_word_freq(emotion)\n",
        "\n",
        "# class_word_freq(\"joy\")"
      ],
      "execution_count": 37,
      "outputs": [
        {
          "output_type": "stream",
          "text": [
            "/usr/local/lib/python3.6/dist-packages/seaborn/_decorators.py:43: FutureWarning: Pass the following variables as keyword args: x, y. From version 0.12, the only valid positional argument will be `data`, and passing other arguments without an explicit keyword will result in an error or misinterpretation.\n",
            "  FutureWarning\n",
            "/usr/local/lib/python3.6/dist-packages/seaborn/_decorators.py:43: FutureWarning: Pass the following variables as keyword args: x, y. From version 0.12, the only valid positional argument will be `data`, and passing other arguments without an explicit keyword will result in an error or misinterpretation.\n",
            "  FutureWarning\n",
            "/usr/local/lib/python3.6/dist-packages/seaborn/_decorators.py:43: FutureWarning: Pass the following variables as keyword args: x, y. From version 0.12, the only valid positional argument will be `data`, and passing other arguments without an explicit keyword will result in an error or misinterpretation.\n",
            "  FutureWarning\n",
            "/usr/local/lib/python3.6/dist-packages/seaborn/_decorators.py:43: FutureWarning: Pass the following variables as keyword args: x, y. From version 0.12, the only valid positional argument will be `data`, and passing other arguments without an explicit keyword will result in an error or misinterpretation.\n",
            "  FutureWarning\n",
            "/usr/local/lib/python3.6/dist-packages/seaborn/_decorators.py:43: FutureWarning: Pass the following variables as keyword args: x, y. From version 0.12, the only valid positional argument will be `data`, and passing other arguments without an explicit keyword will result in an error or misinterpretation.\n",
            "  FutureWarning\n",
            "/usr/local/lib/python3.6/dist-packages/seaborn/_decorators.py:43: FutureWarning: Pass the following variables as keyword args: x, y. From version 0.12, the only valid positional argument will be `data`, and passing other arguments without an explicit keyword will result in an error or misinterpretation.\n",
            "  FutureWarning\n",
            "/usr/local/lib/python3.6/dist-packages/seaborn/_decorators.py:43: FutureWarning: Pass the following variables as keyword args: x, y. From version 0.12, the only valid positional argument will be `data`, and passing other arguments without an explicit keyword will result in an error or misinterpretation.\n",
            "  FutureWarning\n"
          ],
          "name": "stderr"
        },
        {
          "output_type": "display_data",
          "data": {
            "image/png": "[encoded data removed]",
            "text/plain": [
              "<Figure size 576x576 with 1 Axes>"
            ]
          },
          "metadata": {
            "tags": [],
            "needs_background": "light"
          }
        },
        {
          "output_type": "display_data",
          "data": {
            "image/png": "[encoded data removed]",
            "text/plain": [
              "<Figure size 576x576 with 1 Axes>"
            ]
          },
          "metadata": {
            "tags": [],
            "needs_background": "light"
          }
        },
        {
          "output_type": "display_data",
          "data": {
            "image/png": "[encoded data removed]",
            "text/plain": [
              "<Figure size 576x576 with 1 Axes>"
            ]
          },
          "metadata": {
            "tags": [],
            "needs_background": "light"
          }
        },
        {
          "output_type": "display_data",
          "data": {
            "image/png": "[encoded data removed]",
            "text/plain": [
              "<Figure size 576x576 with 1 Axes>"
            ]
          },
          "metadata": {
            "tags": [],
            "needs_background": "light"
          }
        },
        {
          "output_type": "display_data",
          "data": {
            "image/png": "[encoded data removed]",
            "text/plain": [
              "<Figure size 576x576 with 1 Axes>"
            ]
          },
          "metadata": {
            "tags": [],
            "needs_background": "light"
          }
        },
        {
          "output_type": "display_data",
          "data": {
            "image/png": "[encoded data removed]",
            "text/plain": [
              "<Figure size 576x576 with 1 Axes>"
            ]
          },
          "metadata": {
            "tags": [],
            "needs_background": "light"
          }
        },
        {
          "output_type": "display_data",
          "data": {
            "image/png": "[encoded data removed]",
            "text/plain": [
              "<Figure size 576x576 with 1 Axes>"
            ]
          },
          "metadata": {
            "tags": [],
            "needs_background": "light"
          }
        }
      ]
    },
    {
      "cell_type": "code",
      "metadata": {
        "id": "w-BvHA7MJegb"
      },
      "source": [
        ""
      ],
      "execution_count": 15,
      "outputs": []
    }
  ]
}